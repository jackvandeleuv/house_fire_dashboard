{
 "cells": [
  {
   "cell_type": "code",
   "execution_count": 16,
   "metadata": {},
   "outputs": [],
   "source": [
    "import pandas as pd\n",
    "import numpy as np\n",
    "import seaborn as sns\n",
    "import matplotlib.pyplot as plt\n",
    "import math\n",
    "import geopandas as gpd\n",
    "from shapely.geometry import Point\n",
    "\n",
    "pd.set_option('display.max_columns', None)\n",
    "\n",
    "WORKING_DIRECTORY = '../data/processed/'"
   ]
  },
  {
   "attachments": {},
   "cell_type": "markdown",
   "metadata": {},
   "source": [
    "# Merge datasets"
   ]
  },
  {
   "cell_type": "code",
   "execution_count": 17,
   "metadata": {},
   "outputs": [],
   "source": [
    "PATHS_TO_MERGE = [\n",
    "    'reac_13-19.csv',\n",
    "    'top_5_incident_count.csv',\n",
    "    'total_incident_count.csv',\n",
    "    'other_nfirs_stats.csv',\n",
    "    'populations_clean.csv'\n",
    "]"
   ]
  },
  {
   "attachments": {},
   "cell_type": "markdown",
   "metadata": {},
   "source": [
    "Load the DataFrames into a list."
   ]
  },
  {
   "cell_type": "code",
   "execution_count": 18,
   "metadata": {},
   "outputs": [],
   "source": [
    "dfs = [\n",
    "    pd.read_csv(WORKING_DIRECTORY + path) \\\n",
    "    for path in PATHS_TO_MERGE\n",
    "]"
   ]
  },
  {
   "attachments": {},
   "cell_type": "markdown",
   "metadata": {},
   "source": [
    "Merge the DataFrames based on NFIRS and REAC data."
   ]
  },
  {
   "cell_type": "code",
   "execution_count": 19,
   "metadata": {},
   "outputs": [],
   "source": [
    "merged_df = pd.merge(dfs[0], dfs[1], on='CITYSTATE', how='inner')\n",
    "merged_df = pd.merge(merged_df, dfs[2], on='CITYSTATE', how='inner')\n",
    "merged_df = pd.merge(merged_df, dfs[3], on='CITYSTATE', how='inner')"
   ]
  },
  {
   "attachments": {},
   "cell_type": "markdown",
   "metadata": {},
   "source": [
    "Do a left-join add Census population count to locations that have it."
   ]
  },
  {
   "cell_type": "code",
   "execution_count": 20,
   "metadata": {},
   "outputs": [],
   "source": [
    "merged_df = pd.merge(merged_df, dfs[4], on='CITYSTATE', how='left')"
   ]
  },
  {
   "attachments": {},
   "cell_type": "markdown",
   "metadata": {},
   "source": [
    "Calculate nulls per column."
   ]
  },
  {
   "cell_type": "code",
   "execution_count": 21,
   "metadata": {},
   "outputs": [
    {
     "data": {
      "text/plain": [
       "CITYSTATE               0.000000\n",
       "AVG_SCORE               0.000000\n",
       "LATITUDE                0.000000\n",
       "LONGITUDE               0.000000\n",
       "COUNT_111               0.000000\n",
       "COUNT_113               0.000000\n",
       "COUNT_131               0.000000\n",
       "COUNT_151               0.000000\n",
       "COUNT_142               0.000000\n",
       "TOTAL_INCIDENT_COUNT    0.000000\n",
       "AVG_SPREAD              0.000000\n",
       "AVG_MONEY_LOST          0.000000\n",
       "AVG_FATALITIES          0.000000\n",
       "AVG_INJURIES            0.000000\n",
       "AVG_ALARMS              0.000000\n",
       "SUPPORT                 0.000000\n",
       "POPULATION              0.086273\n",
       "dtype: float64"
      ]
     },
     "execution_count": 21,
     "metadata": {},
     "output_type": "execute_result"
    }
   ],
   "source": [
    "merged_df.isnull().sum() / merged_df.shape[0]"
   ]
  },
  {
   "attachments": {},
   "cell_type": "markdown",
   "metadata": {},
   "source": [
    "# Clean and format merged dataset"
   ]
  },
  {
   "cell_type": "code",
   "execution_count": 22,
   "metadata": {},
   "outputs": [],
   "source": [
    "def adjust_by_population(count: float, population: float):\n",
    "    if count == 0:\n",
    "        return 0.0\n",
    "\n",
    "    if math.isnan(count) or math.isnan(population):\n",
    "        return 'Not available.'\n",
    "    \n",
    "    if count and population:\n",
    "        return count / population\n",
    "\n",
    "columns_to_adjust = [\n",
    "    'COUNT_111',\n",
    "    'COUNT_113',\n",
    "    'COUNT_131',\n",
    "    'COUNT_151',\n",
    "    'COUNT_142',\n",
    "    'TOTAL_INCIDENT_COUNT'\n",
    "]\n",
    "\n",
    "for column in columns_to_adjust:\n",
    "    merged_df[column + '_ADJ'] = merged_df \\\n",
    "        .apply(lambda x: adjust_by_population(x[column], x['POPULATION']), axis=1)"
   ]
  },
  {
   "attachments": {},
   "cell_type": "markdown",
   "metadata": {},
   "source": [
    "Drop the columns with raw counts."
   ]
  },
  {
   "cell_type": "code",
   "execution_count": 23,
   "metadata": {},
   "outputs": [],
   "source": [
    "COLUMNS_TO_DROP = [\n",
    "    'COUNT_111', \n",
    "    'COUNT_113', \n",
    "    'COUNT_131', \n",
    "    'COUNT_151', \n",
    "    'COUNT_142',\n",
    "    'TOTAL_INCIDENT_COUNT'\n",
    "]\n",
    "df = merged_df.drop(labels=COLUMNS_TO_DROP, axis=1)"
   ]
  },
  {
   "cell_type": "code",
   "execution_count": 24,
   "metadata": {},
   "outputs": [],
   "source": [
    "df['CITY'] = df.CITYSTATE.str.split(',').str.get(0)\n",
    "df['STATE'] = df.CITYSTATE.str.split(',').str.get(1)"
   ]
  },
  {
   "cell_type": "code",
   "execution_count": 25,
   "metadata": {},
   "outputs": [],
   "source": [
    "df = df.drop(columns='CITYSTATE', axis=1)"
   ]
  },
  {
   "cell_type": "code",
   "execution_count": 26,
   "metadata": {},
   "outputs": [
    {
     "data": {
      "text/html": [
       "<div>\n",
       "<style scoped>\n",
       "    .dataframe tbody tr th:only-of-type {\n",
       "        vertical-align: middle;\n",
       "    }\n",
       "\n",
       "    .dataframe tbody tr th {\n",
       "        vertical-align: top;\n",
       "    }\n",
       "\n",
       "    .dataframe thead th {\n",
       "        text-align: right;\n",
       "    }\n",
       "</style>\n",
       "<table border=\"1\" class=\"dataframe\">\n",
       "  <thead>\n",
       "    <tr style=\"text-align: right;\">\n",
       "      <th></th>\n",
       "      <th>AVG_SCORE</th>\n",
       "      <th>LATITUDE</th>\n",
       "      <th>LONGITUDE</th>\n",
       "      <th>AVG_SPREAD</th>\n",
       "      <th>AVG_MONEY_LOST</th>\n",
       "      <th>AVG_FATALITIES</th>\n",
       "      <th>AVG_INJURIES</th>\n",
       "      <th>AVG_ALARMS</th>\n",
       "      <th>SUPPORT</th>\n",
       "      <th>POPULATION</th>\n",
       "      <th>COUNT_111_ADJ</th>\n",
       "      <th>COUNT_113_ADJ</th>\n",
       "      <th>COUNT_131_ADJ</th>\n",
       "      <th>COUNT_151_ADJ</th>\n",
       "      <th>COUNT_142_ADJ</th>\n",
       "      <th>TOTAL_INCIDENT_COUNT_ADJ</th>\n",
       "      <th>CITY</th>\n",
       "      <th>STATE</th>\n",
       "    </tr>\n",
       "  </thead>\n",
       "  <tbody>\n",
       "    <tr>\n",
       "      <th>6339</th>\n",
       "      <td>91.666667</td>\n",
       "      <td>41.993003</td>\n",
       "      <td>-73.199431</td>\n",
       "      <td>0.000000</td>\n",
       "      <td>3.861004</td>\n",
       "      <td>0.000000</td>\n",
       "      <td>0.007722</td>\n",
       "      <td>0.003861</td>\n",
       "      <td>259</td>\n",
       "      <td>1592.0</td>\n",
       "      <td>0.009422</td>\n",
       "      <td>0.054648</td>\n",
       "      <td>0.002513</td>\n",
       "      <td>0.008166</td>\n",
       "      <td>0.000628</td>\n",
       "      <td>0.099874</td>\n",
       "      <td>NORFOLK</td>\n",
       "      <td>CT</td>\n",
       "    </tr>\n",
       "    <tr>\n",
       "      <th>899</th>\n",
       "      <td>80.000000</td>\n",
       "      <td>40.145905</td>\n",
       "      <td>-74.703372</td>\n",
       "      <td>0.000000</td>\n",
       "      <td>432.050857</td>\n",
       "      <td>0.000000</td>\n",
       "      <td>0.001658</td>\n",
       "      <td>0.048646</td>\n",
       "      <td>1809</td>\n",
       "      <td>3991.0</td>\n",
       "      <td>0.03984</td>\n",
       "      <td>0.058632</td>\n",
       "      <td>0.021799</td>\n",
       "      <td>0.016537</td>\n",
       "      <td>0.007016</td>\n",
       "      <td>0.19995</td>\n",
       "      <td>BORDENTOWN</td>\n",
       "      <td>NJ</td>\n",
       "    </tr>\n",
       "    <tr>\n",
       "      <th>4684</th>\n",
       "      <td>85.000000</td>\n",
       "      <td>48.044056</td>\n",
       "      <td>-98.353826</td>\n",
       "      <td>0.000000</td>\n",
       "      <td>14159.090909</td>\n",
       "      <td>0.000000</td>\n",
       "      <td>0.000000</td>\n",
       "      <td>0.000000</td>\n",
       "      <td>22</td>\n",
       "      <td>51.0</td>\n",
       "      <td>0.0</td>\n",
       "      <td>0.0</td>\n",
       "      <td>0.019608</td>\n",
       "      <td>0.078431</td>\n",
       "      <td>0.0</td>\n",
       "      <td>0.372549</td>\n",
       "      <td>LAKOTA</td>\n",
       "      <td>ND</td>\n",
       "    </tr>\n",
       "    <tr>\n",
       "      <th>5320</th>\n",
       "      <td>96.750000</td>\n",
       "      <td>45.950643</td>\n",
       "      <td>-86.240300</td>\n",
       "      <td>0.000000</td>\n",
       "      <td>18157.425743</td>\n",
       "      <td>0.000000</td>\n",
       "      <td>0.000000</td>\n",
       "      <td>0.623762</td>\n",
       "      <td>101</td>\n",
       "      <td>1050.0</td>\n",
       "      <td>0.02</td>\n",
       "      <td>0.002857</td>\n",
       "      <td>0.006667</td>\n",
       "      <td>0.005714</td>\n",
       "      <td>0.000952</td>\n",
       "      <td>0.06381</td>\n",
       "      <td>MANISTIQUE</td>\n",
       "      <td>MI</td>\n",
       "    </tr>\n",
       "    <tr>\n",
       "      <th>4634</th>\n",
       "      <td>90.666667</td>\n",
       "      <td>30.206595</td>\n",
       "      <td>-82.646386</td>\n",
       "      <td>0.017487</td>\n",
       "      <td>4206.628464</td>\n",
       "      <td>0.000807</td>\n",
       "      <td>0.004305</td>\n",
       "      <td>0.857950</td>\n",
       "      <td>3717</td>\n",
       "      <td>12478.0</td>\n",
       "      <td>0.018673</td>\n",
       "      <td>0.003686</td>\n",
       "      <td>0.020356</td>\n",
       "      <td>0.031335</td>\n",
       "      <td>0.02268</td>\n",
       "      <td>0.146418</td>\n",
       "      <td>LAKE CITY</td>\n",
       "      <td>FL</td>\n",
       "    </tr>\n",
       "  </tbody>\n",
       "</table>\n",
       "</div>"
      ],
      "text/plain": [
       "      AVG_SCORE   LATITUDE  LONGITUDE  AVG_SPREAD  AVG_MONEY_LOST  \\\n",
       "6339  91.666667  41.993003 -73.199431    0.000000        3.861004   \n",
       "899   80.000000  40.145905 -74.703372    0.000000      432.050857   \n",
       "4684  85.000000  48.044056 -98.353826    0.000000    14159.090909   \n",
       "5320  96.750000  45.950643 -86.240300    0.000000    18157.425743   \n",
       "4634  90.666667  30.206595 -82.646386    0.017487     4206.628464   \n",
       "\n",
       "      AVG_FATALITIES  AVG_INJURIES  AVG_ALARMS  SUPPORT  POPULATION  \\\n",
       "6339        0.000000      0.007722    0.003861      259      1592.0   \n",
       "899         0.000000      0.001658    0.048646     1809      3991.0   \n",
       "4684        0.000000      0.000000    0.000000       22        51.0   \n",
       "5320        0.000000      0.000000    0.623762      101      1050.0   \n",
       "4634        0.000807      0.004305    0.857950     3717     12478.0   \n",
       "\n",
       "     COUNT_111_ADJ COUNT_113_ADJ COUNT_131_ADJ COUNT_151_ADJ COUNT_142_ADJ  \\\n",
       "6339      0.009422      0.054648      0.002513      0.008166      0.000628   \n",
       "899        0.03984      0.058632      0.021799      0.016537      0.007016   \n",
       "4684           0.0           0.0      0.019608      0.078431           0.0   \n",
       "5320          0.02      0.002857      0.006667      0.005714      0.000952   \n",
       "4634      0.018673      0.003686      0.020356      0.031335       0.02268   \n",
       "\n",
       "     TOTAL_INCIDENT_COUNT_ADJ        CITY STATE  \n",
       "6339                 0.099874     NORFOLK    CT  \n",
       "899                   0.19995  BORDENTOWN    NJ  \n",
       "4684                 0.372549      LAKOTA    ND  \n",
       "5320                  0.06381  MANISTIQUE    MI  \n",
       "4634                 0.146418   LAKE CITY    FL  "
      ]
     },
     "execution_count": 26,
     "metadata": {},
     "output_type": "execute_result"
    }
   ],
   "source": [
    "df.sample(5)"
   ]
  },
  {
   "attachments": {},
   "cell_type": "markdown",
   "metadata": {},
   "source": [
    "Export to JSON."
   ]
  },
  {
   "cell_type": "code",
   "execution_count": 29,
   "metadata": {},
   "outputs": [],
   "source": [
    "df.to_json('../dashboard/dashboard.json', orient='records')"
   ]
  },
  {
   "attachments": {},
   "cell_type": "markdown",
   "metadata": {},
   "source": [
    "Add fire risk index column"
   ]
  },
  {
   "attachments": {},
   "cell_type": "markdown",
   "metadata": {},
   "source": [
    "# wtf"
   ]
  },
  {
   "cell_type": "code",
   "execution_count": 32,
   "metadata": {},
   "outputs": [
    {
     "data": {
      "text/html": [
       "<div>\n",
       "<style scoped>\n",
       "    .dataframe tbody tr th:only-of-type {\n",
       "        vertical-align: middle;\n",
       "    }\n",
       "\n",
       "    .dataframe tbody tr th {\n",
       "        vertical-align: top;\n",
       "    }\n",
       "\n",
       "    .dataframe thead th {\n",
       "        text-align: right;\n",
       "    }\n",
       "</style>\n",
       "<table border=\"1\" class=\"dataframe\">\n",
       "  <thead>\n",
       "    <tr style=\"text-align: right;\">\n",
       "      <th></th>\n",
       "      <th>AVG_SCORE</th>\n",
       "      <th>LATITUDE</th>\n",
       "      <th>LONGITUDE</th>\n",
       "      <th>AVG_SPREAD</th>\n",
       "      <th>AVG_MONEY_LOST</th>\n",
       "      <th>AVG_FATALITIES</th>\n",
       "      <th>AVG_INJURIES</th>\n",
       "      <th>AVG_ALARMS</th>\n",
       "      <th>SUPPORT</th>\n",
       "      <th>POPULATION</th>\n",
       "      <th>COUNT_111_ADJ</th>\n",
       "      <th>COUNT_113_ADJ</th>\n",
       "      <th>COUNT_131_ADJ</th>\n",
       "      <th>COUNT_151_ADJ</th>\n",
       "      <th>COUNT_142_ADJ</th>\n",
       "      <th>TOTAL_INCIDENT_COUNT_ADJ</th>\n",
       "      <th>CITY</th>\n",
       "      <th>STATE</th>\n",
       "    </tr>\n",
       "  </thead>\n",
       "  <tbody>\n",
       "    <tr>\n",
       "      <th>8730</th>\n",
       "      <td>85.666667</td>\n",
       "      <td>39.037472</td>\n",
       "      <td>-95.706783</td>\n",
       "      <td>0.018647</td>\n",
       "      <td>4262.552264</td>\n",
       "      <td>0.001598</td>\n",
       "      <td>0.015557</td>\n",
       "      <td>0.784763</td>\n",
       "      <td>9385</td>\n",
       "      <td>126515.0</td>\n",
       "      <td>0.009485</td>\n",
       "      <td>0.002182</td>\n",
       "      <td>0.00479</td>\n",
       "      <td>0.006394</td>\n",
       "      <td>0.004877</td>\n",
       "      <td>0.050057</td>\n",
       "      <td>TOPEKA</td>\n",
       "      <td>KS</td>\n",
       "    </tr>\n",
       "    <tr>\n",
       "      <th>8731</th>\n",
       "      <td>85.666667</td>\n",
       "      <td>39.037472</td>\n",
       "      <td>-95.706783</td>\n",
       "      <td>0.018647</td>\n",
       "      <td>4262.552264</td>\n",
       "      <td>0.001598</td>\n",
       "      <td>0.015557</td>\n",
       "      <td>0.784763</td>\n",
       "      <td>9385</td>\n",
       "      <td>723.0</td>\n",
       "      <td>1.659751</td>\n",
       "      <td>0.381743</td>\n",
       "      <td>0.838174</td>\n",
       "      <td>1.118949</td>\n",
       "      <td>0.853389</td>\n",
       "      <td>8.759336</td>\n",
       "      <td>TOPEKA</td>\n",
       "      <td>KS</td>\n",
       "    </tr>\n",
       "  </tbody>\n",
       "</table>\n",
       "</div>"
      ],
      "text/plain": [
       "      AVG_SCORE   LATITUDE  LONGITUDE  AVG_SPREAD  AVG_MONEY_LOST  \\\n",
       "8730  85.666667  39.037472 -95.706783    0.018647     4262.552264   \n",
       "8731  85.666667  39.037472 -95.706783    0.018647     4262.552264   \n",
       "\n",
       "      AVG_FATALITIES  AVG_INJURIES  AVG_ALARMS  SUPPORT  POPULATION  \\\n",
       "8730        0.001598      0.015557    0.784763     9385    126515.0   \n",
       "8731        0.001598      0.015557    0.784763     9385       723.0   \n",
       "\n",
       "     COUNT_111_ADJ COUNT_113_ADJ COUNT_131_ADJ COUNT_151_ADJ COUNT_142_ADJ  \\\n",
       "8730      0.009485      0.002182       0.00479      0.006394      0.004877   \n",
       "8731      1.659751      0.381743      0.838174      1.118949      0.853389   \n",
       "\n",
       "     TOTAL_INCIDENT_COUNT_ADJ    CITY STATE  \n",
       "8730                 0.050057  TOPEKA    KS  \n",
       "8731                 8.759336  TOPEKA    KS  "
      ]
     },
     "execution_count": 32,
     "metadata": {},
     "output_type": "execute_result"
    }
   ],
   "source": [
    "df[df.CITY.str.contains('TOPEKA')]"
   ]
  }
 ],
 "metadata": {
  "kernelspec": {
   "display_name": "base",
   "language": "python",
   "name": "python3"
  },
  "language_info": {
   "codemirror_mode": {
    "name": "ipython",
    "version": 3
   },
   "file_extension": ".py",
   "mimetype": "text/x-python",
   "name": "python",
   "nbconvert_exporter": "python",
   "pygments_lexer": "ipython3",
   "version": "3.10.9"
  },
  "orig_nbformat": 4
 },
 "nbformat": 4,
 "nbformat_minor": 2
}
