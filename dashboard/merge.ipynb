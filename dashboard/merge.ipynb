{
 "cells": [
  {
   "cell_type": "code",
   "execution_count": 215,
   "metadata": {},
   "outputs": [],
   "source": [
    "import pandas as pd\n",
    "import numpy as np\n",
    "import seaborn as sns\n",
    "import matplotlib.pyplot as plt\n",
    "import math\n",
    "\n",
    "pd.set_option('display.max_columns', None)\n",
    "\n",
    "WORKING_DIRECTORY = '../data/processed/'"
   ]
  },
  {
   "attachments": {},
   "cell_type": "markdown",
   "metadata": {},
   "source": [
    "# Merge datasets"
   ]
  },
  {
   "cell_type": "code",
   "execution_count": 216,
   "metadata": {},
   "outputs": [],
   "source": [
    "PATHS_TO_MERGE = [\n",
    "    'reac_13-19.csv',\n",
    "    'top_5_incident_count.csv',\n",
    "    'total_incident_count.csv',\n",
    "    'other_nfirs_stats.csv',\n",
    "    'populations_clean.csv'\n",
    "]"
   ]
  },
  {
   "attachments": {},
   "cell_type": "markdown",
   "metadata": {},
   "source": [
    "Load the DataFrames into a list."
   ]
  },
  {
   "cell_type": "code",
   "execution_count": 217,
   "metadata": {},
   "outputs": [],
   "source": [
    "dfs = [\n",
    "    pd.read_csv(WORKING_DIRECTORY + path) \\\n",
    "    for path in PATHS_TO_MERGE\n",
    "]"
   ]
  },
  {
   "attachments": {},
   "cell_type": "markdown",
   "metadata": {},
   "source": [
    "Merge the DataFrames based on NFIRS and REAC data."
   ]
  },
  {
   "cell_type": "code",
   "execution_count": 218,
   "metadata": {},
   "outputs": [],
   "source": [
    "merged_df = pd.merge(dfs[0], dfs[1], on='CITYSTATE', how='inner')\n",
    "merged_df = pd.merge(merged_df, dfs[2], on='CITYSTATE', how='inner')\n",
    "merged_df = pd.merge(merged_df, dfs[3], on='CITYSTATE', how='inner')"
   ]
  },
  {
   "attachments": {},
   "cell_type": "markdown",
   "metadata": {},
   "source": [
    "Do a left-join add Census population count to locations that have it."
   ]
  },
  {
   "cell_type": "code",
   "execution_count": 219,
   "metadata": {},
   "outputs": [],
   "source": [
    "merged_df = pd.merge(merged_df, dfs[4], on='CITYSTATE', how='left')"
   ]
  },
  {
   "attachments": {},
   "cell_type": "markdown",
   "metadata": {},
   "source": [
    "Calculate nulls per column."
   ]
  },
  {
   "cell_type": "code",
   "execution_count": 220,
   "metadata": {},
   "outputs": [
    {
     "data": {
      "text/plain": [
       "CITYSTATE               0.000000\n",
       "AVG_SCORE               0.000000\n",
       "LATITUDE                0.000000\n",
       "LONGITUDE               0.000000\n",
       "COUNT_111               0.000000\n",
       "COUNT_113               0.000000\n",
       "COUNT_131               0.000000\n",
       "COUNT_151               0.000000\n",
       "COUNT_142               0.000000\n",
       "TOTAL_INCIDENT_COUNT    0.000000\n",
       "AVG_SPREAD              0.000000\n",
       "AVG_MONEY_LOST          0.000000\n",
       "AVG_FATALITIES          0.000000\n",
       "AVG_INJURIES            0.000000\n",
       "AVG_ALARMS              0.000000\n",
       "SUPPORT                 0.000000\n",
       "POPULATION              0.086273\n",
       "dtype: float64"
      ]
     },
     "execution_count": 220,
     "metadata": {},
     "output_type": "execute_result"
    }
   ],
   "source": [
    "merged_df.isnull().sum() / merged_df.shape[0]"
   ]
  },
  {
   "attachments": {},
   "cell_type": "markdown",
   "metadata": {},
   "source": [
    "# Clean and format merged dataset"
   ]
  },
  {
   "cell_type": "code",
   "execution_count": 221,
   "metadata": {},
   "outputs": [],
   "source": [
    "def adjust_by_population(count: float, population: float):\n",
    "    if count == 0:\n",
    "        return 0.0\n",
    "\n",
    "    if math.isnan(count) or math.isnan(population):\n",
    "        return 'Not available.'\n",
    "    \n",
    "    if count and population:\n",
    "        return count / population\n",
    "\n",
    "columns_to_adjust = [\n",
    "    'COUNT_111',\n",
    "    'COUNT_113',\n",
    "    'COUNT_131',\n",
    "    'COUNT_151',\n",
    "    'COUNT_142',\n",
    "    'TOTAL_INCIDENT_COUNT'\n",
    "]\n",
    "\n",
    "for column in columns_to_adjust:\n",
    "    merged_df[column + '_ADJ'] = merged_df \\\n",
    "        .apply(lambda x: adjust_by_population(x[column], x['POPULATION']), axis=1)"
   ]
  },
  {
   "attachments": {},
   "cell_type": "markdown",
   "metadata": {},
   "source": [
    "Drop the columns with raw counts."
   ]
  },
  {
   "cell_type": "code",
   "execution_count": 222,
   "metadata": {},
   "outputs": [],
   "source": [
    "COLUMNS_TO_DROP = [\n",
    "    'COUNT_111', \n",
    "    'COUNT_113', \n",
    "    'COUNT_131', \n",
    "    'COUNT_151', \n",
    "    'COUNT_142',\n",
    "    'TOTAL_INCIDENT_COUNT'\n",
    "]\n",
    "df = merged_df.drop(labels=COLUMNS_TO_DROP, axis=1)"
   ]
  },
  {
   "cell_type": "code",
   "execution_count": 223,
   "metadata": {},
   "outputs": [],
   "source": [
    "df['CITY'] = df.CITYSTATE.str.split(',').str.get(0)\n",
    "df['STATE'] = df.CITYSTATE.str.split(',').str.get(1)"
   ]
  },
  {
   "cell_type": "code",
   "execution_count": 224,
   "metadata": {},
   "outputs": [],
   "source": [
    "df = df.drop(columns='CITYSTATE', axis=1)"
   ]
  },
  {
   "cell_type": "code",
   "execution_count": 225,
   "metadata": {},
   "outputs": [],
   "source": [
    "# df.to_csv(WORKING_DIRECTORY + 'dashboard.csv',\n",
    "#           sep=',',\n",
    "#           index=False)\n",
    "\n",
    "df.to_json(WORKING_DIRECTORY + 'dashboard.json')"
   ]
  },
  {
   "attachments": {},
   "cell_type": "markdown",
   "metadata": {},
   "source": [
    "Add fire risk index column"
   ]
  },
  {
   "cell_type": "code",
   "execution_count": null,
   "metadata": {},
   "outputs": [],
   "source": []
  }
 ],
 "metadata": {
  "kernelspec": {
   "display_name": "base",
   "language": "python",
   "name": "python3"
  },
  "language_info": {
   "codemirror_mode": {
    "name": "ipython",
    "version": 3
   },
   "file_extension": ".py",
   "mimetype": "text/x-python",
   "name": "python",
   "nbconvert_exporter": "python",
   "pygments_lexer": "ipython3",
   "version": "3.10.9"
  },
  "orig_nbformat": 4
 },
 "nbformat": 4,
 "nbformat_minor": 2
}
