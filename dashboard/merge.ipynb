{
 "cells": [
  {
   "cell_type": "code",
   "execution_count": 1,
   "metadata": {},
   "outputs": [],
   "source": [
    "import pandas as pd\n",
    "import numpy as np\n",
    "import seaborn as sns\n",
    "import matplotlib.pyplot as plt\n",
    "import math\n",
    "import geopandas as gpd\n",
    "import gzip \n",
    "\n",
    "pd.set_option('display.max_columns', None)\n",
    "\n",
    "WORKING_DIRECTORY = '../data/processed/'"
   ]
  },
  {
   "attachments": {},
   "cell_type": "markdown",
   "metadata": {},
   "source": [
    "# Merge datasets"
   ]
  },
  {
   "cell_type": "code",
   "execution_count": 2,
   "metadata": {},
   "outputs": [],
   "source": [
    "PATHS_TO_MERGE = [\n",
    "    'reac_13-19.csv',\n",
    "    'top_5_incident_count.csv',\n",
    "    'total_incident_count.csv',\n",
    "    'other_nfirs_stats.csv',\n",
    "    'populations_clean.csv'\n",
    "]"
   ]
  },
  {
   "attachments": {},
   "cell_type": "markdown",
   "metadata": {},
   "source": [
    "Load the DataFrames into a list."
   ]
  },
  {
   "cell_type": "code",
   "execution_count": 3,
   "metadata": {},
   "outputs": [],
   "source": [
    "dfs = [\n",
    "    pd.read_csv(WORKING_DIRECTORY + path) \\\n",
    "    for path in PATHS_TO_MERGE\n",
    "]"
   ]
  },
  {
   "attachments": {},
   "cell_type": "markdown",
   "metadata": {},
   "source": [
    "Merge the DataFrames based on NFIRS and REAC data."
   ]
  },
  {
   "cell_type": "code",
   "execution_count": 4,
   "metadata": {},
   "outputs": [],
   "source": [
    "merged_df = pd.merge(dfs[0], dfs[1], on='CITYSTATE', how='inner')\n",
    "merged_df = pd.merge(merged_df, dfs[2], on='CITYSTATE', how='inner')\n",
    "merged_df = pd.merge(merged_df, dfs[3], on='CITYSTATE', how='inner')\n",
    "merged_df = pd.merge(merged_df, dfs[4], on='CITYSTATE', how='left')"
   ]
  },
  {
   "attachments": {},
   "cell_type": "markdown",
   "metadata": {},
   "source": [
    "# Clean and format merged dataset"
   ]
  },
  {
   "attachments": {},
   "cell_type": "markdown",
   "metadata": {},
   "source": [
    "We have significant numbers of duplicates, because the census reports data on locations at different levels of granularity. For each match, we'll keep the one with the highest population."
   ]
  },
  {
   "cell_type": "code",
   "execution_count": 5,
   "metadata": {},
   "outputs": [
    {
     "data": {
      "text/html": [
       "<div>\n",
       "<style scoped>\n",
       "    .dataframe tbody tr th:only-of-type {\n",
       "        vertical-align: middle;\n",
       "    }\n",
       "\n",
       "    .dataframe tbody tr th {\n",
       "        vertical-align: top;\n",
       "    }\n",
       "\n",
       "    .dataframe thead th {\n",
       "        text-align: right;\n",
       "    }\n",
       "</style>\n",
       "<table border=\"1\" class=\"dataframe\">\n",
       "  <thead>\n",
       "    <tr style=\"text-align: right;\">\n",
       "      <th></th>\n",
       "      <th>CITYSTATE</th>\n",
       "      <th>LATITUDE</th>\n",
       "      <th>LONGITUDE</th>\n",
       "      <th>AVG_SCORE_MULTIFAMILY</th>\n",
       "      <th>AVG_SCORE_PUBLIC</th>\n",
       "      <th>COUNT_111</th>\n",
       "      <th>COUNT_113</th>\n",
       "      <th>COUNT_131</th>\n",
       "      <th>COUNT_151</th>\n",
       "      <th>COUNT_142</th>\n",
       "      <th>TOTAL_INCIDENT_COUNT</th>\n",
       "      <th>AVG_SPREAD</th>\n",
       "      <th>AVG_MONEY_LOST</th>\n",
       "      <th>AVG_FATALITIES</th>\n",
       "      <th>AVG_INJURIES</th>\n",
       "      <th>AVG_ALARMS</th>\n",
       "      <th>SUPPORT</th>\n",
       "      <th>SUMLEV</th>\n",
       "      <th>STATE</th>\n",
       "      <th>COUNTY</th>\n",
       "      <th>PLACE</th>\n",
       "      <th>COUSUB</th>\n",
       "      <th>CONCIT</th>\n",
       "      <th>PRIMGEO_FLAG</th>\n",
       "      <th>FUNCSTAT</th>\n",
       "      <th>NAME</th>\n",
       "      <th>STNAME</th>\n",
       "      <th>POPULATION</th>\n",
       "      <th>POPESTIMATE2020</th>\n",
       "      <th>POPESTIMATE2021</th>\n",
       "      <th>TYPE</th>\n",
       "    </tr>\n",
       "  </thead>\n",
       "  <tbody>\n",
       "    <tr>\n",
       "      <th>12720</th>\n",
       "      <td>NEW YORK CITY,NY</td>\n",
       "      <td>40.779851</td>\n",
       "      <td>-73.960545</td>\n",
       "      <td>80.750000</td>\n",
       "      <td>NaN</td>\n",
       "      <td>14684</td>\n",
       "      <td>103653</td>\n",
       "      <td>10502</td>\n",
       "      <td>4940</td>\n",
       "      <td>32168</td>\n",
       "      <td>213532</td>\n",
       "      <td>0.0</td>\n",
       "      <td>0.0</td>\n",
       "      <td>0.000431</td>\n",
       "      <td>0.025901</td>\n",
       "      <td>0.0</td>\n",
       "      <td>452378</td>\n",
       "      <td>NaN</td>\n",
       "      <td>NaN</td>\n",
       "      <td>NaN</td>\n",
       "      <td>NaN</td>\n",
       "      <td>NaN</td>\n",
       "      <td>NaN</td>\n",
       "      <td>NaN</td>\n",
       "      <td>NaN</td>\n",
       "      <td>NaN</td>\n",
       "      <td>NaN</td>\n",
       "      <td>NaN</td>\n",
       "      <td>NaN</td>\n",
       "      <td>NaN</td>\n",
       "      <td>NaN</td>\n",
       "    </tr>\n",
       "    <tr>\n",
       "      <th>12727</th>\n",
       "      <td>NEW YORK,NY</td>\n",
       "      <td>40.786904</td>\n",
       "      <td>-73.959607</td>\n",
       "      <td>81.421875</td>\n",
       "      <td>67.460784</td>\n",
       "      <td>0</td>\n",
       "      <td>1</td>\n",
       "      <td>0</td>\n",
       "      <td>0</td>\n",
       "      <td>0</td>\n",
       "      <td>1</td>\n",
       "      <td>0.0</td>\n",
       "      <td>0.0</td>\n",
       "      <td>0.000000</td>\n",
       "      <td>0.000000</td>\n",
       "      <td>0.0</td>\n",
       "      <td>1</td>\n",
       "      <td>162.0</td>\n",
       "      <td>36.0</td>\n",
       "      <td>0.0</td>\n",
       "      <td>51000.0</td>\n",
       "      <td>0.0</td>\n",
       "      <td>0.0</td>\n",
       "      <td>0.0</td>\n",
       "      <td>A</td>\n",
       "      <td>NEW YORK</td>\n",
       "      <td>NY</td>\n",
       "      <td>8804190.0</td>\n",
       "      <td>8772978.0</td>\n",
       "      <td>8467513.0</td>\n",
       "      <td>CITY</td>\n",
       "    </tr>\n",
       "  </tbody>\n",
       "</table>\n",
       "</div>"
      ],
      "text/plain": [
       "              CITYSTATE   LATITUDE  LONGITUDE  AVG_SCORE_MULTIFAMILY  \\\n",
       "12720  NEW YORK CITY,NY  40.779851 -73.960545              80.750000   \n",
       "12727       NEW YORK,NY  40.786904 -73.959607              81.421875   \n",
       "\n",
       "       AVG_SCORE_PUBLIC  COUNT_111  COUNT_113  COUNT_131  COUNT_151  \\\n",
       "12720               NaN      14684     103653      10502       4940   \n",
       "12727         67.460784          0          1          0          0   \n",
       "\n",
       "       COUNT_142  TOTAL_INCIDENT_COUNT  AVG_SPREAD  AVG_MONEY_LOST  \\\n",
       "12720      32168                213532         0.0             0.0   \n",
       "12727          0                     1         0.0             0.0   \n",
       "\n",
       "       AVG_FATALITIES  AVG_INJURIES  AVG_ALARMS  SUPPORT  SUMLEV  STATE  \\\n",
       "12720        0.000431      0.025901         0.0   452378     NaN    NaN   \n",
       "12727        0.000000      0.000000         0.0        1   162.0   36.0   \n",
       "\n",
       "       COUNTY    PLACE  COUSUB  CONCIT  PRIMGEO_FLAG FUNCSTAT      NAME  \\\n",
       "12720     NaN      NaN     NaN     NaN           NaN      NaN       NaN   \n",
       "12727     0.0  51000.0     0.0     0.0           0.0        A  NEW YORK   \n",
       "\n",
       "      STNAME  POPULATION  POPESTIMATE2020  POPESTIMATE2021  TYPE  \n",
       "12720    NaN         NaN              NaN              NaN   NaN  \n",
       "12727     NY   8804190.0        8772978.0        8467513.0  CITY  "
      ]
     },
     "execution_count": 5,
     "metadata": {},
     "output_type": "execute_result"
    }
   ],
   "source": [
    "merged_df[\n",
    "    merged_df.CITYSTATE.str.contains('NEW YORK') &\n",
    "    ~merged_df.CITYSTATE.str.contains('MILLS') &\n",
    "    ~merged_df.CITYSTATE.str.contains('WEST')\n",
    "\n",
    "    ]"
   ]
  },
  {
   "cell_type": "code",
   "execution_count": 6,
   "metadata": {},
   "outputs": [],
   "source": [
    "merged_df = merged_df.sort_values('POPULATION', ascending=False)\n",
    "merged_df = merged_df.drop_duplicates(subset='CITYSTATE', keep='first')"
   ]
  },
  {
   "attachments": {},
   "cell_type": "markdown",
   "metadata": {},
   "source": [
    "Calculate nulls per column."
   ]
  },
  {
   "cell_type": "code",
   "execution_count": 7,
   "metadata": {},
   "outputs": [
    {
     "data": {
      "text/plain": [
       "CITYSTATE                0.000000\n",
       "LATITUDE                 0.000000\n",
       "LONGITUDE                0.000000\n",
       "AVG_SCORE_MULTIFAMILY    0.132364\n",
       "AVG_SCORE_PUBLIC         0.587000\n",
       "COUNT_111                0.000000\n",
       "COUNT_113                0.000000\n",
       "COUNT_131                0.000000\n",
       "COUNT_151                0.000000\n",
       "COUNT_142                0.000000\n",
       "TOTAL_INCIDENT_COUNT     0.000000\n",
       "AVG_SPREAD               0.000000\n",
       "AVG_MONEY_LOST           0.000000\n",
       "AVG_FATALITIES           0.000000\n",
       "AVG_INJURIES             0.000000\n",
       "AVG_ALARMS               0.000000\n",
       "SUPPORT                  0.000000\n",
       "SUMLEV                   0.101665\n",
       "STATE                    0.101665\n",
       "COUNTY                   0.101665\n",
       "PLACE                    0.101665\n",
       "COUSUB                   0.101665\n",
       "CONCIT                   0.101665\n",
       "PRIMGEO_FLAG             0.101665\n",
       "FUNCSTAT                 0.101665\n",
       "NAME                     0.101665\n",
       "STNAME                   0.101665\n",
       "POPULATION               0.101665\n",
       "POPESTIMATE2020          0.101665\n",
       "POPESTIMATE2021          0.101665\n",
       "TYPE                     0.101790\n",
       "dtype: float64"
      ]
     },
     "execution_count": 7,
     "metadata": {},
     "output_type": "execute_result"
    }
   ],
   "source": [
    "merged_df.isnull().sum() / merged_df.shape[0]"
   ]
  },
  {
   "attachments": {},
   "cell_type": "markdown",
   "metadata": {},
   "source": [
    "Drop cities where population is null."
   ]
  },
  {
   "cell_type": "code",
   "execution_count": 8,
   "metadata": {},
   "outputs": [],
   "source": [
    "merged_df = merged_df[merged_df.POPULATION.notna()]"
   ]
  },
  {
   "cell_type": "code",
   "execution_count": 9,
   "metadata": {},
   "outputs": [],
   "source": [
    "def adjust_by_population(count: float, population: float):\n",
    "    if count == 0:\n",
    "        return 0.0\n",
    "\n",
    "    if math.isnan(count) or math.isnan(population):\n",
    "        return 'Not available.'\n",
    "    \n",
    "    if count and population:\n",
    "        return count / population\n",
    "\n",
    "columns_to_adjust = [\n",
    "    'COUNT_111',\n",
    "    'COUNT_113',\n",
    "    'COUNT_131',\n",
    "    'COUNT_151',\n",
    "    'COUNT_142',\n",
    "    'TOTAL_INCIDENT_COUNT'\n",
    "]\n",
    "\n",
    "for column in columns_to_adjust:\n",
    "    merged_df[column + '_ADJ'] = merged_df \\\n",
    "        .apply(lambda x: adjust_by_population(x[column], x['POPULATION']), axis=1)"
   ]
  },
  {
   "attachments": {},
   "cell_type": "markdown",
   "metadata": {},
   "source": [
    "Drop unnecessary columns to reduce size an complexity for exporting."
   ]
  },
  {
   "cell_type": "code",
   "execution_count": 10,
   "metadata": {},
   "outputs": [],
   "source": [
    "COLUMNS_TO_DROP = [\n",
    "    'COUNT_111', \n",
    "    'COUNT_113', \n",
    "    'COUNT_131', \n",
    "    'COUNT_151', \n",
    "    'COUNT_142',\n",
    "    'TOTAL_INCIDENT_COUNT',\n",
    "    'SUMLEV',\n",
    "    'STATE',\n",
    "    'COUNTY',\n",
    "    'PLACE',\n",
    "    'COUSUB',\n",
    "    'CONCIT',\n",
    "    'PRIMGEO_FLAG',\n",
    "    'FUNCSTAT',\n",
    "    'POPESTIMATE2020',\n",
    "    'POPESTIMATE2021',\n",
    "    \n",
    "]\n",
    "df = merged_df.drop(labels=COLUMNS_TO_DROP, axis=1)"
   ]
  },
  {
   "attachments": {},
   "cell_type": "markdown",
   "metadata": {},
   "source": [
    "Clean up names for export."
   ]
  },
  {
   "cell_type": "code",
   "execution_count": 11,
   "metadata": {},
   "outputs": [],
   "source": [
    "df = df.rename(columns={\n",
    "    'NAME': 'CITY',\n",
    "    'STNAME': 'STATE'\n",
    "})"
   ]
  },
  {
   "attachments": {},
   "cell_type": "markdown",
   "metadata": {},
   "source": [
    "Calculate percentile ranks for display on dashboard."
   ]
  },
  {
   "cell_type": "code",
   "execution_count": 12,
   "metadata": {},
   "outputs": [],
   "source": [
    "selected_cols = [\n",
    "    'AVG_SCORE_MULTIFAMILY', \n",
    "    'AVG_SCORE_PUBLIC', \n",
    "    'AVG_SPREAD', \n",
    "    'AVG_MONEY_LOST', \n",
    "    'AVG_FATALITIES', \n",
    "    'AVG_INJURIES', \n",
    "    'AVG_ALARMS',\n",
    "    'POPULATION', \n",
    "    'SUPPORT',\n",
    "    'COUNT_111_ADJ', \n",
    "    'COUNT_113_ADJ', \n",
    "    'COUNT_131_ADJ', \n",
    "    'COUNT_151_ADJ', \n",
    "    'COUNT_142_ADJ', \n",
    "    'TOTAL_INCIDENT_COUNT_ADJ']\n",
    "\n",
    "percentile_df = df[selected_cols].rank(pct=True)"
   ]
  },
  {
   "attachments": {},
   "cell_type": "markdown",
   "metadata": {},
   "source": [
    "Add the percentile ranks to our dataframe."
   ]
  },
  {
   "cell_type": "code",
   "execution_count": 13,
   "metadata": {},
   "outputs": [],
   "source": [
    "df = pd.concat([df, percentile_df.add_suffix('_PERCENTILE')], axis=1)"
   ]
  },
  {
   "attachments": {},
   "cell_type": "markdown",
   "metadata": {},
   "source": [
    "Export to JSON."
   ]
  },
  {
   "cell_type": "code",
   "execution_count": 157,
   "metadata": {},
   "outputs": [],
   "source": [
    "df.to_json('../dashboard/dashboard.json', orient='records')"
   ]
  }
 ],
 "metadata": {
  "kernelspec": {
   "display_name": "base",
   "language": "python",
   "name": "python3"
  },
  "language_info": {
   "codemirror_mode": {
    "name": "ipython",
    "version": 3
   },
   "file_extension": ".py",
   "mimetype": "text/x-python",
   "name": "python",
   "nbconvert_exporter": "python",
   "pygments_lexer": "ipython3",
   "version": "3.10.9"
  },
  "orig_nbformat": 4
 },
 "nbformat": 4,
 "nbformat_minor": 2
}
