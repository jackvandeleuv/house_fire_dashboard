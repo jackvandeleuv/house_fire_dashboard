{
 "cells": [
  {
   "cell_type": "code",
   "execution_count": 2,
   "metadata": {},
   "outputs": [],
   "source": [
    "import pandas as pd\n",
    "import numpy as np\n",
    "import seaborn as sns\n",
    "import matplotlib.pyplot as plt\n",
    "import sqlite3\n",
    "import re"
   ]
  },
  {
   "cell_type": "code",
   "execution_count": 3,
   "metadata": {},
   "outputs": [],
   "source": [
    "pd.set_option('display.max_columns', None)"
   ]
  },
  {
   "cell_type": "code",
   "execution_count": 4,
   "metadata": {},
   "outputs": [],
   "source": [
    "seed = 538"
   ]
  },
  {
   "attachments": {},
   "cell_type": "markdown",
   "metadata": {},
   "source": [
    "# Get basic stats on fire incidents from NFIRS by city"
   ]
  },
  {
   "attachments": {},
   "cell_type": "markdown",
   "metadata": {},
   "source": [
    "In this notebook, we'll get basic summary stats for our cities based on the NFIRS data. The goal is to calculate:\n",
    "* Average fire spread (defined by number of other structures impacted)\n",
    "* Average deaths per fire reported\n",
    "* Fire incidents per capita"
   ]
  },
  {
   "cell_type": "code",
   "execution_count": 5,
   "metadata": {},
   "outputs": [],
   "source": [
    "WORKING_DIRECTORY = 'D:/Fire Project/data/'"
   ]
  },
  {
   "attachments": {},
   "cell_type": "markdown",
   "metadata": {},
   "source": [
    "We'll load our cleaned REAC data for comparison."
   ]
  },
  {
   "cell_type": "code",
   "execution_count": 6,
   "metadata": {},
   "outputs": [],
   "source": [
    "public = pd.read_csv(WORKING_DIRECTORY + 'clean_agg_public.csv', sep=',')\n",
    "multi = pd.read_csv(WORKING_DIRECTORY + 'clean_agg_multi.csv', sep=',')"
   ]
  },
  {
   "cell_type": "code",
   "execution_count": 7,
   "metadata": {},
   "outputs": [],
   "source": [
    "public['CITYSTATE'] = public.CITY + ',' + public.STATE\n",
    "multi['CITYSTATE'] = multi.CITY + ',' + multi.STATE"
   ]
  },
  {
   "attachments": {},
   "cell_type": "markdown",
   "metadata": {},
   "source": [
    "## Calculate average spread"
   ]
  },
  {
   "cell_type": "code",
   "execution_count": 8,
   "metadata": {},
   "outputs": [],
   "source": [
    "conn = sqlite3.Connection(WORKING_DIRECTORY + 'fire_data.db')"
   ]
  },
  {
   "attachments": {},
   "cell_type": "markdown",
   "metadata": {},
   "source": [
    "Let's check the proportion of missing values in the fields we care about."
   ]
  },
  {
   "attachments": {},
   "cell_type": "markdown",
   "metadata": {},
   "source": [
    "EXP_NO is the number of other structures/vehicles to which the fire spreads. By calculating the average exposure number by city, we can see which cities are most likely to see fires spread."
   ]
  },
  {
   "attachments": {},
   "cell_type": "markdown",
   "metadata": {},
   "source": [
    "* PROP_LOSS and CONT_LOSS are dollar values of lost property and lost contents (anything inside a burning structure/vehicle), there is also PROP_VAL and CONT_VAL, but these measure the pre-fire value.\n",
    "* DET_ALERT (Detector alert) indicates whether a fire detector alerted the occupants or not. Options are 1 (yes alerted), 2 (not alerted), U (unknown), and NULL (not reported)"
   ]
  },
  {
   "attachments": {},
   "cell_type": "markdown",
   "metadata": {},
   "source": [
    "Here is the extract year code:\n",
    "* SUBSTR(ia.INC_DATE, LENGTH(ia.INC_DATE) - 3, 4)"
   ]
  },
  {
   "cell_type": "code",
   "execution_count": 9,
   "metadata": {},
   "outputs": [
    {
     "data": {
      "text/html": [
       "<div>\n",
       "<style scoped>\n",
       "    .dataframe tbody tr th:only-of-type {\n",
       "        vertical-align: middle;\n",
       "    }\n",
       "\n",
       "    .dataframe tbody tr th {\n",
       "        vertical-align: top;\n",
       "    }\n",
       "\n",
       "    .dataframe thead th {\n",
       "        text-align: right;\n",
       "    }\n",
       "</style>\n",
       "<table border=\"1\" class=\"dataframe\">\n",
       "  <thead>\n",
       "    <tr style=\"text-align: right;\">\n",
       "      <th></th>\n",
       "      <th>CITYSTATE</th>\n",
       "      <th>AVG_SPREAD</th>\n",
       "      <th>AVG_ALARMS</th>\n",
       "      <th>AVG_MONEY_LOST</th>\n",
       "      <th>AVG_FATALITIES</th>\n",
       "      <th>AVG_INJURED</th>\n",
       "      <th>SUPPORT</th>\n",
       "    </tr>\n",
       "  </thead>\n",
       "  <tbody>\n",
       "    <tr>\n",
       "      <th>5838</th>\n",
       "      <td>PIERRE,SD</td>\n",
       "      <td>0.002028</td>\n",
       "      <td>0.000000</td>\n",
       "      <td>18582.818533</td>\n",
       "      <td>0.0</td>\n",
       "      <td>1.0</td>\n",
       "      <td>493</td>\n",
       "    </tr>\n",
       "    <tr>\n",
       "      <th>4420</th>\n",
       "      <td>MANASSA,CO</td>\n",
       "      <td>0.037975</td>\n",
       "      <td>NaN</td>\n",
       "      <td>7705.405405</td>\n",
       "      <td>NaN</td>\n",
       "      <td>NaN</td>\n",
       "      <td>79</td>\n",
       "    </tr>\n",
       "    <tr>\n",
       "      <th>6020</th>\n",
       "      <td>POWERS,MI</td>\n",
       "      <td>0.000000</td>\n",
       "      <td>NaN</td>\n",
       "      <td>3256.756757</td>\n",
       "      <td>NaN</td>\n",
       "      <td>NaN</td>\n",
       "      <td>41</td>\n",
       "    </tr>\n",
       "    <tr>\n",
       "      <th>6770</th>\n",
       "      <td>SHOSHONE,ID</td>\n",
       "      <td>0.000000</td>\n",
       "      <td>0.000000</td>\n",
       "      <td>0.000000</td>\n",
       "      <td>NaN</td>\n",
       "      <td>NaN</td>\n",
       "      <td>85</td>\n",
       "    </tr>\n",
       "    <tr>\n",
       "      <th>215</th>\n",
       "      <td>ARANSAS PASS,TX</td>\n",
       "      <td>0.000779</td>\n",
       "      <td>0.997608</td>\n",
       "      <td>2206.695652</td>\n",
       "      <td>1.0</td>\n",
       "      <td>0.0</td>\n",
       "      <td>1283</td>\n",
       "    </tr>\n",
       "  </tbody>\n",
       "</table>\n",
       "</div>"
      ],
      "text/plain": [
       "            CITYSTATE  AVG_SPREAD  AVG_ALARMS  AVG_MONEY_LOST  AVG_FATALITIES  \\\n",
       "5838        PIERRE,SD    0.002028    0.000000    18582.818533             0.0   \n",
       "4420       MANASSA,CO    0.037975         NaN     7705.405405             NaN   \n",
       "6020        POWERS,MI    0.000000         NaN     3256.756757             NaN   \n",
       "6770      SHOSHONE,ID    0.000000    0.000000        0.000000             NaN   \n",
       "215   ARANSAS PASS,TX    0.000779    0.997608     2206.695652             1.0   \n",
       "\n",
       "      AVG_INJURED  SUPPORT  \n",
       "5838          1.0      493  \n",
       "4420          NaN       79  \n",
       "6020          NaN       41  \n",
       "6770          NaN       85  \n",
       "215           0.0     1283  "
      ]
     },
     "execution_count": 9,
     "metadata": {},
     "output_type": "execute_result"
    }
   ],
   "source": [
    "# 4 mins to run\n",
    "spread = pd.read_sql(\"\"\"\n",
    "    SELECT ia.CITY || ',' || ia.STATE \n",
    "                AS CITYSTATE, \n",
    "            AVG(ia.EXP_NO) \n",
    "                AS AVG_SPREAD,\n",
    "            AVG(bi.ALARMS)\n",
    "                AS AVG_ALARMS,\n",
    "            AVG(bi.PROP_LOSS + bi.CONT_LOSS)\n",
    "                AS AVG_MONEY_LOST,\n",
    "            AVG(bi.OTH_DEATH + bi.FF_DEATH)\n",
    "                AS AVG_FATALITIES,\n",
    "            AVG(bi.OTH_INJ + bi.FF_INJ)\n",
    "                AS AVG_INJURED,\n",
    "            COUNT(*)\n",
    "                AS SUPPORT\n",
    "    FROM basic_incident bi JOIN incident_address ia\n",
    "        USING (INCIDENT_KEY)\n",
    "    GROUP BY ia.CITY, ia.STATE\n",
    "\"\"\", conn)\n",
    "spread.sample(n=5, random_state=seed)"
   ]
  },
  {
   "attachments": {},
   "cell_type": "markdown",
   "metadata": {},
   "source": [
    "## Incident counts, weighted by population"
   ]
  },
  {
   "attachments": {},
   "cell_type": "markdown",
   "metadata": {},
   "source": [
    "We'll start by downloading the total 2020 population counts for US incorporated places and minor encorporated places: April 1 2020 to July 1 2021 from [the Census.gov website](https://www.census.gov/data/tables/time-series/demo/popest/2020s-total-cities-and-towns.html). [Direct link.](https://www2.census.gov/programs-surveys/popest/datasets/2020-2021/cities/totals/sub-est2021_all.csv)"
   ]
  },
  {
   "cell_type": "code",
   "execution_count": 275,
   "metadata": {},
   "outputs": [
    {
     "data": {
      "text/html": [
       "<div>\n",
       "<style scoped>\n",
       "    .dataframe tbody tr th:only-of-type {\n",
       "        vertical-align: middle;\n",
       "    }\n",
       "\n",
       "    .dataframe tbody tr th {\n",
       "        vertical-align: top;\n",
       "    }\n",
       "\n",
       "    .dataframe thead th {\n",
       "        text-align: right;\n",
       "    }\n",
       "</style>\n",
       "<table border=\"1\" class=\"dataframe\">\n",
       "  <thead>\n",
       "    <tr style=\"text-align: right;\">\n",
       "      <th></th>\n",
       "      <th>SUMLEV</th>\n",
       "      <th>STATE</th>\n",
       "      <th>COUNTY</th>\n",
       "      <th>PLACE</th>\n",
       "      <th>COUSUB</th>\n",
       "      <th>CONCIT</th>\n",
       "      <th>PRIMGEO_FLAG</th>\n",
       "      <th>FUNCSTAT</th>\n",
       "      <th>NAME</th>\n",
       "      <th>STNAME</th>\n",
       "      <th>ESTIMATESBASE2020</th>\n",
       "      <th>POPESTIMATE2020</th>\n",
       "      <th>POPESTIMATE2021</th>\n",
       "    </tr>\n",
       "  </thead>\n",
       "  <tbody>\n",
       "    <tr>\n",
       "      <th>6386</th>\n",
       "      <td>162</td>\n",
       "      <td>13</td>\n",
       "      <td>0</td>\n",
       "      <td>62328</td>\n",
       "      <td>0</td>\n",
       "      <td>0</td>\n",
       "      <td>0</td>\n",
       "      <td>A</td>\n",
       "      <td>Port Wentworth city</td>\n",
       "      <td>Georgia</td>\n",
       "      <td>10846</td>\n",
       "      <td>10877</td>\n",
       "      <td>11746</td>\n",
       "    </tr>\n",
       "  </tbody>\n",
       "</table>\n",
       "</div>"
      ],
      "text/plain": [
       "      SUMLEV  STATE  COUNTY  PLACE  COUSUB  CONCIT  PRIMGEO_FLAG FUNCSTAT  \\\n",
       "6386     162     13       0  62328       0       0             0        A   \n",
       "\n",
       "                     NAME   STNAME  ESTIMATESBASE2020  POPESTIMATE2020  \\\n",
       "6386  Port Wentworth city  Georgia              10846            10877   \n",
       "\n",
       "      POPESTIMATE2021  \n",
       "6386            11746  "
      ]
     },
     "execution_count": 275,
     "metadata": {},
     "output_type": "execute_result"
    }
   ],
   "source": [
    "pop_counts = pd.read_csv(WORKING_DIRECTORY + 'sub-est2021_all.csv',\n",
    "                         sep=',',\n",
    "                         encoding='ISO-8859-1')\n",
    "pop_counts.sample()"
   ]
  },
  {
   "cell_type": "code",
   "execution_count": 276,
   "metadata": {},
   "outputs": [
    {
     "data": {
      "text/html": [
       "<div>\n",
       "<style scoped>\n",
       "    .dataframe tbody tr th:only-of-type {\n",
       "        vertical-align: middle;\n",
       "    }\n",
       "\n",
       "    .dataframe tbody tr th {\n",
       "        vertical-align: top;\n",
       "    }\n",
       "\n",
       "    .dataframe thead th {\n",
       "        text-align: right;\n",
       "    }\n",
       "</style>\n",
       "<table border=\"1\" class=\"dataframe\">\n",
       "  <thead>\n",
       "    <tr style=\"text-align: right;\">\n",
       "      <th></th>\n",
       "      <th>NAME</th>\n",
       "      <th>STNAME</th>\n",
       "      <th>ESTIMATESBASE2020</th>\n",
       "    </tr>\n",
       "  </thead>\n",
       "  <tbody>\n",
       "    <tr>\n",
       "      <th>25084</th>\n",
       "      <td>Balance of Hayes township</td>\n",
       "      <td>Kansas</td>\n",
       "      <td>66</td>\n",
       "    </tr>\n",
       "  </tbody>\n",
       "</table>\n",
       "</div>"
      ],
      "text/plain": [
       "                            NAME  STNAME  ESTIMATESBASE2020\n",
       "25084  Balance of Hayes township  Kansas                 66"
      ]
     },
     "execution_count": 276,
     "metadata": {},
     "output_type": "execute_result"
    }
   ],
   "source": [
    "pop_counts = pop_counts.loc[:, ['NAME', 'STNAME', 'ESTIMATESBASE2020']]\n",
    "pop_counts.sample()"
   ]
  },
  {
   "cell_type": "code",
   "execution_count": 277,
   "metadata": {},
   "outputs": [],
   "source": [
    "pop_counts['NAME'] = pop_counts.NAME \\\n",
    "                                .str \\\n",
    "                                .upper()\n",
    "\n",
    "pop_counts['STNAME'] = pop_counts.STNAME \\\n",
    "                                .str \\\n",
    "                                .upper()"
   ]
  },
  {
   "attachments": {},
   "cell_type": "markdown",
   "metadata": {},
   "source": [
    "The state data is spelled out, so we'll split and convert to state codes."
   ]
  },
  {
   "cell_type": "code",
   "execution_count": 192,
   "metadata": {},
   "outputs": [],
   "source": [
    "state_dict = {\n",
    "    \"ALABAMA\": \"AL\",\n",
    "    \"ALASKA\": \"AK\",\n",
    "    \"ARIZONA\": \"AZ\",\n",
    "    \"ARKANSAS\": \"AR\",\n",
    "    \"CALIFORNIA\": \"CA\",\n",
    "    \"COLORADO\": \"CO\",\n",
    "    \"CONNECTICUT\": \"CT\",\n",
    "    \"DELAWARE\": \"DE\",\n",
    "    \"FLORIDA\": \"FL\",\n",
    "    \"GEORGIA\": \"GA\",\n",
    "    \"HAWAII\": \"HI\",\n",
    "    \"IDAHO\": \"ID\",\n",
    "    \"ILLINOIS\": \"IL\",\n",
    "    \"INDIANA\": \"IN\",\n",
    "    \"IOWA\": \"IA\",\n",
    "    \"KANSAS\": \"KS\",\n",
    "    \"KENTUCKY\": \"KY\",\n",
    "    \"LOUISIANA\": \"LA\",\n",
    "    \"MAINE\": \"ME\",\n",
    "    \"MARYLAND\": \"MD\",\n",
    "    \"MASSACHUSETTS\": \"MA\",\n",
    "    \"MICHIGAN\": \"MI\",\n",
    "    \"MINNESOTA\": \"MN\",\n",
    "    \"MISSISSIPPI\": \"MS\",\n",
    "    \"MISSOURI\": \"MO\",\n",
    "    \"MONTANA\": \"MT\",\n",
    "    \"NEBRASKA\": \"NE\",\n",
    "    \"NEVADA\": \"NV\",\n",
    "    \"NEW HAMPSHIRE\": \"NH\",\n",
    "    \"NEW JERSEY\": \"NJ\",\n",
    "    \"NEW MEXICO\": \"NM\",\n",
    "    \"NEW YORK\": \"NY\",\n",
    "    \"NORTH CAROLINA\": \"NC\",\n",
    "    \"NORTH DAKOTA\": \"ND\",\n",
    "    \"OHIO\": \"OH\",\n",
    "    \"OKLAHOMA\": \"OK\",\n",
    "    \"OREGON\": \"OR\",\n",
    "    \"PENNSYLVANIA\": \"PA\",\n",
    "    \"RHODE ISLAND\": \"RI\",\n",
    "    \"SOUTH CAROLINA\": \"SC\",\n",
    "    \"SOUTH DAKOTA\": \"SD\",\n",
    "    \"TENNESSEE\": \"TN\",\n",
    "    \"TEXAS\": \"TX\",\n",
    "    \"UTAH\": \"UT\",\n",
    "    \"VERMONT\": \"VT\",\n",
    "    \"VIRGINIA\": \"VA\",\n",
    "    \"WASHINGTON\": \"WA\",\n",
    "    \"WEST VIRGINIA\": \"WV\",\n",
    "    \"WISCONSIN\": \"WI\",\n",
    "    \"WYOMING\": \"WY\"\n",
    "}\n"
   ]
  },
  {
   "cell_type": "code",
   "execution_count": 278,
   "metadata": {},
   "outputs": [],
   "source": [
    "pop_counts['STNAME'] = pop_counts.STNAME \\\n",
    "                                    .str \\\n",
    "                                    .upper() \\\n",
    "                                    .map(state_dict)"
   ]
  },
  {
   "cell_type": "code",
   "execution_count": 287,
   "metadata": {},
   "outputs": [],
   "source": [
    "state_names = state_dict.keys()\n",
    "state_codes = state_dict.values()\n",
    "\n",
    "name_mask = pop_counts['NAME'].isin(state_names)\n",
    "code_mask = pop_counts['STNAME'].isin(state_codes)\n",
    "\n",
    "pop_counts = pop_counts[~name_mask | ~code_mask]"
   ]
  },
  {
   "cell_type": "code",
   "execution_count": 300,
   "metadata": {},
   "outputs": [],
   "source": [
    "pop_counts = pop_counts[~pop_counts['NAME'].str.endswith('COUNTY')]"
   ]
  },
  {
   "attachments": {},
   "cell_type": "markdown",
   "metadata": {},
   "source": [
    "When the Census lists parts of an incorporated place (denoted with (PT.)), these parts are also included together as one entry. For example, NYC has counts for five of its parts, and also one row that sums them together. "
   ]
  },
  {
   "cell_type": "code",
   "execution_count": 311,
   "metadata": {},
   "outputs": [
    {
     "data": {
      "text/html": [
       "<div>\n",
       "<style scoped>\n",
       "    .dataframe tbody tr th:only-of-type {\n",
       "        vertical-align: middle;\n",
       "    }\n",
       "\n",
       "    .dataframe tbody tr th {\n",
       "        vertical-align: top;\n",
       "    }\n",
       "\n",
       "    .dataframe thead th {\n",
       "        text-align: right;\n",
       "    }\n",
       "</style>\n",
       "<table border=\"1\" class=\"dataframe\">\n",
       "  <thead>\n",
       "    <tr style=\"text-align: right;\">\n",
       "      <th></th>\n",
       "      <th>NAME</th>\n",
       "      <th>STNAME</th>\n",
       "      <th>ESTIMATESBASE2020</th>\n",
       "    </tr>\n",
       "  </thead>\n",
       "  <tbody>\n",
       "    <tr>\n",
       "      <th>46597</th>\n",
       "      <td>NEW YORK CITY</td>\n",
       "      <td>NY</td>\n",
       "      <td>8804190</td>\n",
       "    </tr>\n",
       "    <tr>\n",
       "      <th>46928</th>\n",
       "      <td>NEW YORK CITY (PT.)</td>\n",
       "      <td>NY</td>\n",
       "      <td>1472654</td>\n",
       "    </tr>\n",
       "    <tr>\n",
       "      <th>47860</th>\n",
       "      <td>NEW YORK CITY (PT.)</td>\n",
       "      <td>NY</td>\n",
       "      <td>2736074</td>\n",
       "    </tr>\n",
       "    <tr>\n",
       "      <th>48253</th>\n",
       "      <td>NEW YORK CITY (PT.)</td>\n",
       "      <td>NY</td>\n",
       "      <td>1694251</td>\n",
       "    </tr>\n",
       "    <tr>\n",
       "      <th>48743</th>\n",
       "      <td>NEW YORK CITY (PT.)</td>\n",
       "      <td>NY</td>\n",
       "      <td>2405464</td>\n",
       "    </tr>\n",
       "    <tr>\n",
       "      <th>48786</th>\n",
       "      <td>NEW YORK CITY (PT.)</td>\n",
       "      <td>NY</td>\n",
       "      <td>495747</td>\n",
       "    </tr>\n",
       "  </tbody>\n",
       "</table>\n",
       "</div>"
      ],
      "text/plain": [
       "                      NAME STNAME  ESTIMATESBASE2020\n",
       "46597        NEW YORK CITY     NY            8804190\n",
       "46928  NEW YORK CITY (PT.)     NY            1472654\n",
       "47860  NEW YORK CITY (PT.)     NY            2736074\n",
       "48253  NEW YORK CITY (PT.)     NY            1694251\n",
       "48743  NEW YORK CITY (PT.)     NY            2405464\n",
       "48786  NEW YORK CITY (PT.)     NY             495747"
      ]
     },
     "execution_count": 311,
     "metadata": {},
     "output_type": "execute_result"
    }
   ],
   "source": [
    "pop_counts[pop_counts['NAME'].str.startswith('NEW YORK CITY')]"
   ]
  },
  {
   "attachments": {},
   "cell_type": "markdown",
   "metadata": {},
   "source": [
    "We'll drop the parts for this analysis."
   ]
  },
  {
   "cell_type": "code",
   "execution_count": 312,
   "metadata": {},
   "outputs": [],
   "source": [
    "pop_counts = pop_counts[~pop_counts['NAME'].str.endswith('(PT.)')]"
   ]
  },
  {
   "cell_type": "code",
   "execution_count": 314,
   "metadata": {},
   "outputs": [],
   "source": [
    "patterns = [\n",
    "    re.compile(r'\\b\\sCITY\\b(?!\\s*\\b\\sCITY\\b)', re.IGNORECASE),\n",
    "    re.compile(r'\\b\\sBOROUGH\\b(?!\\s*\\b\\sBOROUGH\\b)', re.IGNORECASE),\n",
    "    re.compile(r'\\b\\sVILLAGE\\b(?!\\s*\\b\\sVILLAGE\\b)', re.IGNORECASE),\n",
    "    re.compile(r'\\b\\sTOWN\\b(?!\\s*\\b\\sTOWN\\b)', re.IGNORECASE),\n",
    "    re.compile(r'\\b\\sTOWNSHIP\\b(?!\\s*\\b\\sTOWNSHIP\\b)', re.IGNORECASE)\n",
    "    ]\n",
    "\n",
    "for pattern in patterns:\n",
    "    pop_counts['NAME'] = pop_counts['NAME'].apply(lambda x: pattern.sub('', str(x)))"
   ]
  },
  {
   "cell_type": "code",
   "execution_count": 316,
   "metadata": {},
   "outputs": [],
   "source": [
    "pop_counts['CITYSTATE'] = pop_counts['NAME'].str.upper() + ',' + pop_counts['STNAME'].str.upper()"
   ]
  },
  {
   "cell_type": "code",
   "execution_count": 317,
   "metadata": {},
   "outputs": [],
   "source": [
    "pop_counts = pop_counts[pop_counts.ESTIMATESBASE2020 > 0]"
   ]
  },
  {
   "cell_type": "code",
   "execution_count": 318,
   "metadata": {},
   "outputs": [],
   "source": [
    "pop_counts = pop_counts[~pop_counts.duplicated()]"
   ]
  },
  {
   "cell_type": "code",
   "execution_count": 16,
   "metadata": {},
   "outputs": [],
   "source": [
    "total_inc_counts = pd.read_sql(\"\"\"\n",
    "    SELECT CITY || ',' || STATE \n",
    "                AS CITYSTATE, \n",
    "            COUNT(*) AS INC_COUNT\n",
    "    FROM incident_address\n",
    "    GROUP BY CITY, STATE\n",
    "\"\"\", conn)"
   ]
  },
  {
   "cell_type": "code",
   "execution_count": 17,
   "metadata": {},
   "outputs": [],
   "source": [
    "inc_type_counts = pd.read_sql(\"\"\"\n",
    "    SELECT ia.CITY || ',' || ia.STATE \n",
    "                AS CITYSTATE, \n",
    "            bi.INC_TYPE \n",
    "                AS INC_TYPE,\n",
    "            COUNT(bi.ID) \n",
    "                AS INC_COUNT\n",
    "    FROM basic_incident bi JOIN incident_address ia\n",
    "        USING (INCIDENT_KEY)\n",
    "    GROUP BY ia.CITY, ia.STATE, bi.INC_TYPE\n",
    "\"\"\", conn)"
   ]
  },
  {
   "cell_type": "code",
   "execution_count": 320,
   "metadata": {},
   "outputs": [],
   "source": [
    "total_inc_pop = total_inc_counts.merge(pop_counts, \n",
    "                                       how='inner', \n",
    "                                       on='CITYSTATE')"
   ]
  },
  {
   "cell_type": "code",
   "execution_count": 322,
   "metadata": {},
   "outputs": [],
   "source": [
    "total_inc_pop['INC_COUNT_ADJ'] = total_inc_pop.INC_COUNT / total_inc_pop.ESTIMATESBASE2020"
   ]
  },
  {
   "cell_type": "code",
   "execution_count": 324,
   "metadata": {},
   "outputs": [
    {
     "data": {
      "text/html": [
       "<div>\n",
       "<style scoped>\n",
       "    .dataframe tbody tr th:only-of-type {\n",
       "        vertical-align: middle;\n",
       "    }\n",
       "\n",
       "    .dataframe tbody tr th {\n",
       "        vertical-align: top;\n",
       "    }\n",
       "\n",
       "    .dataframe thead th {\n",
       "        text-align: right;\n",
       "    }\n",
       "</style>\n",
       "<table border=\"1\" class=\"dataframe\">\n",
       "  <thead>\n",
       "    <tr style=\"text-align: right;\">\n",
       "      <th></th>\n",
       "      <th>CITYSTATE</th>\n",
       "      <th>INC_COUNT_ADJ</th>\n",
       "    </tr>\n",
       "  </thead>\n",
       "  <tbody>\n",
       "    <tr>\n",
       "      <th>5818</th>\n",
       "      <td>NEW YORK,NY</td>\n",
       "      <td>0.000001</td>\n",
       "    </tr>\n",
       "    <tr>\n",
       "      <th>8830</th>\n",
       "      <td>WHEATFIELD,NY</td>\n",
       "      <td>0.000054</td>\n",
       "    </tr>\n",
       "    <tr>\n",
       "      <th>5621</th>\n",
       "      <td>MOUNT WASHINGTON,KY</td>\n",
       "      <td>0.000055</td>\n",
       "    </tr>\n",
       "    <tr>\n",
       "      <th>1122</th>\n",
       "      <td>BURRILLVILLE,RI</td>\n",
       "      <td>0.000062</td>\n",
       "    </tr>\n",
       "    <tr>\n",
       "      <th>1997</th>\n",
       "      <td>DANIA BEACH,FL</td>\n",
       "      <td>0.000094</td>\n",
       "    </tr>\n",
       "    <tr>\n",
       "      <th>3387</th>\n",
       "      <td>HALLANDALE BEACH,FL</td>\n",
       "      <td>0.000097</td>\n",
       "    </tr>\n",
       "    <tr>\n",
       "      <th>7414</th>\n",
       "      <td>SHEFFIELD,AL</td>\n",
       "      <td>0.000106</td>\n",
       "    </tr>\n",
       "    <tr>\n",
       "      <th>5588</th>\n",
       "      <td>MOUNT OLIVE,NJ</td>\n",
       "      <td>0.000139</td>\n",
       "    </tr>\n",
       "    <tr>\n",
       "      <th>7187</th>\n",
       "      <td>SALINA,NY</td>\n",
       "      <td>0.000150</td>\n",
       "    </tr>\n",
       "    <tr>\n",
       "      <th>559</th>\n",
       "      <td>BEEVILLE,TX</td>\n",
       "      <td>0.000219</td>\n",
       "    </tr>\n",
       "    <tr>\n",
       "      <th>5609</th>\n",
       "      <td>MOUNT STERLING,KY</td>\n",
       "      <td>0.000265</td>\n",
       "    </tr>\n",
       "    <tr>\n",
       "      <th>6374</th>\n",
       "      <td>PAWTUCKET,RI</td>\n",
       "      <td>0.000290</td>\n",
       "    </tr>\n",
       "    <tr>\n",
       "      <th>688</th>\n",
       "      <td>BERWYN HEIGHTS,MD</td>\n",
       "      <td>0.000299</td>\n",
       "    </tr>\n",
       "    <tr>\n",
       "      <th>5300</th>\n",
       "      <td>MIDDLETOWN,KY</td>\n",
       "      <td>0.000309</td>\n",
       "    </tr>\n",
       "    <tr>\n",
       "      <th>206</th>\n",
       "      <td>ANSON,TX</td>\n",
       "      <td>0.000430</td>\n",
       "    </tr>\n",
       "    <tr>\n",
       "      <th>952</th>\n",
       "      <td>BRIDGEPORT,AL</td>\n",
       "      <td>0.000442</td>\n",
       "    </tr>\n",
       "    <tr>\n",
       "      <th>2092</th>\n",
       "      <td>DELAWARE,NY</td>\n",
       "      <td>0.000455</td>\n",
       "    </tr>\n",
       "    <tr>\n",
       "      <th>8225</th>\n",
       "      <td>UNIONTOWN,AL</td>\n",
       "      <td>0.000481</td>\n",
       "    </tr>\n",
       "    <tr>\n",
       "      <th>6001</th>\n",
       "      <td>NORTHUMBERLAND,NH</td>\n",
       "      <td>0.000481</td>\n",
       "    </tr>\n",
       "    <tr>\n",
       "      <th>7610</th>\n",
       "      <td>SOUTH HOUSTON,TX</td>\n",
       "      <td>0.000495</td>\n",
       "    </tr>\n",
       "    <tr>\n",
       "      <th>142</th>\n",
       "      <td>ALPINE,TX</td>\n",
       "      <td>0.000512</td>\n",
       "    </tr>\n",
       "    <tr>\n",
       "      <th>4620</th>\n",
       "      <td>LINDEN,AL</td>\n",
       "      <td>0.000519</td>\n",
       "    </tr>\n",
       "    <tr>\n",
       "      <th>1204</th>\n",
       "      <td>CAMDEN,AL</td>\n",
       "      <td>0.000534</td>\n",
       "    </tr>\n",
       "    <tr>\n",
       "      <th>2737</th>\n",
       "      <td>FLORIDA CITY,FL</td>\n",
       "      <td>0.000536</td>\n",
       "    </tr>\n",
       "    <tr>\n",
       "      <th>4935</th>\n",
       "      <td>MALTA,MT</td>\n",
       "      <td>0.000539</td>\n",
       "    </tr>\n",
       "  </tbody>\n",
       "</table>\n",
       "</div>"
      ],
      "text/plain": [
       "                CITYSTATE  INC_COUNT_ADJ\n",
       "5818          NEW YORK,NY       0.000001\n",
       "8830        WHEATFIELD,NY       0.000054\n",
       "5621  MOUNT WASHINGTON,KY       0.000055\n",
       "1122      BURRILLVILLE,RI       0.000062\n",
       "1997       DANIA BEACH,FL       0.000094\n",
       "3387  HALLANDALE BEACH,FL       0.000097\n",
       "7414         SHEFFIELD,AL       0.000106\n",
       "5588       MOUNT OLIVE,NJ       0.000139\n",
       "7187            SALINA,NY       0.000150\n",
       "559           BEEVILLE,TX       0.000219\n",
       "5609    MOUNT STERLING,KY       0.000265\n",
       "6374         PAWTUCKET,RI       0.000290\n",
       "688     BERWYN HEIGHTS,MD       0.000299\n",
       "5300        MIDDLETOWN,KY       0.000309\n",
       "206              ANSON,TX       0.000430\n",
       "952         BRIDGEPORT,AL       0.000442\n",
       "2092          DELAWARE,NY       0.000455\n",
       "8225         UNIONTOWN,AL       0.000481\n",
       "6001    NORTHUMBERLAND,NH       0.000481\n",
       "7610     SOUTH HOUSTON,TX       0.000495\n",
       "142             ALPINE,TX       0.000512\n",
       "4620            LINDEN,AL       0.000519\n",
       "1204            CAMDEN,AL       0.000534\n",
       "2737      FLORIDA CITY,FL       0.000536\n",
       "4935             MALTA,MT       0.000539"
      ]
     },
     "execution_count": 324,
     "metadata": {},
     "output_type": "execute_result"
    }
   ],
   "source": [
    "total_inc_pop.loc[:, ['CITYSTATE', 'INC_COUNT_ADJ']].sort_values(by='INC_COUNT_ADJ').head(25)"
   ]
  },
  {
   "attachments": {},
   "cell_type": "markdown",
   "metadata": {},
   "source": [
    "### Get average time from alarm to response"
   ]
  },
  {
   "attachments": {},
   "cell_type": "markdown",
   "metadata": {},
   "source": [
    "### Total incident count by year and city, adjusted for population"
   ]
  },
  {
   "attachments": {},
   "cell_type": "markdown",
   "metadata": {},
   "source": [
    "### Average severity of fires in city, as measured by deaths per fire, number of alarms triggered? Other information about property damage?"
   ]
  },
  {
   "attachments": {},
   "cell_type": "markdown",
   "metadata": {},
   "source": [
    "### Proportion of different types of causes"
   ]
  },
  {
   "attachments": {},
   "cell_type": "markdown",
   "metadata": {},
   "source": [
    "### Demographic factors related to deaths."
   ]
  }
 ],
 "metadata": {
  "kernelspec": {
   "display_name": "base",
   "language": "python",
   "name": "python3"
  },
  "language_info": {
   "codemirror_mode": {
    "name": "ipython",
    "version": 3
   },
   "file_extension": ".py",
   "mimetype": "text/x-python",
   "name": "python",
   "nbconvert_exporter": "python",
   "pygments_lexer": "ipython3",
   "version": "3.9.13"
  },
  "orig_nbformat": 4
 },
 "nbformat": 4,
 "nbformat_minor": 2
}
