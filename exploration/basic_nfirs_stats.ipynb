{
 "cells": [
  {
   "cell_type": "code",
   "execution_count": 4,
   "metadata": {},
   "outputs": [],
   "source": [
    "import pandas as pd\n",
    "import numpy as np\n",
    "import seaborn as sns\n",
    "import matplotlib.pyplot as plt\n",
    "import sqlite3"
   ]
  },
  {
   "cell_type": "code",
   "execution_count": 5,
   "metadata": {},
   "outputs": [],
   "source": [
    "WORKING_DIRECTORY = 'D:/Fire Project/data/'"
   ]
  },
  {
   "cell_type": "code",
   "execution_count": 6,
   "metadata": {},
   "outputs": [],
   "source": [
    "conn = sqlite3.Connection(WORKING_DIRECTORY + 'fire_data.db')"
   ]
  },
  {
   "cell_type": "code",
   "execution_count": 7,
   "metadata": {},
   "outputs": [
    {
     "data": {
      "text/html": [
       "<div>\n",
       "<style scoped>\n",
       "    .dataframe tbody tr th:only-of-type {\n",
       "        vertical-align: middle;\n",
       "    }\n",
       "\n",
       "    .dataframe tbody tr th {\n",
       "        vertical-align: top;\n",
       "    }\n",
       "\n",
       "    .dataframe thead th {\n",
       "        text-align: right;\n",
       "    }\n",
       "</style>\n",
       "<table border=\"1\" class=\"dataframe\">\n",
       "  <thead>\n",
       "    <tr style=\"text-align: right;\">\n",
       "      <th></th>\n",
       "      <th>COUNT(*)</th>\n",
       "    </tr>\n",
       "  </thead>\n",
       "  <tbody>\n",
       "    <tr>\n",
       "      <th>0</th>\n",
       "      <td>12571892</td>\n",
       "    </tr>\n",
       "  </tbody>\n",
       "</table>\n",
       "</div>"
      ],
      "text/plain": [
       "   COUNT(*)\n",
       "0  12571892"
      ]
     },
     "execution_count": 7,
     "metadata": {},
     "output_type": "execute_result"
    }
   ],
   "source": [
    "result = pd.read_sql(\"\"\"\n",
    "    SELECT COUNT(*) \n",
    "    FROM incident_address\n",
    "\"\"\", conn)\n",
    "result"
   ]
  },
  {
   "cell_type": "code",
   "execution_count": 8,
   "metadata": {},
   "outputs": [
    {
     "data": {
      "text/html": [
       "<div>\n",
       "<style scoped>\n",
       "    .dataframe tbody tr th:only-of-type {\n",
       "        vertical-align: middle;\n",
       "    }\n",
       "\n",
       "    .dataframe tbody tr th {\n",
       "        vertical-align: top;\n",
       "    }\n",
       "\n",
       "    .dataframe thead th {\n",
       "        text-align: right;\n",
       "    }\n",
       "</style>\n",
       "<table border=\"1\" class=\"dataframe\">\n",
       "  <thead>\n",
       "    <tr style=\"text-align: right;\">\n",
       "      <th></th>\n",
       "      <th>INTEGER</th>\n",
       "      <th>INCIDENT_KEY</th>\n",
       "      <th>STATE</th>\n",
       "      <th>FDID</th>\n",
       "      <th>INC_DATE</th>\n",
       "      <th>INC_NO</th>\n",
       "      <th>EXP_NO</th>\n",
       "      <th>LOC_TYPE</th>\n",
       "      <th>NUM_MILE</th>\n",
       "      <th>STREET_PRE</th>\n",
       "      <th>STREETNAME</th>\n",
       "      <th>STREETTYPE</th>\n",
       "      <th>STREETSUF</th>\n",
       "      <th>APT_NO</th>\n",
       "      <th>CITY</th>\n",
       "      <th>STATE_ID</th>\n",
       "      <th>ZIP5</th>\n",
       "      <th>ZIP4</th>\n",
       "      <th>X_STREET</th>\n",
       "    </tr>\n",
       "  </thead>\n",
       "  <tbody>\n",
       "    <tr>\n",
       "      <th>0</th>\n",
       "      <td>None</td>\n",
       "      <td>AK_11100_01012020_20001_0</td>\n",
       "      <td>AK</td>\n",
       "      <td>11100</td>\n",
       "      <td>1012020</td>\n",
       "      <td>20001</td>\n",
       "      <td>0</td>\n",
       "      <td>1</td>\n",
       "      <td>101</td>\n",
       "      <td>None</td>\n",
       "      <td>SAVIKKO</td>\n",
       "      <td>RD</td>\n",
       "      <td>None</td>\n",
       "      <td>None</td>\n",
       "      <td>Juneau</td>\n",
       "      <td>AK</td>\n",
       "      <td>99801</td>\n",
       "      <td>None</td>\n",
       "      <td>MAYFLOWER ISLAND RD FRONT ST</td>\n",
       "    </tr>\n",
       "  </tbody>\n",
       "</table>\n",
       "</div>"
      ],
      "text/plain": [
       "  INTEGER               INCIDENT_KEY STATE   FDID  INC_DATE  INC_NO  EXP_NO  \\\n",
       "0    None  AK_11100_01012020_20001_0    AK  11100   1012020   20001       0   \n",
       "\n",
       "   LOC_TYPE  NUM_MILE STREET_PRE STREETNAME STREETTYPE STREETSUF APT_NO  \\\n",
       "0         1       101       None    SAVIKKO         RD      None   None   \n",
       "\n",
       "     CITY STATE_ID   ZIP5  ZIP4                      X_STREET  \n",
       "0  Juneau       AK  99801  None  MAYFLOWER ISLAND RD FRONT ST  "
      ]
     },
     "execution_count": 8,
     "metadata": {},
     "output_type": "execute_result"
    }
   ],
   "source": [
    "result2 = pd.read_sql(\"\"\"\n",
    "    SELECT * \n",
    "    FROM incident_address\n",
    "    LIMIT 1\n",
    "\"\"\", conn)\n",
    "result2"
   ]
  }
 ],
 "metadata": {
  "kernelspec": {
   "display_name": "base",
   "language": "python",
   "name": "python3"
  },
  "language_info": {
   "codemirror_mode": {
    "name": "ipython",
    "version": 3
   },
   "file_extension": ".py",
   "mimetype": "text/x-python",
   "name": "python",
   "nbconvert_exporter": "python",
   "pygments_lexer": "ipython3",
   "version": "3.9.13"
  },
  "orig_nbformat": 4
 },
 "nbformat": 4,
 "nbformat_minor": 2
}
