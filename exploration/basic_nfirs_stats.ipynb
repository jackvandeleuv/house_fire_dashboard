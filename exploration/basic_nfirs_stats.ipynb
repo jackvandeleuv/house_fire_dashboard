{
 "cells": [
  {
   "cell_type": "code",
   "execution_count": 2,
   "metadata": {},
   "outputs": [],
   "source": [
    "import pandas as pd\n",
    "import numpy as np\n",
    "import seaborn as sns\n",
    "import matplotlib.pyplot as plt\n",
    "import sqlite3\n",
    "import re"
   ]
  },
  {
   "cell_type": "code",
   "execution_count": 3,
   "metadata": {},
   "outputs": [],
   "source": [
    "pd.set_option('display.max_columns', None)"
   ]
  },
  {
   "cell_type": "code",
   "execution_count": 4,
   "metadata": {},
   "outputs": [],
   "source": [
    "seed = 538"
   ]
  },
  {
   "attachments": {},
   "cell_type": "markdown",
   "metadata": {},
   "source": [
    "# Get basic stats on fire incidents from NFIRS by city"
   ]
  },
  {
   "attachments": {},
   "cell_type": "markdown",
   "metadata": {},
   "source": [
    "In this notebook, we'll get basic summary stats for our cities based on the NFIRS data. The goal is to calculate:\n",
    "* Average fire spread (defined by number of other structures impacted)\n",
    "* Average injuries and deaths per fire reported\n",
    "* Average property damage per fire reported\n",
    "* Average number of alarms tripped"
   ]
  },
  {
   "cell_type": "code",
   "execution_count": 5,
   "metadata": {},
   "outputs": [],
   "source": [
    "WORKING_DIRECTORY = 'D:/Fire Project/data/'"
   ]
  },
  {
   "attachments": {},
   "cell_type": "markdown",
   "metadata": {},
   "source": [
    "We'll load our cleaned REAC data for comparison."
   ]
  },
  {
   "cell_type": "code",
   "execution_count": 6,
   "metadata": {},
   "outputs": [],
   "source": [
    "public = pd.read_csv(WORKING_DIRECTORY + 'clean_agg_public.csv', sep=',')\n",
    "multi = pd.read_csv(WORKING_DIRECTORY + 'clean_agg_multi.csv', sep=',')"
   ]
  },
  {
   "cell_type": "code",
   "execution_count": 7,
   "metadata": {},
   "outputs": [],
   "source": [
    "public['CITYSTATE'] = public.CITY + ',' + public.STATE\n",
    "multi['CITYSTATE'] = multi.CITY + ',' + multi.STATE"
   ]
  },
  {
   "attachments": {},
   "cell_type": "markdown",
   "metadata": {},
   "source": [
    "## Calculate average spread"
   ]
  },
  {
   "cell_type": "code",
   "execution_count": 8,
   "metadata": {},
   "outputs": [],
   "source": [
    "conn = sqlite3.Connection(WORKING_DIRECTORY + 'fire_data.db')"
   ]
  },
  {
   "attachments": {},
   "cell_type": "markdown",
   "metadata": {},
   "source": [
    "Let's check the proportion of missing values in the fields we care about."
   ]
  },
  {
   "attachments": {},
   "cell_type": "markdown",
   "metadata": {},
   "source": [
    "EXP_NO is the number of other structures/vehicles to which the fire spreads. By calculating the average exposure number by city, we can see which cities are most likely to see fires spread."
   ]
  },
  {
   "attachments": {},
   "cell_type": "markdown",
   "metadata": {},
   "source": [
    "* PROP_LOSS and CONT_LOSS are dollar values of lost property and lost contents (anything inside a burning structure/vehicle), there is also PROP_VAL and CONT_VAL, but these measure the pre-fire value.\n",
    "* DET_ALERT (Detector alert) indicates whether a fire detector alerted the occupants or not. Options are 1 (yes alerted), 2 (not alerted), U (unknown), and NULL (not reported)"
   ]
  },
  {
   "attachments": {},
   "cell_type": "markdown",
   "metadata": {},
   "source": [
    "Here is the extract year code:\n",
    "* SUBSTR(ia.INC_DATE, LENGTH(ia.INC_DATE) - 3, 4)"
   ]
  },
  {
   "cell_type": "code",
   "execution_count": 9,
   "metadata": {},
   "outputs": [
    {
     "data": {
      "text/html": [
       "<div>\n",
       "<style scoped>\n",
       "    .dataframe tbody tr th:only-of-type {\n",
       "        vertical-align: middle;\n",
       "    }\n",
       "\n",
       "    .dataframe tbody tr th {\n",
       "        vertical-align: top;\n",
       "    }\n",
       "\n",
       "    .dataframe thead th {\n",
       "        text-align: right;\n",
       "    }\n",
       "</style>\n",
       "<table border=\"1\" class=\"dataframe\">\n",
       "  <thead>\n",
       "    <tr style=\"text-align: right;\">\n",
       "      <th></th>\n",
       "      <th>CITYSTATE</th>\n",
       "      <th>AVG_SPREAD</th>\n",
       "      <th>AVG_ALARMS</th>\n",
       "      <th>AVG_MONEY_LOST</th>\n",
       "      <th>AVG_FATALITIES</th>\n",
       "      <th>AVG_INJURED</th>\n",
       "      <th>SUPPORT</th>\n",
       "    </tr>\n",
       "  </thead>\n",
       "  <tbody>\n",
       "    <tr>\n",
       "      <th>5838</th>\n",
       "      <td>PIERRE,SD</td>\n",
       "      <td>0.002028</td>\n",
       "      <td>0.000000</td>\n",
       "      <td>18582.818533</td>\n",
       "      <td>0.0</td>\n",
       "      <td>1.0</td>\n",
       "      <td>493</td>\n",
       "    </tr>\n",
       "    <tr>\n",
       "      <th>4420</th>\n",
       "      <td>MANASSA,CO</td>\n",
       "      <td>0.037975</td>\n",
       "      <td>NaN</td>\n",
       "      <td>7705.405405</td>\n",
       "      <td>NaN</td>\n",
       "      <td>NaN</td>\n",
       "      <td>79</td>\n",
       "    </tr>\n",
       "    <tr>\n",
       "      <th>6020</th>\n",
       "      <td>POWERS,MI</td>\n",
       "      <td>0.000000</td>\n",
       "      <td>NaN</td>\n",
       "      <td>3256.756757</td>\n",
       "      <td>NaN</td>\n",
       "      <td>NaN</td>\n",
       "      <td>41</td>\n",
       "    </tr>\n",
       "    <tr>\n",
       "      <th>6770</th>\n",
       "      <td>SHOSHONE,ID</td>\n",
       "      <td>0.000000</td>\n",
       "      <td>0.000000</td>\n",
       "      <td>0.000000</td>\n",
       "      <td>NaN</td>\n",
       "      <td>NaN</td>\n",
       "      <td>85</td>\n",
       "    </tr>\n",
       "    <tr>\n",
       "      <th>215</th>\n",
       "      <td>ARANSAS PASS,TX</td>\n",
       "      <td>0.000779</td>\n",
       "      <td>0.997608</td>\n",
       "      <td>2206.695652</td>\n",
       "      <td>1.0</td>\n",
       "      <td>0.0</td>\n",
       "      <td>1283</td>\n",
       "    </tr>\n",
       "  </tbody>\n",
       "</table>\n",
       "</div>"
      ],
      "text/plain": [
       "            CITYSTATE  AVG_SPREAD  AVG_ALARMS  AVG_MONEY_LOST  AVG_FATALITIES  \\\n",
       "5838        PIERRE,SD    0.002028    0.000000    18582.818533             0.0   \n",
       "4420       MANASSA,CO    0.037975         NaN     7705.405405             NaN   \n",
       "6020        POWERS,MI    0.000000         NaN     3256.756757             NaN   \n",
       "6770      SHOSHONE,ID    0.000000    0.000000        0.000000             NaN   \n",
       "215   ARANSAS PASS,TX    0.000779    0.997608     2206.695652             1.0   \n",
       "\n",
       "      AVG_INJURED  SUPPORT  \n",
       "5838          1.0      493  \n",
       "4420          NaN       79  \n",
       "6020          NaN       41  \n",
       "6770          NaN       85  \n",
       "215           0.0     1283  "
      ]
     },
     "execution_count": 9,
     "metadata": {},
     "output_type": "execute_result"
    }
   ],
   "source": [
    "# 4 mins to run\n",
    "spread = pd.read_sql(\"\"\"\n",
    "    SELECT ia.CITY || ',' || ia.STATE \n",
    "                AS CITYSTATE, \n",
    "            AVG(ia.EXP_NO) \n",
    "                AS AVG_SPREAD,\n",
    "            AVG(bi.ALARMS)\n",
    "                AS AVG_ALARMS,\n",
    "            AVG(bi.PROP_LOSS + bi.CONT_LOSS)\n",
    "                AS AVG_MONEY_LOST,\n",
    "            AVG(bi.OTH_DEATH + bi.FF_DEATH)\n",
    "                AS AVG_FATALITIES,\n",
    "            AVG(bi.OTH_INJ + bi.FF_INJ)\n",
    "                AS AVG_INJURED,\n",
    "            COUNT(*)\n",
    "                AS SUPPORT\n",
    "    FROM basic_incident bi JOIN incident_address ia\n",
    "        USING (INCIDENT_KEY)\n",
    "    GROUP BY ia.CITY, ia.STATE\n",
    "\"\"\", conn)\n",
    "spread.sample(n=5, random_state=seed)"
   ]
  },
  {
   "attachments": {},
   "cell_type": "markdown",
   "metadata": {},
   "source": [
    "### Get average time from alarm to response"
   ]
  },
  {
   "attachments": {},
   "cell_type": "markdown",
   "metadata": {},
   "source": [
    "### Average severity of fires in city, as measured by deaths per fire, number of alarms triggered? Other information about property damage?"
   ]
  },
  {
   "attachments": {},
   "cell_type": "markdown",
   "metadata": {},
   "source": [
    "### Demographic factors related to deaths."
   ]
  }
 ],
 "metadata": {
  "kernelspec": {
   "display_name": "base",
   "language": "python",
   "name": "python3"
  },
  "language_info": {
   "codemirror_mode": {
    "name": "ipython",
    "version": 3
   },
   "file_extension": ".py",
   "mimetype": "text/x-python",
   "name": "python",
   "nbconvert_exporter": "python",
   "pygments_lexer": "ipython3",
   "version": "3.9.13"
  },
  "orig_nbformat": 4
 },
 "nbformat": 4,
 "nbformat_minor": 2
}
