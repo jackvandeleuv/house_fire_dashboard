{
 "cells": [
  {
   "cell_type": "code",
   "execution_count": 181,
   "metadata": {},
   "outputs": [],
   "source": [
    "import pandas as pd\n",
    "\n",
    "pd.set_option('display.max_columns', None)"
   ]
  },
  {
   "cell_type": "code",
   "execution_count": 182,
   "metadata": {},
   "outputs": [],
   "source": [
    "WORKING_DIRECTORY = '../data/raw/census/'"
   ]
  },
  {
   "attachments": {},
   "cell_type": "markdown",
   "metadata": {},
   "source": [
    "## Incident counts, weighted by population"
   ]
  },
  {
   "attachments": {},
   "cell_type": "markdown",
   "metadata": {},
   "source": [
    "We'll start by downloading the total 2020 population counts for US incorporated places and minor encorporated places: April 1 2020 to July 1 2021 from [the Census.gov website](https://www.census.gov/data/tables/time-series/demo/popest/2020s-total-cities-and-towns.html). [Direct link.](https://www2.census.gov/programs-surveys/popest/datasets/2020-2021/cities/totals/sub-est2021_all.csv)"
   ]
  },
  {
   "cell_type": "code",
   "execution_count": 183,
   "metadata": {},
   "outputs": [
    {
     "data": {
      "text/html": [
       "<div>\n",
       "<style scoped>\n",
       "    .dataframe tbody tr th:only-of-type {\n",
       "        vertical-align: middle;\n",
       "    }\n",
       "\n",
       "    .dataframe tbody tr th {\n",
       "        vertical-align: top;\n",
       "    }\n",
       "\n",
       "    .dataframe thead th {\n",
       "        text-align: right;\n",
       "    }\n",
       "</style>\n",
       "<table border=\"1\" class=\"dataframe\">\n",
       "  <thead>\n",
       "    <tr style=\"text-align: right;\">\n",
       "      <th></th>\n",
       "      <th>SUMLEV</th>\n",
       "      <th>STATE</th>\n",
       "      <th>COUNTY</th>\n",
       "      <th>PLACE</th>\n",
       "      <th>COUSUB</th>\n",
       "      <th>CONCIT</th>\n",
       "      <th>PRIMGEO_FLAG</th>\n",
       "      <th>FUNCSTAT</th>\n",
       "      <th>NAME</th>\n",
       "      <th>STNAME</th>\n",
       "      <th>ESTIMATESBASE2020</th>\n",
       "      <th>POPESTIMATE2020</th>\n",
       "      <th>POPESTIMATE2021</th>\n",
       "    </tr>\n",
       "  </thead>\n",
       "  <tbody>\n",
       "    <tr>\n",
       "      <th>73297</th>\n",
       "      <td>157</td>\n",
       "      <td>48</td>\n",
       "      <td>217</td>\n",
       "      <td>3588</td>\n",
       "      <td>0</td>\n",
       "      <td>0</td>\n",
       "      <td>1</td>\n",
       "      <td>A</td>\n",
       "      <td>Aquilla city</td>\n",
       "      <td>Texas</td>\n",
       "      <td>103</td>\n",
       "      <td>103</td>\n",
       "      <td>104</td>\n",
       "    </tr>\n",
       "  </tbody>\n",
       "</table>\n",
       "</div>"
      ],
      "text/plain": [
       "       SUMLEV  STATE  COUNTY  PLACE  COUSUB  CONCIT  PRIMGEO_FLAG FUNCSTAT  \\\n",
       "73297     157     48     217   3588       0       0             1        A   \n",
       "\n",
       "               NAME STNAME  ESTIMATESBASE2020  POPESTIMATE2020  \\\n",
       "73297  Aquilla city  Texas                103              103   \n",
       "\n",
       "       POPESTIMATE2021  \n",
       "73297              104  "
      ]
     },
     "execution_count": 183,
     "metadata": {},
     "output_type": "execute_result"
    }
   ],
   "source": [
    "df = pd.read_csv(WORKING_DIRECTORY + 'sub-est2021_all.csv',\n",
    "                         sep=',',\n",
    "                         encoding='ISO-8859-1')\n",
    "df.sample()"
   ]
  },
  {
   "cell_type": "code",
   "execution_count": 184,
   "metadata": {},
   "outputs": [],
   "source": [
    "df = df.loc[:, ['PLACE', 'NAME', 'STNAME', 'ESTIMATESBASE2020']]"
   ]
  },
  {
   "cell_type": "code",
   "execution_count": 185,
   "metadata": {},
   "outputs": [],
   "source": [
    "df['NAME'] = df.NAME \\\n",
    "                .str \\\n",
    "                .upper()"
   ]
  },
  {
   "attachments": {},
   "cell_type": "markdown",
   "metadata": {},
   "source": [
    "The state data is spelled out, so we'll split and convert to state codes."
   ]
  },
  {
   "cell_type": "code",
   "execution_count": 186,
   "metadata": {},
   "outputs": [],
   "source": [
    "state_dict = {\n",
    "    \"ALABAMA\": \"AL\",\n",
    "    \"ALASKA\": \"AK\",\n",
    "    \"ARIZONA\": \"AZ\",\n",
    "    \"ARKANSAS\": \"AR\",\n",
    "    \"CALIFORNIA\": \"CA\",\n",
    "    \"COLORADO\": \"CO\",\n",
    "    \"CONNECTICUT\": \"CT\",\n",
    "    \"DELAWARE\": \"DE\",\n",
    "    \"FLORIDA\": \"FL\",\n",
    "    \"GEORGIA\": \"GA\",\n",
    "    \"HAWAII\": \"HI\",\n",
    "    \"IDAHO\": \"ID\",\n",
    "    \"ILLINOIS\": \"IL\",\n",
    "    \"INDIANA\": \"IN\",\n",
    "    \"IOWA\": \"IA\",\n",
    "    \"KANSAS\": \"KS\",\n",
    "    \"KENTUCKY\": \"KY\",\n",
    "    \"LOUISIANA\": \"LA\",\n",
    "    \"MAINE\": \"ME\",\n",
    "    \"MARYLAND\": \"MD\",\n",
    "    \"MASSACHUSETTS\": \"MA\",\n",
    "    \"MICHIGAN\": \"MI\",\n",
    "    \"MINNESOTA\": \"MN\",\n",
    "    \"MISSISSIPPI\": \"MS\",\n",
    "    \"MISSOURI\": \"MO\",\n",
    "    \"MONTANA\": \"MT\",\n",
    "    \"NEBRASKA\": \"NE\",\n",
    "    \"NEVADA\": \"NV\",\n",
    "    \"NEW HAMPSHIRE\": \"NH\",\n",
    "    \"NEW JERSEY\": \"NJ\",\n",
    "    \"NEW MEXICO\": \"NM\",\n",
    "    \"NEW YORK\": \"NY\",\n",
    "    \"NORTH CAROLINA\": \"NC\",\n",
    "    \"NORTH DAKOTA\": \"ND\",\n",
    "    \"OHIO\": \"OH\",\n",
    "    \"OKLAHOMA\": \"OK\",\n",
    "    \"OREGON\": \"OR\",\n",
    "    \"PENNSYLVANIA\": \"PA\",\n",
    "    \"RHODE ISLAND\": \"RI\",\n",
    "    \"SOUTH CAROLINA\": \"SC\",\n",
    "    \"SOUTH DAKOTA\": \"SD\",\n",
    "    \"TENNESSEE\": \"TN\",\n",
    "    \"TEXAS\": \"TX\",\n",
    "    \"UTAH\": \"UT\",\n",
    "    \"VERMONT\": \"VT\",\n",
    "    \"VIRGINIA\": \"VA\",\n",
    "    \"WASHINGTON\": \"WA\",\n",
    "    \"WEST VIRGINIA\": \"WV\",\n",
    "    \"WISCONSIN\": \"WI\",\n",
    "    \"WYOMING\": \"WY\"\n",
    "}\n"
   ]
  },
  {
   "cell_type": "code",
   "execution_count": 187,
   "metadata": {},
   "outputs": [],
   "source": [
    "df['STNAME'] = df.STNAME \\\n",
    "                .str \\\n",
    "                .upper() \\\n",
    "                .map(state_dict)"
   ]
  },
  {
   "attachments": {},
   "cell_type": "markdown",
   "metadata": {},
   "source": [
    "Calculate null percentage per column."
   ]
  },
  {
   "cell_type": "code",
   "execution_count": 188,
   "metadata": {},
   "outputs": [
    {
     "data": {
      "text/plain": [
       "PLACE                0.000000\n",
       "NAME                 0.000000\n",
       "STNAME               0.004913\n",
       "ESTIMATESBASE2020    0.000000\n",
       "dtype: float64"
      ]
     },
     "execution_count": 188,
     "metadata": {},
     "output_type": "execute_result"
    }
   ],
   "source": [
    "100 * df.isnull().sum() / df.shape[0]"
   ]
  },
  {
   "attachments": {},
   "cell_type": "markdown",
   "metadata": {},
   "source": [
    "We'll drop the small percentage of nulls for state."
   ]
  },
  {
   "cell_type": "code",
   "execution_count": 189,
   "metadata": {},
   "outputs": [],
   "source": [
    "df = df[df.STNAME.notna()]"
   ]
  },
  {
   "cell_type": "code",
   "execution_count": 190,
   "metadata": {},
   "outputs": [],
   "source": [
    "state_names = state_dict.keys()\n",
    "state_codes = state_dict.values()\n",
    "\n",
    "name_mask = df['NAME'].isin(state_names)\n",
    "code_mask = df['STNAME'].isin(state_codes)\n",
    "\n",
    "df = df[~name_mask | ~code_mask]"
   ]
  },
  {
   "cell_type": "code",
   "execution_count": 191,
   "metadata": {},
   "outputs": [],
   "source": [
    "df = df[~df['NAME'].str.endswith('COUNTY')]"
   ]
  },
  {
   "attachments": {},
   "cell_type": "markdown",
   "metadata": {},
   "source": [
    "We'll drop the partial municipalities for this analysis."
   ]
  },
  {
   "cell_type": "code",
   "execution_count": 192,
   "metadata": {},
   "outputs": [],
   "source": [
    "df = df[~df['NAME'].str.endswith('(PT.)')]"
   ]
  },
  {
   "cell_type": "code",
   "execution_count": 193,
   "metadata": {},
   "outputs": [
    {
     "data": {
      "text/html": [
       "<div>\n",
       "<style scoped>\n",
       "    .dataframe tbody tr th:only-of-type {\n",
       "        vertical-align: middle;\n",
       "    }\n",
       "\n",
       "    .dataframe tbody tr th {\n",
       "        vertical-align: top;\n",
       "    }\n",
       "\n",
       "    .dataframe thead th {\n",
       "        text-align: right;\n",
       "    }\n",
       "</style>\n",
       "<table border=\"1\" class=\"dataframe\">\n",
       "  <thead>\n",
       "    <tr style=\"text-align: right;\">\n",
       "      <th></th>\n",
       "      <th>NAME</th>\n",
       "      <th>STNAME</th>\n",
       "    </tr>\n",
       "  </thead>\n",
       "  <tbody>\n",
       "    <tr>\n",
       "      <th>3753</th>\n",
       "      <td>NATIONAL CITY CITY</td>\n",
       "      <td>CA</td>\n",
       "    </tr>\n",
       "    <tr>\n",
       "      <th>8422</th>\n",
       "      <td>GRANITE CITY CITY</td>\n",
       "      <td>IL</td>\n",
       "    </tr>\n",
       "    <tr>\n",
       "      <th>39670</th>\n",
       "      <td>UNIVERSITY CITY CITY</td>\n",
       "      <td>MO</td>\n",
       "    </tr>\n",
       "  </tbody>\n",
       "</table>\n",
       "</div>"
      ],
      "text/plain": [
       "                       NAME STNAME\n",
       "3753     NATIONAL CITY CITY     CA\n",
       "8422      GRANITE CITY CITY     IL\n",
       "39670  UNIVERSITY CITY CITY     MO"
      ]
     },
     "execution_count": 193,
     "metadata": {},
     "output_type": "execute_result"
    }
   ],
   "source": [
    "mask = (df.NAME.str.contains('CITY CITY')) & (df.ESTIMATESBASE2020 > 10000)\n",
    "df[mask] \\\n",
    "    .loc[:, ['NAME', 'STNAME']] \\\n",
    "    .sample(n=3, random_state=1)"
   ]
  },
  {
   "cell_type": "code",
   "execution_count": 194,
   "metadata": {},
   "outputs": [
    {
     "name": "stdout",
     "output_type": "stream",
     "text": [
      "CITY CITY: 694 \n",
      "VILLAGE VILLAGE: 19 \n",
      "TOWN TOWN: 342 \n",
      "BOROUGH BOROUGH: 0 \n",
      "TOWNSHIP TOWNSHIP: 0\n"
     ]
    }
   ],
   "source": [
    "print(\n",
    "    'CITY CITY:', len(df[df.NAME.str.contains('CITY CITY')]),\n",
    "    '\\nVILLAGE VILLAGE:', len(df[df.NAME.str.contains('VILLAGE VILLAGE')]),\n",
    "    '\\nTOWN TOWN:', len(df[df.NAME.str.contains('TOWN TOWN')]),\n",
    "    '\\nBOROUGH BOROUGH:', len(df[df.NAME.str.contains('BOROUGH BOROUGH')]),\n",
    "    '\\nTOWNSHIP TOWNSHIP:', len(df[df.NAME.str.contains('TOWNSHIP TOWNSHIP')])\n",
    ")"
   ]
  },
  {
   "attachments": {},
   "cell_type": "markdown",
   "metadata": {},
   "source": [
    "These duplicate names are different than our other datasets, so we'll remove them."
   ]
  },
  {
   "cell_type": "code",
   "execution_count": 195,
   "metadata": {},
   "outputs": [],
   "source": [
    "replace_name = lambda x: x \\\n",
    "                        .replace('CITY CITY', 'CITY') \\\n",
    "                        .replace('TOWN TOWN', 'TOWN') \\\n",
    "                        .replace('VILLAGE VILLAGE', 'VILLAGE')\n",
    "df['NAME'] = df['NAME'].apply(replace_name)"
   ]
  },
  {
   "attachments": {},
   "cell_type": "markdown",
   "metadata": {},
   "source": [
    "Verify we removed these names correctly."
   ]
  },
  {
   "cell_type": "code",
   "execution_count": 196,
   "metadata": {},
   "outputs": [
    {
     "name": "stdout",
     "output_type": "stream",
     "text": [
      "CITY CITY: 0 \n",
      "VILLAGE VILLAGE: 0 \n",
      "TOWN TOWN: 0 \n",
      "BOROUGH BOROUGH: 0 \n",
      "TOWNSHIP TOWNSHIP: 0\n"
     ]
    }
   ],
   "source": [
    "print(\n",
    "    'CITY CITY:', len(df[df.NAME.str.contains('CITY CITY')]),\n",
    "    '\\nVILLAGE VILLAGE:', len(df[df.NAME.str.contains('VILLAGE VILLAGE')]),\n",
    "    '\\nTOWN TOWN:', len(df[df.NAME.str.contains('TOWN TOWN')]),\n",
    "    '\\nBOROUGH BOROUGH:', len(df[df.NAME.str.contains('BOROUGH BOROUGH')]),\n",
    "    '\\nTOWNSHIP TOWNSHIP:', len(df[df.NAME.str.contains('TOWNSHIP TOWNSHIP')])\n",
    ")"
   ]
  },
  {
   "attachments": {},
   "cell_type": "markdown",
   "metadata": {},
   "source": [
    "For compatibility with our other datasets and for efficient joining, create a column that combines city and state."
   ]
  },
  {
   "cell_type": "code",
   "execution_count": 197,
   "metadata": {},
   "outputs": [
    {
     "data": {
      "text/html": [
       "<div>\n",
       "<style scoped>\n",
       "    .dataframe tbody tr th:only-of-type {\n",
       "        vertical-align: middle;\n",
       "    }\n",
       "\n",
       "    .dataframe tbody tr th {\n",
       "        vertical-align: top;\n",
       "    }\n",
       "\n",
       "    .dataframe thead th {\n",
       "        text-align: right;\n",
       "    }\n",
       "</style>\n",
       "<table border=\"1\" class=\"dataframe\">\n",
       "  <thead>\n",
       "    <tr style=\"text-align: right;\">\n",
       "      <th></th>\n",
       "      <th>PLACE</th>\n",
       "      <th>NAME</th>\n",
       "      <th>STNAME</th>\n",
       "      <th>ESTIMATESBASE2020</th>\n",
       "      <th>CITYSTATE</th>\n",
       "    </tr>\n",
       "  </thead>\n",
       "  <tbody>\n",
       "    <tr>\n",
       "      <th>78719</th>\n",
       "      <td>0</td>\n",
       "      <td>BRANDON VILLAGE</td>\n",
       "      <td>WI</td>\n",
       "      <td>885</td>\n",
       "      <td>BRANDON VILLAGE,WI</td>\n",
       "    </tr>\n",
       "  </tbody>\n",
       "</table>\n",
       "</div>"
      ],
      "text/plain": [
       "       PLACE             NAME STNAME  ESTIMATESBASE2020           CITYSTATE\n",
       "78719      0  BRANDON VILLAGE     WI                885  BRANDON VILLAGE,WI"
      ]
     },
     "execution_count": 197,
     "metadata": {},
     "output_type": "execute_result"
    }
   ],
   "source": [
    "df['CITYSTATE'] = df['NAME'].str.upper() + ',' + df['STNAME'].str.upper()\n",
    "df.sample(random_state=2)"
   ]
  },
  {
   "attachments": {},
   "cell_type": "markdown",
   "metadata": {},
   "source": [
    "Remove any cities with a population of zero or less."
   ]
  },
  {
   "cell_type": "code",
   "execution_count": 198,
   "metadata": {},
   "outputs": [],
   "source": [
    "df = df[df.ESTIMATESBASE2020 > 0]"
   ]
  },
  {
   "attachments": {},
   "cell_type": "markdown",
   "metadata": {},
   "source": [
    "Remove duplicate rows."
   ]
  },
  {
   "cell_type": "code",
   "execution_count": 199,
   "metadata": {},
   "outputs": [],
   "source": [
    "df = df[~df.duplicated()]"
   ]
  },
  {
   "attachments": {},
   "cell_type": "markdown",
   "metadata": {},
   "source": [
    "Rename the population column for clarity and drop unnecessary columns before exporting."
   ]
  },
  {
   "cell_type": "code",
   "execution_count": 200,
   "metadata": {},
   "outputs": [],
   "source": [
    "df = df \\\n",
    "    .rename(columns={'ESTIMATESBASE2020': 'POPULATION'}) \\\n",
    "    .drop(labels=['NAME', 'STNAME', 'PLACE'], axis=1)"
   ]
  },
  {
   "attachments": {},
   "cell_type": "markdown",
   "metadata": {},
   "source": [
    "Export cleaned data to csv."
   ]
  },
  {
   "cell_type": "code",
   "execution_count": 180,
   "metadata": {},
   "outputs": [],
   "source": [
    "OUT_DIRECTORY = '../data/processed/'\n",
    "df.to_csv(\n",
    "    OUT_DIRECTORY + 'populations_clean.csv', \n",
    "    sep=',', \n",
    "    index=False\n",
    ")"
   ]
  }
 ],
 "metadata": {
  "kernelspec": {
   "display_name": "base",
   "language": "python",
   "name": "python3"
  },
  "language_info": {
   "codemirror_mode": {
    "name": "ipython",
    "version": 3
   },
   "file_extension": ".py",
   "mimetype": "text/x-python",
   "name": "python",
   "nbconvert_exporter": "python",
   "pygments_lexer": "ipython3",
   "version": "3.10.9"
  },
  "orig_nbformat": 4
 },
 "nbformat": 4,
 "nbformat_minor": 2
}
