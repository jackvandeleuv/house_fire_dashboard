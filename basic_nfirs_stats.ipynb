{
 "cells": [
  {
   "cell_type": "code",
   "execution_count": 6,
   "metadata": {},
   "outputs": [],
   "source": [
    "import pandas as pd\n",
    "import numpy as np\n",
    "import seaborn as sns\n",
    "import matplotlib.pyplot as plt\n",
    "import sqlite3\n",
    "import re"
   ]
  },
  {
   "cell_type": "code",
   "execution_count": 7,
   "metadata": {},
   "outputs": [],
   "source": [
    "pd.set_option('display.max_columns', None)"
   ]
  },
  {
   "cell_type": "code",
   "execution_count": 8,
   "metadata": {},
   "outputs": [],
   "source": [
    "seed = 538"
   ]
  },
  {
   "attachments": {},
   "cell_type": "markdown",
   "metadata": {},
   "source": [
    "# Get basic stats on fire incidents from NFIRS by city"
   ]
  },
  {
   "attachments": {},
   "cell_type": "markdown",
   "metadata": {},
   "source": [
    "In this notebook, we'll get basic summary stats for our cities based on the NFIRS data. The goal is to calculate:\n",
    "* Average fire spread (defined by number of other structures impacted)\n",
    "* Average injuries and deaths per fire reported\n",
    "* Average property damage per fire reported\n",
    "* Average number of alarms tripped"
   ]
  },
  {
   "cell_type": "code",
   "execution_count": 9,
   "metadata": {},
   "outputs": [],
   "source": [
    "WORKING_DIRECTORY = 'D:/Fire Project/data/'"
   ]
  },
  {
   "attachments": {},
   "cell_type": "markdown",
   "metadata": {},
   "source": [
    "## Calculate basic statistics by city"
   ]
  },
  {
   "cell_type": "code",
   "execution_count": 10,
   "metadata": {},
   "outputs": [],
   "source": [
    "conn = sqlite3.Connection(WORKING_DIRECTORY + 'fire_data.db')"
   ]
  },
  {
   "attachments": {},
   "cell_type": "markdown",
   "metadata": {},
   "source": [
    "EXP_NO is the number of other structures/vehicles to which the fire spreads. By calculating the average exposure number by city, we can see which cities are most likely to see fires spread."
   ]
  },
  {
   "attachments": {},
   "cell_type": "markdown",
   "metadata": {},
   "source": [
    "* PROP_LOSS and CONT_LOSS are dollar values of lost property and lost contents (anything inside a burning structure/vehicle), there is also PROP_VAL and CONT_VAL, but these measure the pre-fire value.\n",
    "* DET_ALERT (Detector alert) indicates whether a fire detector alerted the occupants or not. Options are 1 (yes alerted), 2 (not alerted), U (unknown), and NULL (not reported)"
   ]
  },
  {
   "attachments": {},
   "cell_type": "markdown",
   "metadata": {},
   "source": [
    "Because we want to use data from 2020 and later as a validation set, we'll exclude 2020 from the statistics that we calculate."
   ]
  },
  {
   "attachments": {},
   "cell_type": "markdown",
   "metadata": {},
   "source": [
    "Here is the extract year code:\n",
    "* SUBSTR(ia.INC_DATE, LENGTH(ia.INC_DATE) - 3, 4)"
   ]
  },
  {
   "cell_type": "code",
   "execution_count": 11,
   "metadata": {},
   "outputs": [],
   "source": [
    "# 4 mins to run\n",
    "city_stats = pd.read_sql(\"\"\"\n",
    "    SELECT ia.CITY, \n",
    "            ia.STATE,\n",
    "            ia.CITY || ',' || ia.STATE \n",
    "                AS CITYSTATE, \n",
    "            AVG(ia.EXP_NO)\n",
    "                AS AVG_SPREAD_ADJ,\n",
    "            AVG(bi.ALARMS)\n",
    "                AS AVG_ALARMS,\n",
    "            AVG(bi.PROP_LOSS + bi.CONT_LOSS)\n",
    "                AS AVG_MONEY_LOST,\n",
    "            AVG(bi.OTH_DEATH + bi.FF_DEATH)\n",
    "                AS AVG_FATALITIES,\n",
    "            AVG(bi.OTH_INJ + bi.FF_INJ)\n",
    "                AS AVG_INJURED,\n",
    "            COUNT(bi.ID)\n",
    "                AS SUPPORT\n",
    "    FROM basic_incident bi JOIN incident_address ia\n",
    "        USING (INCIDENT_KEY)\n",
    "    WHERE CAST(SUBSTR(ia.INC_DATE, LENGTH(ia.INC_DATE) - 3, 4) AS INTEGER) < 2019\n",
    "    GROUP BY ia.CITY, ia.STATE\n",
    "\"\"\", conn)"
   ]
  },
  {
   "cell_type": "code",
   "execution_count": 12,
   "metadata": {},
   "outputs": [
    {
     "data": {
      "text/html": [
       "<div>\n",
       "<style scoped>\n",
       "    .dataframe tbody tr th:only-of-type {\n",
       "        vertical-align: middle;\n",
       "    }\n",
       "\n",
       "    .dataframe tbody tr th {\n",
       "        vertical-align: top;\n",
       "    }\n",
       "\n",
       "    .dataframe thead th {\n",
       "        text-align: right;\n",
       "    }\n",
       "</style>\n",
       "<table border=\"1\" class=\"dataframe\">\n",
       "  <thead>\n",
       "    <tr style=\"text-align: right;\">\n",
       "      <th></th>\n",
       "      <th>CITY</th>\n",
       "      <th>STATE</th>\n",
       "      <th>CITYSTATE</th>\n",
       "      <th>AVG_SPREAD_ADJ</th>\n",
       "      <th>AVG_ALARMS</th>\n",
       "      <th>AVG_MONEY_LOST</th>\n",
       "      <th>AVG_FATALITIES</th>\n",
       "      <th>AVG_INJURED</th>\n",
       "      <th>SUPPORT</th>\n",
       "    </tr>\n",
       "  </thead>\n",
       "  <tbody>\n",
       "    <tr>\n",
       "      <th>0</th>\n",
       "      <td>ABBEVILLE</td>\n",
       "      <td>AL</td>\n",
       "      <td>ABBEVILLE,AL</td>\n",
       "      <td>0.000000</td>\n",
       "      <td>0.500000</td>\n",
       "      <td>0.000000</td>\n",
       "      <td>NaN</td>\n",
       "      <td>NaN</td>\n",
       "      <td>6</td>\n",
       "    </tr>\n",
       "    <tr>\n",
       "      <th>1</th>\n",
       "      <td>ABBEVILLE</td>\n",
       "      <td>GA</td>\n",
       "      <td>ABBEVILLE,GA</td>\n",
       "      <td>0.000000</td>\n",
       "      <td>0.820717</td>\n",
       "      <td>11990.486486</td>\n",
       "      <td>NaN</td>\n",
       "      <td>NaN</td>\n",
       "      <td>259</td>\n",
       "    </tr>\n",
       "    <tr>\n",
       "      <th>2</th>\n",
       "      <td>ABBEVILLE</td>\n",
       "      <td>LA</td>\n",
       "      <td>ABBEVILLE,LA</td>\n",
       "      <td>0.017306</td>\n",
       "      <td>0.577381</td>\n",
       "      <td>12703.393939</td>\n",
       "      <td>0.5</td>\n",
       "      <td>1.5</td>\n",
       "      <td>1329</td>\n",
       "    </tr>\n",
       "    <tr>\n",
       "      <th>3</th>\n",
       "      <td>ABBEVILLE</td>\n",
       "      <td>SC</td>\n",
       "      <td>ABBEVILLE,SC</td>\n",
       "      <td>0.000000</td>\n",
       "      <td>0.500000</td>\n",
       "      <td>479.192901</td>\n",
       "      <td>0.5</td>\n",
       "      <td>1.0</td>\n",
       "      <td>1135</td>\n",
       "    </tr>\n",
       "    <tr>\n",
       "      <th>4</th>\n",
       "      <td>ABBOTSFORD</td>\n",
       "      <td>WI</td>\n",
       "      <td>ABBOTSFORD,WI</td>\n",
       "      <td>0.000000</td>\n",
       "      <td>0.000000</td>\n",
       "      <td>13815.000000</td>\n",
       "      <td>NaN</td>\n",
       "      <td>NaN</td>\n",
       "      <td>51</td>\n",
       "    </tr>\n",
       "    <tr>\n",
       "      <th>...</th>\n",
       "      <td>...</td>\n",
       "      <td>...</td>\n",
       "      <td>...</td>\n",
       "      <td>...</td>\n",
       "      <td>...</td>\n",
       "      <td>...</td>\n",
       "      <td>...</td>\n",
       "      <td>...</td>\n",
       "      <td>...</td>\n",
       "    </tr>\n",
       "    <tr>\n",
       "      <th>8213</th>\n",
       "      <td>ZION CROSSROADS</td>\n",
       "      <td>VA</td>\n",
       "      <td>ZION CROSSROADS,VA</td>\n",
       "      <td>0.000000</td>\n",
       "      <td>1.000000</td>\n",
       "      <td>0.000000</td>\n",
       "      <td>NaN</td>\n",
       "      <td>NaN</td>\n",
       "      <td>3</td>\n",
       "    </tr>\n",
       "    <tr>\n",
       "      <th>8214</th>\n",
       "      <td>ZIONSVILLE</td>\n",
       "      <td>IN</td>\n",
       "      <td>ZIONSVILLE,IN</td>\n",
       "      <td>0.001681</td>\n",
       "      <td>0.044964</td>\n",
       "      <td>11379.409283</td>\n",
       "      <td>NaN</td>\n",
       "      <td>NaN</td>\n",
       "      <td>595</td>\n",
       "    </tr>\n",
       "    <tr>\n",
       "      <th>8215</th>\n",
       "      <td>ZUMBROTA</td>\n",
       "      <td>MN</td>\n",
       "      <td>ZUMBROTA,MN</td>\n",
       "      <td>0.000000</td>\n",
       "      <td>NaN</td>\n",
       "      <td>44286.538462</td>\n",
       "      <td>NaN</td>\n",
       "      <td>NaN</td>\n",
       "      <td>108</td>\n",
       "    </tr>\n",
       "    <tr>\n",
       "      <th>8216</th>\n",
       "      <td>ZUNI</td>\n",
       "      <td>VA</td>\n",
       "      <td>ZUNI,VA</td>\n",
       "      <td>0.000000</td>\n",
       "      <td>1.000000</td>\n",
       "      <td>4540.606061</td>\n",
       "      <td>0.5</td>\n",
       "      <td>0.5</td>\n",
       "      <td>93</td>\n",
       "    </tr>\n",
       "    <tr>\n",
       "      <th>8217</th>\n",
       "      <td>ZWOLLE</td>\n",
       "      <td>LA</td>\n",
       "      <td>ZWOLLE,LA</td>\n",
       "      <td>0.000000</td>\n",
       "      <td>NaN</td>\n",
       "      <td>0.000000</td>\n",
       "      <td>NaN</td>\n",
       "      <td>NaN</td>\n",
       "      <td>58</td>\n",
       "    </tr>\n",
       "  </tbody>\n",
       "</table>\n",
       "<p>8218 rows × 9 columns</p>\n",
       "</div>"
      ],
      "text/plain": [
       "                 CITY STATE           CITYSTATE  AVG_SPREAD_ADJ  AVG_ALARMS  \\\n",
       "0           ABBEVILLE    AL        ABBEVILLE,AL        0.000000    0.500000   \n",
       "1           ABBEVILLE    GA        ABBEVILLE,GA        0.000000    0.820717   \n",
       "2           ABBEVILLE    LA        ABBEVILLE,LA        0.017306    0.577381   \n",
       "3           ABBEVILLE    SC        ABBEVILLE,SC        0.000000    0.500000   \n",
       "4          ABBOTSFORD    WI       ABBOTSFORD,WI        0.000000    0.000000   \n",
       "...               ...   ...                 ...             ...         ...   \n",
       "8213  ZION CROSSROADS    VA  ZION CROSSROADS,VA        0.000000    1.000000   \n",
       "8214       ZIONSVILLE    IN       ZIONSVILLE,IN        0.001681    0.044964   \n",
       "8215         ZUMBROTA    MN         ZUMBROTA,MN        0.000000         NaN   \n",
       "8216             ZUNI    VA             ZUNI,VA        0.000000    1.000000   \n",
       "8217           ZWOLLE    LA           ZWOLLE,LA        0.000000         NaN   \n",
       "\n",
       "      AVG_MONEY_LOST  AVG_FATALITIES  AVG_INJURED  SUPPORT  \n",
       "0           0.000000             NaN          NaN        6  \n",
       "1       11990.486486             NaN          NaN      259  \n",
       "2       12703.393939             0.5          1.5     1329  \n",
       "3         479.192901             0.5          1.0     1135  \n",
       "4       13815.000000             NaN          NaN       51  \n",
       "...              ...             ...          ...      ...  \n",
       "8213        0.000000             NaN          NaN        3  \n",
       "8214    11379.409283             NaN          NaN      595  \n",
       "8215    44286.538462             NaN          NaN      108  \n",
       "8216     4540.606061             0.5          0.5       93  \n",
       "8217        0.000000             NaN          NaN       58  \n",
       "\n",
       "[8218 rows x 9 columns]"
      ]
     },
     "execution_count": 12,
     "metadata": {},
     "output_type": "execute_result"
    }
   ],
   "source": [
    "city_stats"
   ]
  },
  {
   "cell_type": "code",
   "execution_count": 19,
   "metadata": {},
   "outputs": [],
   "source": [
    "city_stats.to_csv(path_or_buf=WORKING_DIRECTORY + 'nfirs_stats_pre2019.csv')"
   ]
  },
  {
   "attachments": {},
   "cell_type": "markdown",
   "metadata": {},
   "source": [
    "### Get average time from alarm to response"
   ]
  },
  {
   "attachments": {},
   "cell_type": "markdown",
   "metadata": {},
   "source": [
    "### Average severity of fires in city, as measured by deaths per fire, number of alarms triggered? Other information about property damage?"
   ]
  },
  {
   "attachments": {},
   "cell_type": "markdown",
   "metadata": {},
   "source": [
    "### Demographic factors related to deaths."
   ]
  }
 ],
 "metadata": {
  "kernelspec": {
   "display_name": "base",
   "language": "python",
   "name": "python3"
  },
  "language_info": {
   "codemirror_mode": {
    "name": "ipython",
    "version": 3
   },
   "file_extension": ".py",
   "mimetype": "text/x-python",
   "name": "python",
   "nbconvert_exporter": "python",
   "pygments_lexer": "ipython3",
   "version": "3.10.9"
  },
  "orig_nbformat": 4
 },
 "nbformat": 4,
 "nbformat_minor": 2
}
