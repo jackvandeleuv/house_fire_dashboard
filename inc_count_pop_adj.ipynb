{
 "cells": [
  {
   "cell_type": "code",
   "execution_count": 1,
   "metadata": {},
   "outputs": [],
   "source": [
    "import pandas as pd\n",
    "import numpy as np\n",
    "import seaborn as sns\n",
    "import matplotlib.pyplot as plt\n",
    "import sqlite3\n",
    "import re"
   ]
  },
  {
   "cell_type": "code",
   "execution_count": 2,
   "metadata": {},
   "outputs": [],
   "source": [
    "pd.set_option('display.max_columns', None)"
   ]
  },
  {
   "cell_type": "code",
   "execution_count": 3,
   "metadata": {},
   "outputs": [],
   "source": [
    "seed = 538"
   ]
  },
  {
   "cell_type": "code",
   "execution_count": 4,
   "metadata": {},
   "outputs": [],
   "source": [
    "WORKING_DIRECTORY = 'D:/Fire Project/data/'"
   ]
  },
  {
   "attachments": {},
   "cell_type": "markdown",
   "metadata": {},
   "source": [
    "## Incident counts, weighted by population"
   ]
  },
  {
   "attachments": {},
   "cell_type": "markdown",
   "metadata": {},
   "source": [
    "We'll start by downloading the total 2020 population counts for US incorporated places and minor encorporated places: April 1 2020 to July 1 2021 from [the Census.gov website](https://www.census.gov/data/tables/time-series/demo/popest/2020s-total-cities-and-towns.html). [Direct link.](https://www2.census.gov/programs-surveys/popest/datasets/2020-2021/cities/totals/sub-est2021_all.csv)"
   ]
  },
  {
   "cell_type": "code",
   "execution_count": 5,
   "metadata": {},
   "outputs": [
    {
     "data": {
      "text/html": [
       "<div>\n",
       "<style scoped>\n",
       "    .dataframe tbody tr th:only-of-type {\n",
       "        vertical-align: middle;\n",
       "    }\n",
       "\n",
       "    .dataframe tbody tr th {\n",
       "        vertical-align: top;\n",
       "    }\n",
       "\n",
       "    .dataframe thead th {\n",
       "        text-align: right;\n",
       "    }\n",
       "</style>\n",
       "<table border=\"1\" class=\"dataframe\">\n",
       "  <thead>\n",
       "    <tr style=\"text-align: right;\">\n",
       "      <th></th>\n",
       "      <th>SUMLEV</th>\n",
       "      <th>STATE</th>\n",
       "      <th>COUNTY</th>\n",
       "      <th>PLACE</th>\n",
       "      <th>COUSUB</th>\n",
       "      <th>CONCIT</th>\n",
       "      <th>PRIMGEO_FLAG</th>\n",
       "      <th>FUNCSTAT</th>\n",
       "      <th>NAME</th>\n",
       "      <th>STNAME</th>\n",
       "      <th>ESTIMATESBASE2020</th>\n",
       "      <th>POPESTIMATE2020</th>\n",
       "      <th>POPESTIMATE2021</th>\n",
       "    </tr>\n",
       "  </thead>\n",
       "  <tbody>\n",
       "    <tr>\n",
       "      <th>8753</th>\n",
       "      <td>162</td>\n",
       "      <td>17</td>\n",
       "      <td>0</td>\n",
       "      <td>51206</td>\n",
       "      <td>0</td>\n",
       "      <td>0</td>\n",
       "      <td>0</td>\n",
       "      <td>A</td>\n",
       "      <td>Mount Zion village</td>\n",
       "      <td>Illinois</td>\n",
       "      <td>5987</td>\n",
       "      <td>5973</td>\n",
       "      <td>5920</td>\n",
       "    </tr>\n",
       "  </tbody>\n",
       "</table>\n",
       "</div>"
      ],
      "text/plain": [
       "      SUMLEV  STATE  COUNTY  PLACE  COUSUB  CONCIT  PRIMGEO_FLAG FUNCSTAT  \\\n",
       "8753     162     17       0  51206       0       0             0        A   \n",
       "\n",
       "                    NAME    STNAME  ESTIMATESBASE2020  POPESTIMATE2020  \\\n",
       "8753  Mount Zion village  Illinois               5987             5973   \n",
       "\n",
       "      POPESTIMATE2021  \n",
       "8753             5920  "
      ]
     },
     "execution_count": 5,
     "metadata": {},
     "output_type": "execute_result"
    }
   ],
   "source": [
    "pop_counts = pd.read_csv(WORKING_DIRECTORY + 'sub-est2021_all.csv',\n",
    "                         sep=',',\n",
    "                         encoding='ISO-8859-1')\n",
    "pop_counts.sample()"
   ]
  },
  {
   "cell_type": "code",
   "execution_count": 6,
   "metadata": {},
   "outputs": [],
   "source": [
    "pop_counts = pop_counts.loc[:, ['PLACE', 'NAME', 'STNAME', 'ESTIMATESBASE2020']]"
   ]
  },
  {
   "cell_type": "code",
   "execution_count": 7,
   "metadata": {},
   "outputs": [],
   "source": [
    "pop_counts['NAME'] = pop_counts.NAME \\\n",
    "                                .str \\\n",
    "                                .upper()"
   ]
  },
  {
   "attachments": {},
   "cell_type": "markdown",
   "metadata": {},
   "source": [
    "The state data is spelled out, so we'll split and convert to state codes."
   ]
  },
  {
   "cell_type": "code",
   "execution_count": 8,
   "metadata": {},
   "outputs": [],
   "source": [
    "state_dict = {\n",
    "    \"ALABAMA\": \"AL\",\n",
    "    \"ALASKA\": \"AK\",\n",
    "    \"ARIZONA\": \"AZ\",\n",
    "    \"ARKANSAS\": \"AR\",\n",
    "    \"CALIFORNIA\": \"CA\",\n",
    "    \"COLORADO\": \"CO\",\n",
    "    \"CONNECTICUT\": \"CT\",\n",
    "    \"DELAWARE\": \"DE\",\n",
    "    \"FLORIDA\": \"FL\",\n",
    "    \"GEORGIA\": \"GA\",\n",
    "    \"HAWAII\": \"HI\",\n",
    "    \"IDAHO\": \"ID\",\n",
    "    \"ILLINOIS\": \"IL\",\n",
    "    \"INDIANA\": \"IN\",\n",
    "    \"IOWA\": \"IA\",\n",
    "    \"KANSAS\": \"KS\",\n",
    "    \"KENTUCKY\": \"KY\",\n",
    "    \"LOUISIANA\": \"LA\",\n",
    "    \"MAINE\": \"ME\",\n",
    "    \"MARYLAND\": \"MD\",\n",
    "    \"MASSACHUSETTS\": \"MA\",\n",
    "    \"MICHIGAN\": \"MI\",\n",
    "    \"MINNESOTA\": \"MN\",\n",
    "    \"MISSISSIPPI\": \"MS\",\n",
    "    \"MISSOURI\": \"MO\",\n",
    "    \"MONTANA\": \"MT\",\n",
    "    \"NEBRASKA\": \"NE\",\n",
    "    \"NEVADA\": \"NV\",\n",
    "    \"NEW HAMPSHIRE\": \"NH\",\n",
    "    \"NEW JERSEY\": \"NJ\",\n",
    "    \"NEW MEXICO\": \"NM\",\n",
    "    \"NEW YORK\": \"NY\",\n",
    "    \"NORTH CAROLINA\": \"NC\",\n",
    "    \"NORTH DAKOTA\": \"ND\",\n",
    "    \"OHIO\": \"OH\",\n",
    "    \"OKLAHOMA\": \"OK\",\n",
    "    \"OREGON\": \"OR\",\n",
    "    \"PENNSYLVANIA\": \"PA\",\n",
    "    \"RHODE ISLAND\": \"RI\",\n",
    "    \"SOUTH CAROLINA\": \"SC\",\n",
    "    \"SOUTH DAKOTA\": \"SD\",\n",
    "    \"TENNESSEE\": \"TN\",\n",
    "    \"TEXAS\": \"TX\",\n",
    "    \"UTAH\": \"UT\",\n",
    "    \"VERMONT\": \"VT\",\n",
    "    \"VIRGINIA\": \"VA\",\n",
    "    \"WASHINGTON\": \"WA\",\n",
    "    \"WEST VIRGINIA\": \"WV\",\n",
    "    \"WISCONSIN\": \"WI\",\n",
    "    \"WYOMING\": \"WY\"\n",
    "}\n"
   ]
  },
  {
   "cell_type": "code",
   "execution_count": 9,
   "metadata": {},
   "outputs": [],
   "source": [
    "pop_counts['STNAME'] = pop_counts.STNAME \\\n",
    "                                    .str \\\n",
    "                                    .upper() \\\n",
    "                                    .map(state_dict)"
   ]
  },
  {
   "cell_type": "code",
   "execution_count": 10,
   "metadata": {},
   "outputs": [],
   "source": [
    "state_names = state_dict.keys()\n",
    "state_codes = state_dict.values()\n",
    "\n",
    "name_mask = pop_counts['NAME'].isin(state_names)\n",
    "code_mask = pop_counts['STNAME'].isin(state_codes)\n",
    "\n",
    "pop_counts = pop_counts[~name_mask | ~code_mask]"
   ]
  },
  {
   "cell_type": "code",
   "execution_count": 11,
   "metadata": {},
   "outputs": [],
   "source": [
    "pop_counts = pop_counts[~pop_counts['NAME'].str.endswith('COUNTY')]"
   ]
  },
  {
   "attachments": {},
   "cell_type": "markdown",
   "metadata": {},
   "source": [
    "We'll drop the parts for this analysis."
   ]
  },
  {
   "cell_type": "code",
   "execution_count": 12,
   "metadata": {},
   "outputs": [],
   "source": [
    "pop_counts = pop_counts[~pop_counts['NAME'].str.endswith('(PT.)')]"
   ]
  },
  {
   "cell_type": "code",
   "execution_count": 13,
   "metadata": {},
   "outputs": [],
   "source": [
    "patterns = [\n",
    "    re.compile(r'\\b\\sCITY\\b(?!\\s*\\b\\sCITY\\b)', re.IGNORECASE),\n",
    "    re.compile(r'\\b\\sBOROUGH\\b(?!\\s*\\b\\sBOROUGH\\b)', re.IGNORECASE),\n",
    "    re.compile(r'\\b\\sVILLAGE\\b(?!\\s*\\b\\sVILLAGE\\b)', re.IGNORECASE),\n",
    "    re.compile(r'\\b\\sTOWN\\b(?!\\s*\\b\\sTOWN\\b)', re.IGNORECASE),\n",
    "    re.compile(r'\\b\\sTOWNSHIP\\b(?!\\s*\\b\\sTOWNSHIP\\b)', re.IGNORECASE)\n",
    "    ]\n",
    "\n",
    "for pattern in patterns:\n",
    "    pop_counts['NAME'] = pop_counts['NAME'].apply(lambda x: pattern.sub('', str(x)))"
   ]
  },
  {
   "cell_type": "code",
   "execution_count": 14,
   "metadata": {},
   "outputs": [],
   "source": [
    "pop_counts['CITYSTATE'] = pop_counts['NAME'].str.upper() + ',' + pop_counts['STNAME'].str.upper()"
   ]
  },
  {
   "cell_type": "code",
   "execution_count": 15,
   "metadata": {},
   "outputs": [],
   "source": [
    "pop_counts = pop_counts[pop_counts.ESTIMATESBASE2020 > 0]"
   ]
  },
  {
   "cell_type": "code",
   "execution_count": 16,
   "metadata": {},
   "outputs": [],
   "source": [
    "pop_counts = pop_counts[~pop_counts.duplicated()]"
   ]
  },
  {
   "cell_type": "code",
   "execution_count": 17,
   "metadata": {},
   "outputs": [],
   "source": [
    "conn = sqlite3.Connection(WORKING_DIRECTORY + 'fire_data.db')"
   ]
  },
  {
   "cell_type": "code",
   "execution_count": 18,
   "metadata": {},
   "outputs": [],
   "source": [
    "total_inc_counts = pd.read_sql(\"\"\"\n",
    "    SELECT ia.CITY || ',' || ia.STATE \n",
    "                AS CITYSTATE, \n",
    "            COUNT(bi.ID) AS INC_COUNT\n",
    "    FROM basic_incident bi JOIN incident_address ia\n",
    "        USING (INCIDENT_KEY)\n",
    "    WHERE bi.INC_TYPE < 200\n",
    "        AND CAST(SUBSTR(ia.INC_DATE, LENGTH(ia.INC_DATE) - 3, 4) AS INTEGER) < 2019\n",
    "    GROUP BY ia.CITY, ia.STATE\n",
    "\"\"\", conn)"
   ]
  },
  {
   "cell_type": "code",
   "execution_count": null,
   "metadata": {},
   "outputs": [],
   "source": [
    "total_inc_pop = total_inc_counts.merge(pop_counts, \n",
    "                                       how='inner', \n",
    "                                       on='CITYSTATE')"
   ]
  },
  {
   "cell_type": "code",
   "execution_count": null,
   "metadata": {},
   "outputs": [],
   "source": [
    "total_inc_pop = total_inc_pop.sort_values(['PLACE', 'ESTIMATESBASE2020'], \n",
    "                                            ascending=[True, False])\n",
    "\n",
    "total_inc_pop = total_inc_pop.drop_duplicates(subset='PLACE', keep='first')"
   ]
  },
  {
   "cell_type": "code",
   "execution_count": null,
   "metadata": {},
   "outputs": [],
   "source": [
    "total_inc_pop['INC_COUNT_ADJ'] = total_inc_pop.INC_COUNT / total_inc_pop.ESTIMATESBASE2020"
   ]
  },
  {
   "cell_type": "code",
   "execution_count": null,
   "metadata": {},
   "outputs": [],
   "source": [
    "total_inc_pop.to_csv(path_or_buf=WORKING_DIRECTORY + 'total_inc_pop.csv',\n",
    "                     sep=',',\n",
    "                     index=False)"
   ]
  },
  {
   "attachments": {},
   "cell_type": "markdown",
   "metadata": {},
   "source": [
    "# Incident counts by incident type (population adjusted)"
   ]
  },
  {
   "cell_type": "code",
   "execution_count": null,
   "metadata": {},
   "outputs": [],
   "source": [
    "inc_type_counts = pd.read_sql(\"\"\"\n",
    "    SELECT ia.CITY || ',' || ia.STATE \n",
    "                AS CITYSTATE, \n",
    "            bi.INC_TYPE \n",
    "                AS INC_TYPE,\n",
    "            COUNT(bi.ID) \n",
    "                AS INC_COUNT\n",
    "    FROM basic_incident bi JOIN incident_address ia\n",
    "        USING (INCIDENT_KEY)\n",
    "    WHERE bi.INC_TYPE < 200 \n",
    "        AND CAST(SUBSTR(ia.INC_DATE, LENGTH(ia.INC_DATE) - 3, 4) AS INTEGER) < 2019\n",
    "    GROUP BY ia.CITY, ia.STATE, bi.INC_TYPE\n",
    "\"\"\", conn)"
   ]
  },
  {
   "cell_type": "code",
   "execution_count": null,
   "metadata": {},
   "outputs": [],
   "source": [
    "inc_type_pop = inc_type_counts.merge(pop_counts, \n",
    "                                       how='inner', \n",
    "                                       on='CITYSTATE')"
   ]
  },
  {
   "attachments": {},
   "cell_type": "markdown",
   "metadata": {},
   "source": [
    "Let's look at the most common incident types in our dataset."
   ]
  },
  {
   "cell_type": "code",
   "execution_count": null,
   "metadata": {},
   "outputs": [
    {
     "data": {
      "image/png": "[encoded data removed]",
      "text/plain": [
       "<Figure size 1000x600 with 1 Axes>"
      ]
     },
     "metadata": {},
     "output_type": "display_data"
    }
   ],
   "source": [
    "grouped_data = inc_type_pop.groupby('INC_TYPE')['INC_COUNT'].sum().reset_index()\n",
    "\n",
    "sorted_data = grouped_data.sort_values('INC_COUNT', ascending=False)\n",
    "\n",
    "# Get top 10 incident types\n",
    "top_10_data = sorted_data.head(10).copy()  # Create a copy of the data to avoid warnings\n",
    "\n",
    "inc_type_descriptions = {\n",
    "    111: 'Building fire',\n",
    "    113: 'Cooking fire, confined to vessel',\n",
    "    131: 'Passenger vehicle fire',\n",
    "    151: 'Outside rubbish, trash, or waste fire',\n",
    "    142: 'Brush or brush-and-grass mixture fire',\n",
    "    143: 'Grass fire',\n",
    "    150: 'Outside rubbish fire, other',\n",
    "    100: 'Fire, other',\n",
    "    118: 'Trash or rubbish fire in a structure',\n",
    "    154: 'Dumpster or other outside trash fire',\n",
    "}\n",
    "\n",
    "top_10_data.loc[:, 'INC_TYPE_DESC'] = top_10_data['INC_TYPE'].map(inc_type_descriptions)\n",
    "\n",
    "top_10_data.loc[:, 'INC_TYPE_WITH_DESC'] = top_10_data['INC_TYPE'].astype(str) + ': ' + top_10_data['INC_TYPE_DESC']\n",
    "\n",
    "plt.figure(figsize=(10, 6))\n",
    "plt.bar(top_10_data['INC_TYPE_WITH_DESC'], top_10_data['INC_COUNT'])\n",
    "plt.xlabel('INC_TYPE')\n",
    "plt.ylabel('INC_COUNT')\n",
    "plt.title('Top 10 Fire Incidents by Type')\n",
    "plt.xticks(rotation=90)  # Rotate x-axis labels for better readability\n",
    "plt.show()\n"
   ]
  },
  {
   "cell_type": "code",
   "execution_count": null,
   "metadata": {},
   "outputs": [],
   "source": [
    "inc_type_pop111 = inc_type_pop[inc_type_pop.INC_TYPE == 111].copy()\n",
    "inc_type_pop111.loc[:, '111_COUNT_ADJ'] = inc_type_pop111.INC_COUNT / inc_type_pop111.ESTIMATESBASE2020"
   ]
  },
  {
   "cell_type": "code",
   "execution_count": null,
   "metadata": {},
   "outputs": [],
   "source": [
    "inc_type_pop113 = inc_type_pop[inc_type_pop.INC_TYPE == 113].copy()\n",
    "inc_type_pop113.loc[:, '113_COUNT_ADJ'] = inc_type_pop113.INC_COUNT / inc_type_pop113.ESTIMATESBASE2020"
   ]
  },
  {
   "cell_type": "code",
   "execution_count": null,
   "metadata": {},
   "outputs": [],
   "source": [
    "inc_type_pop111.to_csv(path_or_buf=WORKING_DIRECTORY + 'inc_type_pop111_pre2019.csv',\n",
    "                     sep=',',\n",
    "                     index=False)\n",
    "\n",
    "inc_type_pop113.to_csv(path_or_buf=WORKING_DIRECTORY + 'inc_type_pop113_pre2019.csv',\n",
    "                     sep=',',\n",
    "                     index=False)"
   ]
  },
  {
   "attachments": {},
   "cell_type": "markdown",
   "metadata": {},
   "source": [
    "### Check why some states are getting dropped when merging pop_counts and total_inc_counts"
   ]
  },
  {
   "attachments": {},
   "cell_type": "markdown",
   "metadata": {},
   "source": [
    "### Total incident count by year and city, adjusted for population"
   ]
  }
 ],
 "metadata": {
  "kernelspec": {
   "display_name": "base",
   "language": "python",
   "name": "python3"
  },
  "language_info": {
   "codemirror_mode": {
    "name": "ipython",
    "version": 3
   },
   "file_extension": ".py",
   "mimetype": "text/x-python",
   "name": "python",
   "nbconvert_exporter": "python",
   "pygments_lexer": "ipython3",
   "version": "3.10.9"
  },
  "orig_nbformat": 4
 },
 "nbformat": 4,
 "nbformat_minor": 2
}
