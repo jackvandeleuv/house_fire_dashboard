{
 "cells": [
  {
   "cell_type": "code",
   "execution_count": 56,
   "metadata": {},
   "outputs": [],
   "source": [
    "import pandas as pd\n",
    "import numpy as np\n",
    "import seaborn as sns\n",
    "import matplotlib.pyplot as plt\n",
    "import sqlite3\n",
    "import re\n",
    "\n",
    "pd.set_option('display.max_columns', None)"
   ]
  },
  {
   "cell_type": "code",
   "execution_count": 57,
   "metadata": {},
   "outputs": [],
   "source": [
    "WORKING_DIRECTORY = '../data/processed/'"
   ]
  },
  {
   "cell_type": "code",
   "execution_count": 58,
   "metadata": {},
   "outputs": [],
   "source": [
    "conn = sqlite3.Connection(WORKING_DIRECTORY + 'fire_data.db')"
   ]
  },
  {
   "attachments": {},
   "cell_type": "markdown",
   "metadata": {},
   "source": [
    "# Basic cleaning and validation"
   ]
  },
  {
   "attachments": {},
   "cell_type": "markdown",
   "metadata": {},
   "source": [
    "In this notebook, we'll get basic summary stats for our cities based on the NFIRS data."
   ]
  },
  {
   "attachments": {},
   "cell_type": "markdown",
   "metadata": {},
   "source": [
    "We'll start with these columns:\n",
    "* EXP_NO (exposure number): the number of other structures/vehicles to which the fire spreads. By calculating the average exposure number by city, we can see which cities are most likely to see fires spread.\n",
    "* PROP_LOSS and CONT_LOSS: the dollar values of lost property and lost contents (anything inside a burning structure/vehicle) respectively. There is also PROP_VAL and CONT_VAL, but these measure the pre-fire value and so we'll ignore them.\n",
    "* OTH_DEATH, OTH_INJ, FF_DEATH, OTH_INJ: measures deaths and injuries for non-firefighters and firefighters respectively."
   ]
  },
  {
   "attachments": {},
   "cell_type": "markdown",
   "metadata": {},
   "source": [
    "Note, there are a significant number of fires in basic_incident that have no cooresponding incident address. We will exclude these fires from our analysis, as we can't group them by city."
   ]
  },
  {
   "cell_type": "code",
   "execution_count": null,
   "metadata": {},
   "outputs": [],
   "source": []
  },
  {
   "cell_type": "code",
   "execution_count": 59,
   "metadata": {},
   "outputs": [
    {
     "data": {
      "text/html": [
       "<div>\n",
       "<style scoped>\n",
       "    .dataframe tbody tr th:only-of-type {\n",
       "        vertical-align: middle;\n",
       "    }\n",
       "\n",
       "    .dataframe tbody tr th {\n",
       "        vertical-align: top;\n",
       "    }\n",
       "\n",
       "    .dataframe thead th {\n",
       "        text-align: right;\n",
       "    }\n",
       "</style>\n",
       "<table border=\"1\" class=\"dataframe\">\n",
       "  <thead>\n",
       "    <tr style=\"text-align: right;\">\n",
       "      <th></th>\n",
       "      <th>COUNT(DISTINCT INCIDENT_KEY)</th>\n",
       "    </tr>\n",
       "  </thead>\n",
       "  <tbody>\n",
       "    <tr>\n",
       "      <th>0</th>\n",
       "      <td>17418755</td>\n",
       "    </tr>\n",
       "    <tr>\n",
       "      <th>1</th>\n",
       "      <td>17418758</td>\n",
       "    </tr>\n",
       "  </tbody>\n",
       "</table>\n",
       "</div>"
      ],
      "text/plain": [
       "   COUNT(DISTINCT INCIDENT_KEY)\n",
       "0                      17418755\n",
       "1                      17418758"
      ]
     },
     "metadata": {},
     "output_type": "display_data"
    },
    {
     "data": {
      "text/html": [
       "<div>\n",
       "<style scoped>\n",
       "    .dataframe tbody tr th:only-of-type {\n",
       "        vertical-align: middle;\n",
       "    }\n",
       "\n",
       "    .dataframe tbody tr th {\n",
       "        vertical-align: top;\n",
       "    }\n",
       "\n",
       "    .dataframe thead th {\n",
       "        text-align: right;\n",
       "    }\n",
       "</style>\n",
       "<table border=\"1\" class=\"dataframe\">\n",
       "  <thead>\n",
       "    <tr style=\"text-align: right;\">\n",
       "      <th></th>\n",
       "      <th>COUNT(DISTINCT INCIDENT_KEY)</th>\n",
       "    </tr>\n",
       "  </thead>\n",
       "  <tbody>\n",
       "    <tr>\n",
       "      <th>0</th>\n",
       "      <td>17418755</td>\n",
       "    </tr>\n",
       "    <tr>\n",
       "      <th>1</th>\n",
       "      <td>17418758</td>\n",
       "    </tr>\n",
       "  </tbody>\n",
       "</table>\n",
       "</div>"
      ],
      "text/plain": [
       "   COUNT(DISTINCT INCIDENT_KEY)\n",
       "0                      17418755\n",
       "1                      17418758"
      ]
     },
     "metadata": {},
     "output_type": "display_data"
    }
   ],
   "source": [
    "\n",
    "oneway = pd.read_sql(\"\"\"\n",
    "    SELECT COUNT(DISTINCT INCIDENT_KEY) \n",
    "    FROM basic_incident\n",
    "    UNION ALL\n",
    "    SELECT COUNT(*) \n",
    "    FROM incident_address;\n",
    "\"\"\", conn)\n",
    "\n",
    "theother = pd.read_sql(\"\"\"\n",
    "    SELECT COUNT(DISTINCT INCIDENT_KEY) \n",
    "    FROM incident_address\n",
    "    UNION ALL\n",
    "    SELECT COUNT(*) \n",
    "    FROM basic_incident;\n",
    "\"\"\", conn)\n",
    "\n",
    "display(oneway, theother)"
   ]
  },
  {
   "cell_type": "code",
   "execution_count": null,
   "metadata": {},
   "outputs": [],
   "source": []
  },
  {
   "attachments": {},
   "cell_type": "markdown",
   "metadata": {},
   "source": [
    "Lets investigate a sample of fires with more than zero exposures to see what the data looks like."
   ]
  },
  {
   "cell_type": "code",
   "execution_count": 60,
   "metadata": {},
   "outputs": [
    {
     "data": {
      "text/html": [
       "<div>\n",
       "<style scoped>\n",
       "    .dataframe tbody tr th:only-of-type {\n",
       "        vertical-align: middle;\n",
       "    }\n",
       "\n",
       "    .dataframe tbody tr th {\n",
       "        vertical-align: top;\n",
       "    }\n",
       "\n",
       "    .dataframe thead th {\n",
       "        text-align: right;\n",
       "    }\n",
       "</style>\n",
       "<table border=\"1\" class=\"dataframe\">\n",
       "  <thead>\n",
       "    <tr style=\"text-align: right;\">\n",
       "      <th></th>\n",
       "      <th>ID</th>\n",
       "      <th>STATE</th>\n",
       "      <th>FDID</th>\n",
       "      <th>INC_DATE</th>\n",
       "      <th>INC_NO</th>\n",
       "      <th>EXP_NO</th>\n",
       "      <th>VERSION</th>\n",
       "      <th>DEPT_STA</th>\n",
       "      <th>INC_TYPE</th>\n",
       "      <th>ADD_WILD</th>\n",
       "      <th>AID</th>\n",
       "      <th>ALARM</th>\n",
       "      <th>ARRIVAL</th>\n",
       "      <th>INC_CONT</th>\n",
       "      <th>LU_CLEAR</th>\n",
       "      <th>SHIFT</th>\n",
       "      <th>ALARMS</th>\n",
       "      <th>DISTRICT</th>\n",
       "      <th>ACT_TAK1</th>\n",
       "      <th>ACT_TAK2</th>\n",
       "      <th>ACT_TAK3</th>\n",
       "      <th>APP_MOD</th>\n",
       "      <th>SUP_APP</th>\n",
       "      <th>EMS_APP</th>\n",
       "      <th>OTH_APP</th>\n",
       "      <th>SUP_PER</th>\n",
       "      <th>EMS_PER</th>\n",
       "      <th>OTH_PER</th>\n",
       "      <th>RESOU_AID</th>\n",
       "      <th>PROP_LOSS</th>\n",
       "      <th>CONT_LOSS</th>\n",
       "      <th>PROP_VAL</th>\n",
       "      <th>CONT_VAL</th>\n",
       "      <th>FF_DEATH</th>\n",
       "      <th>OTH_DEATH</th>\n",
       "      <th>FF_INJ</th>\n",
       "      <th>OTH_INJ</th>\n",
       "      <th>DET_ALERT</th>\n",
       "      <th>HAZ_REL</th>\n",
       "      <th>MIXED_USE</th>\n",
       "      <th>PROP_USE</th>\n",
       "      <th>CENSUS</th>\n",
       "      <th>INCIDENT_KEY</th>\n",
       "    </tr>\n",
       "  </thead>\n",
       "  <tbody>\n",
       "  </tbody>\n",
       "</table>\n",
       "</div>"
      ],
      "text/plain": [
       "Empty DataFrame\n",
       "Columns: [ID, STATE, FDID, INC_DATE, INC_NO, EXP_NO, VERSION, DEPT_STA, INC_TYPE, ADD_WILD, AID, ALARM, ARRIVAL, INC_CONT, LU_CLEAR, SHIFT, ALARMS, DISTRICT, ACT_TAK1, ACT_TAK2, ACT_TAK3, APP_MOD, SUP_APP, EMS_APP, OTH_APP, SUP_PER, EMS_PER, OTH_PER, RESOU_AID, PROP_LOSS, CONT_LOSS, PROP_VAL, CONT_VAL, FF_DEATH, OTH_DEATH, FF_INJ, OTH_INJ, DET_ALERT, HAZ_REL, MIXED_USE, PROP_USE, CENSUS, INCIDENT_KEY]\n",
       "Index: []"
      ]
     },
     "execution_count": 60,
     "metadata": {},
     "output_type": "execute_result"
    }
   ],
   "source": [
    "\n",
    "# 30 seconds\n",
    "test2 = pd.read_sql(\"\"\"\n",
    "SELECT basic_incident.* \n",
    "FROM basic_incident\n",
    "LEFT JOIN incident_address \n",
    "ON basic_incident.INCIDENT_KEY = incident_address.INCIDENT_KEY\n",
    "WHERE incident_address.INCIDENT_KEY IS NULL\n",
    "LIMIT 500000\n",
    "\n",
    "\"\"\", conn)\n",
    "test2"
   ]
  },
  {
   "cell_type": "code",
   "execution_count": 61,
   "metadata": {},
   "outputs": [],
   "source": [
    "# group = test.groupby(by=['STATE', 'FDID', 'INC_DATE', 'INC_NO']).EXP_NO.max().reset_index()\n",
    "# "
   ]
  },
  {
   "cell_type": "code",
   "execution_count": 62,
   "metadata": {},
   "outputs": [],
   "source": [
    "# group2 = test2.groupby(by=['STATE', 'FDID', 'INC_DATE', 'INC_NO']).EXP_NO.max().reset_index()\n"
   ]
  },
  {
   "cell_type": "code",
   "execution_count": 63,
   "metadata": {},
   "outputs": [],
   "source": [
    "# group.EXP_NO.mean()"
   ]
  },
  {
   "cell_type": "code",
   "execution_count": 64,
   "metadata": {},
   "outputs": [],
   "source": [
    "# test2.groupby(by=['STATE','FDID','INC_DATE','INC_NO']).EXP_NO.max().reset_index().EXP_NO.mean()"
   ]
  },
  {
   "cell_type": "code",
   "execution_count": null,
   "metadata": {},
   "outputs": [],
   "source": []
  },
  {
   "attachments": {},
   "cell_type": "markdown",
   "metadata": {},
   "source": [
    "Before we query values from the table, let's look at percentage of null values per column."
   ]
  },
  {
   "cell_type": "code",
   "execution_count": 65,
   "metadata": {},
   "outputs": [
    {
     "data": {
      "text/html": [
       "<div>\n",
       "<style scoped>\n",
       "    .dataframe tbody tr th:only-of-type {\n",
       "        vertical-align: middle;\n",
       "    }\n",
       "\n",
       "    .dataframe tbody tr th {\n",
       "        vertical-align: top;\n",
       "    }\n",
       "\n",
       "    .dataframe thead th {\n",
       "        text-align: right;\n",
       "    }\n",
       "</style>\n",
       "<table border=\"1\" class=\"dataframe\">\n",
       "  <thead>\n",
       "    <tr style=\"text-align: right;\">\n",
       "      <th></th>\n",
       "      <th>INCIDENT_KEY_NULL</th>\n",
       "      <th>INC_DATE_NULL</th>\n",
       "      <th>EXP_NO_NULL</th>\n",
       "      <th>ALARMS_NULL</th>\n",
       "      <th>PROP_LOSS_NULL</th>\n",
       "      <th>CONT_LOSS_NULL</th>\n",
       "      <th>OTH_DEATH_NULL</th>\n",
       "      <th>FF_DEATH_NULL</th>\n",
       "      <th>OTH_INJ_NULL</th>\n",
       "      <th>FF_INJ_NULL</th>\n",
       "    </tr>\n",
       "  </thead>\n",
       "  <tbody>\n",
       "    <tr>\n",
       "      <th>0</th>\n",
       "      <td>0.000000</td>\n",
       "      <td>0.000000</td>\n",
       "      <td>0.000000</td>\n",
       "      <td>0.428669</td>\n",
       "      <td>0.407289</td>\n",
       "      <td>0.411452</td>\n",
       "      <td>0.996123</td>\n",
       "      <td>0.010418</td>\n",
       "      <td>0.996123</td>\n",
       "      <td>0.010418</td>\n",
       "    </tr>\n",
       "  </tbody>\n",
       "</table>\n",
       "</div>"
      ],
      "text/plain": [
       "   INCIDENT_KEY_NULL  INC_DATE_NULL  EXP_NO_NULL  ALARMS_NULL  PROP_LOSS_NULL  \\\n",
       "0           0.000000       0.000000     0.000000     0.428669        0.407289   \n",
       "\n",
       "   CONT_LOSS_NULL  OTH_DEATH_NULL  FF_DEATH_NULL  OTH_INJ_NULL  FF_INJ_NULL  \n",
       "0        0.411452        0.996123       0.010418      0.996123     0.010418  "
      ]
     },
     "execution_count": 65,
     "metadata": {},
     "output_type": "execute_result"
    }
   ],
   "source": [
    "# 15 seconds to run\n",
    "pd.options.display.float_format = '{:.6f}'.format\n",
    "pd.read_sql(\"\"\"\n",
    "    SELECT\n",
    "        (CAST(COUNT(*) AS FLOAT) - COUNT(INCIDENT_KEY)) / COUNT(*) AS INCIDENT_KEY_NULL,\n",
    "        (CAST(COUNT(*) AS FLOAT) - COUNT(INC_DATE)) / COUNT(*) AS INC_DATE_NULL,\n",
    "        (CAST(COUNT(*) AS FLOAT) - COUNT(EXP_NO)) / COUNT(*) AS EXP_NO_NULL,\n",
    "        (CAST(COUNT(*) AS FLOAT) - COUNT(ALARMS)) / COUNT(*) AS ALARMS_NULL,\n",
    "        (CAST(COUNT(*) AS FLOAT) - COUNT(PROP_LOSS)) / COUNT(*) AS PROP_LOSS_NULL,\n",
    "        (CAST(COUNT(*) AS FLOAT) - COUNT(CONT_LOSS)) / COUNT(*) AS CONT_LOSS_NULL,\n",
    "        (CAST(COUNT(*) AS FLOAT) - COUNT(OTH_DEATH)) / COUNT(*) AS OTH_DEATH_NULL,\n",
    "        (CAST(COUNT(*) AS FLOAT) - COUNT(FF_DEATH)) / COUNT(*) AS FF_DEATH_NULL,\n",
    "        (CAST(COUNT(*) AS FLOAT) - COUNT(OTH_INJ)) / COUNT(*) AS OTH_INJ_NULL,\n",
    "        (CAST(COUNT(*) AS FLOAT) - COUNT(FF_INJ)) / COUNT(*) AS FF_INJ_NULL\n",
    "    FROM basic_incident;\n",
    "\"\"\", conn)"
   ]
  },
  {
   "attachments": {},
   "cell_type": "markdown",
   "metadata": {},
   "source": [
    "We have significant numbers of null values for:\n",
    "* ALARMS\n",
    "* PROPERTY LOSS AND CONTENTS LOSS\n",
    "* INJURY AND DEATH (FIREFIGHTER AND NON-FIREFIGHTER)"
   ]
  },
  {
   "attachments": {},
   "cell_type": "markdown",
   "metadata": {},
   "source": [
    "Do a basic sanity check: find the total number of deaths there would be, assuming that the average can be calculated by disregarding the null values. (In reality, about 3,000 Americans die in fires every year.)"
   ]
  },
  {
   "cell_type": "code",
   "execution_count": 66,
   "metadata": {},
   "outputs": [
    {
     "data": {
      "text/html": [
       "<div>\n",
       "<style scoped>\n",
       "    .dataframe tbody tr th:only-of-type {\n",
       "        vertical-align: middle;\n",
       "    }\n",
       "\n",
       "    .dataframe tbody tr th {\n",
       "        vertical-align: top;\n",
       "    }\n",
       "\n",
       "    .dataframe thead th {\n",
       "        text-align: right;\n",
       "    }\n",
       "</style>\n",
       "<table border=\"1\" class=\"dataframe\">\n",
       "  <thead>\n",
       "    <tr style=\"text-align: right;\">\n",
       "      <th></th>\n",
       "      <th>year</th>\n",
       "      <th>firefighter_no_imputation</th>\n",
       "      <th>firefighter_impute_zero</th>\n",
       "      <th>other_no_imputation</th>\n",
       "      <th>other_impute_zero</th>\n",
       "    </tr>\n",
       "  </thead>\n",
       "  <tbody>\n",
       "    <tr>\n",
       "      <th>0</th>\n",
       "      <td>2013</td>\n",
       "      <td>23.3</td>\n",
       "      <td>23.0</td>\n",
       "      <td>457713.0</td>\n",
       "      <td>1944.0</td>\n",
       "    </tr>\n",
       "    <tr>\n",
       "      <th>1</th>\n",
       "      <td>2014</td>\n",
       "      <td>21.3</td>\n",
       "      <td>21.0</td>\n",
       "      <td>520773.3</td>\n",
       "      <td>2151.0</td>\n",
       "    </tr>\n",
       "    <tr>\n",
       "      <th>2</th>\n",
       "      <td>2015</td>\n",
       "      <td>18.2</td>\n",
       "      <td>18.0</td>\n",
       "      <td>537176.9</td>\n",
       "      <td>2174.0</td>\n",
       "    </tr>\n",
       "    <tr>\n",
       "      <th>3</th>\n",
       "      <td>2016</td>\n",
       "      <td>11.1</td>\n",
       "      <td>11.0</td>\n",
       "      <td>613173.4</td>\n",
       "      <td>2390.0</td>\n",
       "    </tr>\n",
       "    <tr>\n",
       "      <th>4</th>\n",
       "      <td>2017</td>\n",
       "      <td>23.2</td>\n",
       "      <td>23.0</td>\n",
       "      <td>600813.1</td>\n",
       "      <td>2228.0</td>\n",
       "    </tr>\n",
       "    <tr>\n",
       "      <th>5</th>\n",
       "      <td>2018</td>\n",
       "      <td>25.3</td>\n",
       "      <td>25.0</td>\n",
       "      <td>612065.0</td>\n",
       "      <td>2355.0</td>\n",
       "    </tr>\n",
       "    <tr>\n",
       "      <th>6</th>\n",
       "      <td>2019</td>\n",
       "      <td>9.1</td>\n",
       "      <td>9.0</td>\n",
       "      <td>621286.0</td>\n",
       "      <td>2453.0</td>\n",
       "    </tr>\n",
       "    <tr>\n",
       "      <th>7</th>\n",
       "      <td>2020</td>\n",
       "      <td>25.2</td>\n",
       "      <td>25.0</td>\n",
       "      <td>663308.3</td>\n",
       "      <td>2146.0</td>\n",
       "    </tr>\n",
       "  </tbody>\n",
       "</table>\n",
       "</div>"
      ],
      "text/plain": [
       "   year  firefighter_no_imputation  firefighter_impute_zero  \\\n",
       "0  2013                       23.3                     23.0   \n",
       "1  2014                       21.3                     21.0   \n",
       "2  2015                       18.2                     18.0   \n",
       "3  2016                       11.1                     11.0   \n",
       "4  2017                       23.2                     23.0   \n",
       "5  2018                       25.3                     25.0   \n",
       "6  2019                        9.1                      9.0   \n",
       "7  2020                       25.2                     25.0   \n",
       "\n",
       "   other_no_imputation  other_impute_zero  \n",
       "0             457713.0             1944.0  \n",
       "1             520773.3             2151.0  \n",
       "2             537176.9             2174.0  \n",
       "3             613173.4             2390.0  \n",
       "4             600813.1             2228.0  \n",
       "5             612065.0             2355.0  \n",
       "6             621286.0             2453.0  \n",
       "7             663308.3             2146.0  "
      ]
     },
     "execution_count": 66,
     "metadata": {},
     "output_type": "execute_result"
    }
   ],
   "source": [
    "# 45 seconds to run\n",
    "pd.options.display.float_format = '{:.1f}'.format\n",
    "pd.read_sql(\"\"\"\n",
    "    SELECT\n",
    "        CAST(SUBSTR(INC_DATE, LENGTH(INC_DATE) - 3, 4) AS INTEGER) AS year,\n",
    "        AVG(FF_DEATH) * COUNT(*) AS firefighter_no_imputation,\n",
    "        SUM(IFNULL(FF_DEATH, 0)) AS firefighter_impute_zero,\n",
    "        AVG(OTH_DEATH) * COUNT(*) AS other_no_imputation,\n",
    "        SUM(IFNULL(OTH_DEATH, 0)) AS other_impute_zero\n",
    "    FROM basic_incident\n",
    "    GROUP BY CAST(SUBSTR(INC_DATE, LENGTH(INC_DATE) - 3, 4) AS INTEGER)\n",
    ";\"\"\", conn)"
   ]
  },
  {
   "attachments": {},
   "cell_type": "markdown",
   "metadata": {},
   "source": [
    "~500K/year is much too high for fire deaths! So imputation is likely the correct approach for fatalities. There is less effect on firefighter deaths, as these values are mostly not null.\n",
    "\n",
    "We'll do a similar validation with property (and contents of buildings) lost to fire, expressed in dollars."
   ]
  },
  {
   "cell_type": "code",
   "execution_count": 67,
   "metadata": {},
   "outputs": [
    {
     "data": {
      "text/html": [
       "<div>\n",
       "<style scoped>\n",
       "    .dataframe tbody tr th:only-of-type {\n",
       "        vertical-align: middle;\n",
       "    }\n",
       "\n",
       "    .dataframe tbody tr th {\n",
       "        vertical-align: top;\n",
       "    }\n",
       "\n",
       "    .dataframe thead th {\n",
       "        text-align: right;\n",
       "    }\n",
       "</style>\n",
       "<table border=\"1\" class=\"dataframe\">\n",
       "  <thead>\n",
       "    <tr style=\"text-align: right;\">\n",
       "      <th></th>\n",
       "      <th>year</th>\n",
       "      <th>property_loss_no_imputation</th>\n",
       "      <th>property_loss_impute_zero</th>\n",
       "      <th>contents_loss_no_imputation</th>\n",
       "      <th>contents_loss_impute_zero</th>\n",
       "    </tr>\n",
       "  </thead>\n",
       "  <tbody>\n",
       "    <tr>\n",
       "      <th>0</th>\n",
       "      <td>2013</td>\n",
       "      <td>$11,107,744,594.51</td>\n",
       "      <td>$6,100,252,912.00</td>\n",
       "      <td>$4,574,669,116.84</td>\n",
       "      <td>$2,482,542,055.00</td>\n",
       "    </tr>\n",
       "    <tr>\n",
       "      <th>1</th>\n",
       "      <td>2014</td>\n",
       "      <td>$12,836,098,348.78</td>\n",
       "      <td>$7,073,011,307.00</td>\n",
       "      <td>$5,000,377,606.91</td>\n",
       "      <td>$2,724,793,410.00</td>\n",
       "    </tr>\n",
       "    <tr>\n",
       "      <th>2</th>\n",
       "      <td>2015</td>\n",
       "      <td>$14,209,249,129.14</td>\n",
       "      <td>$7,757,919,406.00</td>\n",
       "      <td>$6,691,443,744.50</td>\n",
       "      <td>$3,621,441,180.00</td>\n",
       "    </tr>\n",
       "    <tr>\n",
       "      <th>3</th>\n",
       "      <td>2016</td>\n",
       "      <td>$17,430,723,448.98</td>\n",
       "      <td>$10,031,807,333.00</td>\n",
       "      <td>$10,142,315,833.06</td>\n",
       "      <td>$5,803,008,506.00</td>\n",
       "    </tr>\n",
       "    <tr>\n",
       "      <th>4</th>\n",
       "      <td>2017</td>\n",
       "      <td>$15,428,082,051.38</td>\n",
       "      <td>$9,054,475,107.00</td>\n",
       "      <td>$7,279,604,959.78</td>\n",
       "      <td>$4,253,582,680.00</td>\n",
       "    </tr>\n",
       "    <tr>\n",
       "      <th>5</th>\n",
       "      <td>2018</td>\n",
       "      <td>$16,596,251,424.50</td>\n",
       "      <td>$10,260,643,777.00</td>\n",
       "      <td>$9,484,419,649.02</td>\n",
       "      <td>$5,837,203,521.00</td>\n",
       "    </tr>\n",
       "    <tr>\n",
       "      <th>6</th>\n",
       "      <td>2019</td>\n",
       "      <td>$14,459,406,243.80</td>\n",
       "      <td>$9,270,533,265.00</td>\n",
       "      <td>$6,751,338,994.80</td>\n",
       "      <td>$4,303,154,078.00</td>\n",
       "    </tr>\n",
       "    <tr>\n",
       "      <th>7</th>\n",
       "      <td>2020</td>\n",
       "      <td>$14,640,862,321.28</td>\n",
       "      <td>$9,771,304,548.00</td>\n",
       "      <td>$4,755,840,349.90</td>\n",
       "      <td>$3,156,023,758.00</td>\n",
       "    </tr>\n",
       "  </tbody>\n",
       "</table>\n",
       "</div>"
      ],
      "text/plain": [
       "   year  property_loss_no_imputation  property_loss_impute_zero  \\\n",
       "0  2013           $11,107,744,594.51          $6,100,252,912.00   \n",
       "1  2014           $12,836,098,348.78          $7,073,011,307.00   \n",
       "2  2015           $14,209,249,129.14          $7,757,919,406.00   \n",
       "3  2016           $17,430,723,448.98         $10,031,807,333.00   \n",
       "4  2017           $15,428,082,051.38          $9,054,475,107.00   \n",
       "5  2018           $16,596,251,424.50         $10,260,643,777.00   \n",
       "6  2019           $14,459,406,243.80          $9,270,533,265.00   \n",
       "7  2020           $14,640,862,321.28          $9,771,304,548.00   \n",
       "\n",
       "   contents_loss_no_imputation  contents_loss_impute_zero  \n",
       "0            $4,574,669,116.84          $2,482,542,055.00  \n",
       "1            $5,000,377,606.91          $2,724,793,410.00  \n",
       "2            $6,691,443,744.50          $3,621,441,180.00  \n",
       "3           $10,142,315,833.06          $5,803,008,506.00  \n",
       "4            $7,279,604,959.78          $4,253,582,680.00  \n",
       "5            $9,484,419,649.02          $5,837,203,521.00  \n",
       "6            $6,751,338,994.80          $4,303,154,078.00  \n",
       "7            $4,755,840,349.90          $3,156,023,758.00  "
      ]
     },
     "metadata": {},
     "output_type": "display_data"
    }
   ],
   "source": [
    "# 1.5 minutes to run\n",
    "pd.options.display.float_format = '${:,.2f}'.format\n",
    "loss = pd.read_sql(\"\"\"\n",
    "    SELECT\n",
    "        CAST(SUBSTR(INC_DATE, LENGTH(INC_DATE) - 3, 4) AS INTEGER) AS year,\n",
    "        AVG(PROP_LOSS) * COUNT(*) AS property_loss_no_imputation,\n",
    "        SUM(IFNULL(PROP_LOSS, 0)) AS property_loss_impute_zero,\n",
    "        AVG(CONT_LOSS) * COUNT(*) AS contents_loss_no_imputation,\n",
    "        SUM(IFNULL(CONT_LOSS, 0)) AS contents_loss_impute_zero\n",
    "    FROM basic_incident\n",
    "    GROUP BY CAST(SUBSTR(INC_DATE, LENGTH(INC_DATE) - 3, 4) AS INTEGER)\n",
    ";\"\"\", conn)\n",
    "\n",
    "display(loss)\n",
    "pd.reset_option('display.float_format')"
   ]
  },
  {
   "attachments": {},
   "cell_type": "markdown",
   "metadata": {},
   "source": [
    "This validation is less clear-cut, with the property loss being about twice as high without imputation."
   ]
  },
  {
   "attachments": {},
   "cell_type": "markdown",
   "metadata": {},
   "source": [
    "Later on, we will impute these as 0 to avoid inflating the average values. "
   ]
  },
  {
   "attachments": {},
   "cell_type": "markdown",
   "metadata": {},
   "source": [
    "# Calculate average death, injury, property loss, and fire spread by city"
   ]
  },
  {
   "attachments": {},
   "cell_type": "markdown",
   "metadata": {},
   "source": [
    "Because we want to use data from 2020 and later as a validation set, we'll exclude 2020 from the statistics that we calculate."
   ]
  },
  {
   "attachments": {},
   "cell_type": "markdown",
   "metadata": {},
   "source": [
    "We'll impute 0 when death/injury, property/contents loss, or alarms is null."
   ]
  },
  {
   "attachments": {},
   "cell_type": "markdown",
   "metadata": {},
   "source": [
    "We'll calcuate the average exposure number per city. Each fire (including exposure fires resulting from the first fire), shares a STATE/FDID/INC_DATE/INC_NO. (This is the INCIDENT_KEY minus the EXP_NO, or exposure number, which is the final part of the 5-part key.)\n",
    "\n",
    "By taking the maximum exposure number in the subquery, we'll get a count of the number of exposures per fire."
   ]
  },
  {
   "cell_type": "code",
   "execution_count": 68,
   "metadata": {},
   "outputs": [],
   "source": [
    "# 3 minutes\n",
    "avg_exp_13_18 = pd.read_sql(\"\"\"\n",
    "    WITH sub AS (\n",
    "        SELECT \n",
    "            ia.CITY, \n",
    "            ia.STATE, \n",
    "            MAX(ia.EXP_NO) as max\n",
    "        FROM incident_address ia\n",
    "            JOIN basic_incident bi\n",
    "            USING (INCIDENT_KEY)\n",
    "        WHERE CAST(SUBSTR(bi.INC_DATE, LENGTH(bi.INC_DATE) - 3, 4) AS INTEGER) < 2019 \n",
    "        GROUP BY ia.CITY, ia.STATE, ia.FDID, ia.INC_DATE, ia.INC_NO\n",
    "    )\n",
    "    SELECT \n",
    "        sub.CITY || ',' || sub.STATE AS CITYSTATE,\n",
    "        AVG(sub.max) as AVG_SPREAD\n",
    "    FROM sub\n",
    "    GROUP BY CITY, STATE \n",
    "\"\"\", conn)"
   ]
  },
  {
   "attachments": {},
   "cell_type": "markdown",
   "metadata": {},
   "source": [
    "It's important to consider that factors like property loss may be reported separately for different sub-fires. E.g., if an initial fire causes two other fires, each of the three fires might have its own associated property loss, which will be reported under a separate INCIDENT_KEY. \n",
    "\n",
    "We can aggregate the death, injury, and property/container loss by grouping by STATE, FDID, INC_DATE, and INC_NO. \n",
    "\n",
    "(INCIDENT_KEY, which uniquely identifies a fire, is a composite string formatted like this => STATE + FDID + INC_DATE + INC_NO + EXP_NO.)"
   ]
  },
  {
   "attachments": {},
   "cell_type": "markdown",
   "metadata": {},
   "source": [
    "Selecting all rows in incident address where exposure number is zero will give us all reported primary fires (i.e. fires not as the result of an exposure from another fire) where the address is known."
   ]
  },
  {
   "cell_type": "code",
   "execution_count": 69,
   "metadata": {},
   "outputs": [],
   "source": [
    "# 3 minutes to run\n",
    "avg_loss_13_18 = pd.read_sql(\"\"\"\n",
    "    WITH sub1 as (\n",
    "        SELECT\n",
    "            ia.CITY as CITY,\n",
    "            ia.STATE as STATE,\n",
    "            SUM(COALESCE(bi.PROP_LOSS, 0)) as SUM_PROP_LOSS,\n",
    "            SUM(COALESCE(bi.CONT_LOSS, 0)) as SUM_CONT_LOSS,\n",
    "            SUM(COALESCE(bi.OTH_DEATH, 0)) as SUM_OTH_DEATH,\n",
    "            SUM(COALESCE(bi.FF_DEATH, 0)) as SUM_FF_DEATH,\n",
    "            SUM(COALESCE(bi.OTH_INJ, 0)) as SUM_OTH_INJ,\n",
    "            SUM(COALESCE(bi.FF_INJ, 0)) as SUM_FF_INJ\n",
    "        FROM basic_incident bi JOIN incident_address ia\n",
    "            USING (INCIDENT_KEY)\n",
    "        WHERE CAST(SUBSTR(bi.INC_DATE, LENGTH(bi.INC_DATE) - 3, 4) AS INTEGER) < 2019\n",
    "        GROUP BY ia.CITY, ia.STATE\n",
    "    ),\n",
    "    sub2 AS (\n",
    "        SELECT \n",
    "            CITY, \n",
    "            STATE, \n",
    "            COUNT(id) as FIRE_COUNT\n",
    "        FROM incident_address\n",
    "        WHERE EXP_NO == 0\n",
    "        GROUP BY CITY, STATE\n",
    "    )\n",
    "    SELECT \n",
    "        sub1.CITY || ',' || sub1.STATE AS CITYSTATE, \n",
    "        (sub1.SUM_CONT_LOSS + sub1.SUM_PROP_LOSS) / sub2.FIRE_COUNT AS AVG_MONEY_LOST,\n",
    "        (sub1.SUM_OTH_DEATH + sub1.SUM_FF_DEATH) / sub2.FIRE_COUNT AS AVG_FATALITIES,\n",
    "        (sub1.SUM_OTH_INJ + sub1.SUM_FF_INJ) / sub2.FIRE_COUNT AS AVG_INJURIES,\n",
    "        sub2.FIRE_COUNT AS SUPPORT\n",
    "    FROM sub1 JOIN sub2\n",
    "        ON sub1.CITY = sub2.CITY\n",
    "        AND sub1.STATE = sub2.STATE\n",
    "\"\"\", conn)"
   ]
  },
  {
   "attachments": {},
   "cell_type": "markdown",
   "metadata": {},
   "source": [
    "Now we'll merge the two DataFrames together. "
   ]
  },
  {
   "cell_type": "code",
   "execution_count": 78,
   "metadata": {},
   "outputs": [],
   "source": [
    "combined = spread.merge(right=loss, how='inner', on='CITYSTATE')"
   ]
  },
  {
   "attachments": {},
   "cell_type": "markdown",
   "metadata": {},
   "source": [
    "We'll export the results for further analysis."
   ]
  },
  {
   "cell_type": "code",
   "execution_count": 79,
   "metadata": {},
   "outputs": [],
   "source": [
    "combined.to_csv(\n",
    "    WORKING_DIRECTORY + 'other_nfirs_13_18.csv',\n",
    "    sep=',',\n",
    "    index=False\n",
    ")"
   ]
  }
 ],
 "metadata": {
  "kernelspec": {
   "display_name": "base",
   "language": "python",
   "name": "python3"
  },
  "language_info": {
   "codemirror_mode": {
    "name": "ipython",
    "version": 3
   },
   "file_extension": ".py",
   "mimetype": "text/x-python",
   "name": "python",
   "nbconvert_exporter": "python",
   "pygments_lexer": "ipython3",
   "version": "3.10.9"
  },
  "orig_nbformat": 4
 },
 "nbformat": 4,
 "nbformat_minor": 2
}
