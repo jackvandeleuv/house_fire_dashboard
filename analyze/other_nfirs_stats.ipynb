{
 "cells": [
  {
   "cell_type": "code",
   "execution_count": 28,
   "metadata": {},
   "outputs": [],
   "source": [
    "import pandas as pd\n",
    "import numpy as np\n",
    "import seaborn as sns\n",
    "import matplotlib.pyplot as plt\n",
    "import sqlite3\n",
    "import re\n",
    "\n",
    "pd.set_option('display.max_columns', None)"
   ]
  },
  {
   "cell_type": "code",
   "execution_count": 29,
   "metadata": {},
   "outputs": [],
   "source": [
    "WORKING_DIRECTORY = '../data/processed/'"
   ]
  },
  {
   "cell_type": "code",
   "execution_count": 30,
   "metadata": {},
   "outputs": [],
   "source": [
    "conn = sqlite3.Connection(WORKING_DIRECTORY + 'fire_data.db')"
   ]
  },
  {
   "attachments": {},
   "cell_type": "markdown",
   "metadata": {},
   "source": [
    "# Basic cleaning and validation"
   ]
  },
  {
   "attachments": {},
   "cell_type": "markdown",
   "metadata": {},
   "source": [
    "In this notebook, we'll get basic summary stats for our cities based on the NFIRS data."
   ]
  },
  {
   "attachments": {},
   "cell_type": "markdown",
   "metadata": {},
   "source": [
    "We'll start with these columns:\n",
    "* EXP_NO (exposure number): the number of other structures/vehicles to which the fire spreads. By calculating the average exposure number by city, we can see which cities are most likely to see fires spread.\n",
    "* PROP_LOSS and CONT_LOSS: the dollar values of lost property and lost contents (anything inside a burning structure/vehicle) respectively. There is also PROP_VAL and CONT_VAL, but these measure the pre-fire value and so we'll ignore them.\n",
    "* OTH_DEATH, OTH_INJ, FF_DEATH, OTH_INJ: measures deaths and injuries for non-firefighters and firefighters respectively."
   ]
  },
  {
   "attachments": {},
   "cell_type": "markdown",
   "metadata": {},
   "source": [
    "Before we query values from the table, let's look at percentage of null values per column."
   ]
  },
  {
   "cell_type": "code",
   "execution_count": 31,
   "metadata": {},
   "outputs": [
    {
     "data": {
      "text/html": [
       "<div>\n",
       "<style scoped>\n",
       "    .dataframe tbody tr th:only-of-type {\n",
       "        vertical-align: middle;\n",
       "    }\n",
       "\n",
       "    .dataframe tbody tr th {\n",
       "        vertical-align: top;\n",
       "    }\n",
       "\n",
       "    .dataframe thead th {\n",
       "        text-align: right;\n",
       "    }\n",
       "</style>\n",
       "<table border=\"1\" class=\"dataframe\">\n",
       "  <thead>\n",
       "    <tr style=\"text-align: right;\">\n",
       "      <th></th>\n",
       "      <th>INCIDENT_KEY_NULL</th>\n",
       "      <th>INC_DATE_NULL</th>\n",
       "      <th>EXP_NO_NULL</th>\n",
       "      <th>ALARMS_NULL</th>\n",
       "      <th>PROP_LOSS_NULL</th>\n",
       "      <th>CONT_LOSS_NULL</th>\n",
       "      <th>OTH_DEATH_NULL</th>\n",
       "      <th>FF_DEATH_NULL</th>\n",
       "      <th>OTH_INJ_NULL</th>\n",
       "      <th>FF_INJ_NULL</th>\n",
       "    </tr>\n",
       "  </thead>\n",
       "  <tbody>\n",
       "    <tr>\n",
       "      <th>0</th>\n",
       "      <td>0.000000</td>\n",
       "      <td>0.000000</td>\n",
       "      <td>0.000000</td>\n",
       "      <td>0.428669</td>\n",
       "      <td>0.407289</td>\n",
       "      <td>0.411452</td>\n",
       "      <td>0.996123</td>\n",
       "      <td>0.010418</td>\n",
       "      <td>0.996123</td>\n",
       "      <td>0.010418</td>\n",
       "    </tr>\n",
       "  </tbody>\n",
       "</table>\n",
       "</div>"
      ],
      "text/plain": [
       "   INCIDENT_KEY_NULL  INC_DATE_NULL  EXP_NO_NULL  ALARMS_NULL  PROP_LOSS_NULL  \\\n",
       "0           0.000000       0.000000     0.000000     0.428669        0.407289   \n",
       "\n",
       "   CONT_LOSS_NULL  OTH_DEATH_NULL  FF_DEATH_NULL  OTH_INJ_NULL  FF_INJ_NULL  \n",
       "0        0.411452        0.996123       0.010418      0.996123     0.010418  "
      ]
     },
     "execution_count": 31,
     "metadata": {},
     "output_type": "execute_result"
    }
   ],
   "source": [
    "# 15 seconds to run\n",
    "pd.options.display.float_format = '{:.6f}'.format\n",
    "pd.read_sql(\"\"\"\n",
    "    SELECT\n",
    "        (CAST(COUNT(*) AS FLOAT) - COUNT(INCIDENT_KEY)) / COUNT(*) AS INCIDENT_KEY_NULL,\n",
    "        (CAST(COUNT(*) AS FLOAT) - COUNT(INC_DATE)) / COUNT(*) AS INC_DATE_NULL,\n",
    "        (CAST(COUNT(*) AS FLOAT) - COUNT(EXP_NO)) / COUNT(*) AS EXP_NO_NULL,\n",
    "        (CAST(COUNT(*) AS FLOAT) - COUNT(ALARMS)) / COUNT(*) AS ALARMS_NULL,\n",
    "        (CAST(COUNT(*) AS FLOAT) - COUNT(PROP_LOSS)) / COUNT(*) AS PROP_LOSS_NULL,\n",
    "        (CAST(COUNT(*) AS FLOAT) - COUNT(CONT_LOSS)) / COUNT(*) AS CONT_LOSS_NULL,\n",
    "        (CAST(COUNT(*) AS FLOAT) - COUNT(OTH_DEATH)) / COUNT(*) AS OTH_DEATH_NULL,\n",
    "        (CAST(COUNT(*) AS FLOAT) - COUNT(FF_DEATH)) / COUNT(*) AS FF_DEATH_NULL,\n",
    "        (CAST(COUNT(*) AS FLOAT) - COUNT(OTH_INJ)) / COUNT(*) AS OTH_INJ_NULL,\n",
    "        (CAST(COUNT(*) AS FLOAT) - COUNT(FF_INJ)) / COUNT(*) AS FF_INJ_NULL\n",
    "    FROM basic_incident;\n",
    "\"\"\", conn)"
   ]
  },
  {
   "attachments": {},
   "cell_type": "markdown",
   "metadata": {},
   "source": [
    "We have significant numbers of null values for:\n",
    "* ALARMS\n",
    "* PROPERTY LOSS AND CONTENTS LOSS\n",
    "* INJURY AND DEATH (FIREFIGHTER AND NON-FIREFIGHTER)"
   ]
  },
  {
   "attachments": {},
   "cell_type": "markdown",
   "metadata": {},
   "source": [
    "Do a basic sanity check: find the total number of deaths there would be, assuming that the average can be calculated by disregarding the null values. (In reality, about 3,000 Americans die in fires every year.)"
   ]
  },
  {
   "cell_type": "code",
   "execution_count": 32,
   "metadata": {},
   "outputs": [
    {
     "data": {
      "text/html": [
       "<div>\n",
       "<style scoped>\n",
       "    .dataframe tbody tr th:only-of-type {\n",
       "        vertical-align: middle;\n",
       "    }\n",
       "\n",
       "    .dataframe tbody tr th {\n",
       "        vertical-align: top;\n",
       "    }\n",
       "\n",
       "    .dataframe thead th {\n",
       "        text-align: right;\n",
       "    }\n",
       "</style>\n",
       "<table border=\"1\" class=\"dataframe\">\n",
       "  <thead>\n",
       "    <tr style=\"text-align: right;\">\n",
       "      <th></th>\n",
       "      <th>year</th>\n",
       "      <th>firefighter_no_imputation</th>\n",
       "      <th>firefighter_impute_zero</th>\n",
       "      <th>other_no_imputation</th>\n",
       "      <th>other_impute_zero</th>\n",
       "    </tr>\n",
       "  </thead>\n",
       "  <tbody>\n",
       "    <tr>\n",
       "      <th>0</th>\n",
       "      <td>2013</td>\n",
       "      <td>23.3</td>\n",
       "      <td>23.0</td>\n",
       "      <td>457713.0</td>\n",
       "      <td>1944.0</td>\n",
       "    </tr>\n",
       "    <tr>\n",
       "      <th>1</th>\n",
       "      <td>2014</td>\n",
       "      <td>21.3</td>\n",
       "      <td>21.0</td>\n",
       "      <td>520773.3</td>\n",
       "      <td>2151.0</td>\n",
       "    </tr>\n",
       "    <tr>\n",
       "      <th>2</th>\n",
       "      <td>2015</td>\n",
       "      <td>18.2</td>\n",
       "      <td>18.0</td>\n",
       "      <td>537176.9</td>\n",
       "      <td>2174.0</td>\n",
       "    </tr>\n",
       "    <tr>\n",
       "      <th>3</th>\n",
       "      <td>2016</td>\n",
       "      <td>11.1</td>\n",
       "      <td>11.0</td>\n",
       "      <td>613173.4</td>\n",
       "      <td>2390.0</td>\n",
       "    </tr>\n",
       "    <tr>\n",
       "      <th>4</th>\n",
       "      <td>2017</td>\n",
       "      <td>23.2</td>\n",
       "      <td>23.0</td>\n",
       "      <td>600813.1</td>\n",
       "      <td>2228.0</td>\n",
       "    </tr>\n",
       "    <tr>\n",
       "      <th>5</th>\n",
       "      <td>2018</td>\n",
       "      <td>25.3</td>\n",
       "      <td>25.0</td>\n",
       "      <td>612065.0</td>\n",
       "      <td>2355.0</td>\n",
       "    </tr>\n",
       "    <tr>\n",
       "      <th>6</th>\n",
       "      <td>2019</td>\n",
       "      <td>9.1</td>\n",
       "      <td>9.0</td>\n",
       "      <td>621286.0</td>\n",
       "      <td>2453.0</td>\n",
       "    </tr>\n",
       "    <tr>\n",
       "      <th>7</th>\n",
       "      <td>2020</td>\n",
       "      <td>25.2</td>\n",
       "      <td>25.0</td>\n",
       "      <td>663308.3</td>\n",
       "      <td>2146.0</td>\n",
       "    </tr>\n",
       "  </tbody>\n",
       "</table>\n",
       "</div>"
      ],
      "text/plain": [
       "   year  firefighter_no_imputation  firefighter_impute_zero  \\\n",
       "0  2013                       23.3                     23.0   \n",
       "1  2014                       21.3                     21.0   \n",
       "2  2015                       18.2                     18.0   \n",
       "3  2016                       11.1                     11.0   \n",
       "4  2017                       23.2                     23.0   \n",
       "5  2018                       25.3                     25.0   \n",
       "6  2019                        9.1                      9.0   \n",
       "7  2020                       25.2                     25.0   \n",
       "\n",
       "   other_no_imputation  other_impute_zero  \n",
       "0             457713.0             1944.0  \n",
       "1             520773.3             2151.0  \n",
       "2             537176.9             2174.0  \n",
       "3             613173.4             2390.0  \n",
       "4             600813.1             2228.0  \n",
       "5             612065.0             2355.0  \n",
       "6             621286.0             2453.0  \n",
       "7             663308.3             2146.0  "
      ]
     },
     "execution_count": 32,
     "metadata": {},
     "output_type": "execute_result"
    }
   ],
   "source": [
    "# 45 seconds to run\n",
    "pd.options.display.float_format = '{:.1f}'.format\n",
    "pd.read_sql(\"\"\"\n",
    "    SELECT\n",
    "        CAST(SUBSTR(INC_DATE, LENGTH(INC_DATE) - 3, 4) AS INTEGER) AS year,\n",
    "        AVG(FF_DEATH) * COUNT(*) AS firefighter_no_imputation,\n",
    "        SUM(IFNULL(FF_DEATH, 0)) AS firefighter_impute_zero,\n",
    "        AVG(OTH_DEATH) * COUNT(*) AS other_no_imputation,\n",
    "        SUM(IFNULL(OTH_DEATH, 0)) AS other_impute_zero\n",
    "    FROM basic_incident\n",
    "    GROUP BY CAST(SUBSTR(INC_DATE, LENGTH(INC_DATE) - 3, 4) AS INTEGER)\n",
    ";\"\"\", conn)"
   ]
  },
  {
   "attachments": {},
   "cell_type": "markdown",
   "metadata": {},
   "source": [
    "~500K/year is much too high for fire deaths! So imputation is likely the correct approach for fatalities. There is less effect on firefighter deaths, as these values are mostly not null.\n",
    "\n",
    "We'll do a similar validation with property (and contents of buildings) lost to fire, expressed in dollars."
   ]
  },
  {
   "cell_type": "code",
   "execution_count": 33,
   "metadata": {},
   "outputs": [
    {
     "data": {
      "text/html": [
       "<div>\n",
       "<style scoped>\n",
       "    .dataframe tbody tr th:only-of-type {\n",
       "        vertical-align: middle;\n",
       "    }\n",
       "\n",
       "    .dataframe tbody tr th {\n",
       "        vertical-align: top;\n",
       "    }\n",
       "\n",
       "    .dataframe thead th {\n",
       "        text-align: right;\n",
       "    }\n",
       "</style>\n",
       "<table border=\"1\" class=\"dataframe\">\n",
       "  <thead>\n",
       "    <tr style=\"text-align: right;\">\n",
       "      <th></th>\n",
       "      <th>year</th>\n",
       "      <th>property_loss_no_imputation</th>\n",
       "      <th>property_loss_impute_zero</th>\n",
       "      <th>contents_loss_no_imputation</th>\n",
       "      <th>contents_loss_impute_zero</th>\n",
       "    </tr>\n",
       "  </thead>\n",
       "  <tbody>\n",
       "    <tr>\n",
       "      <th>0</th>\n",
       "      <td>2013</td>\n",
       "      <td>$11,107,744,594.51</td>\n",
       "      <td>$6,100,252,912.00</td>\n",
       "      <td>$4,574,669,116.84</td>\n",
       "      <td>$2,482,542,055.00</td>\n",
       "    </tr>\n",
       "    <tr>\n",
       "      <th>1</th>\n",
       "      <td>2014</td>\n",
       "      <td>$12,836,098,348.78</td>\n",
       "      <td>$7,073,011,307.00</td>\n",
       "      <td>$5,000,377,606.91</td>\n",
       "      <td>$2,724,793,410.00</td>\n",
       "    </tr>\n",
       "    <tr>\n",
       "      <th>2</th>\n",
       "      <td>2015</td>\n",
       "      <td>$14,209,249,129.14</td>\n",
       "      <td>$7,757,919,406.00</td>\n",
       "      <td>$6,691,443,744.50</td>\n",
       "      <td>$3,621,441,180.00</td>\n",
       "    </tr>\n",
       "    <tr>\n",
       "      <th>3</th>\n",
       "      <td>2016</td>\n",
       "      <td>$17,430,723,448.98</td>\n",
       "      <td>$10,031,807,333.00</td>\n",
       "      <td>$10,142,315,833.06</td>\n",
       "      <td>$5,803,008,506.00</td>\n",
       "    </tr>\n",
       "    <tr>\n",
       "      <th>4</th>\n",
       "      <td>2017</td>\n",
       "      <td>$15,428,082,051.38</td>\n",
       "      <td>$9,054,475,107.00</td>\n",
       "      <td>$7,279,604,959.78</td>\n",
       "      <td>$4,253,582,680.00</td>\n",
       "    </tr>\n",
       "    <tr>\n",
       "      <th>5</th>\n",
       "      <td>2018</td>\n",
       "      <td>$16,596,251,424.50</td>\n",
       "      <td>$10,260,643,777.00</td>\n",
       "      <td>$9,484,419,649.02</td>\n",
       "      <td>$5,837,203,521.00</td>\n",
       "    </tr>\n",
       "    <tr>\n",
       "      <th>6</th>\n",
       "      <td>2019</td>\n",
       "      <td>$14,459,406,243.80</td>\n",
       "      <td>$9,270,533,265.00</td>\n",
       "      <td>$6,751,338,994.80</td>\n",
       "      <td>$4,303,154,078.00</td>\n",
       "    </tr>\n",
       "    <tr>\n",
       "      <th>7</th>\n",
       "      <td>2020</td>\n",
       "      <td>$14,640,862,321.28</td>\n",
       "      <td>$9,771,304,548.00</td>\n",
       "      <td>$4,755,840,349.90</td>\n",
       "      <td>$3,156,023,758.00</td>\n",
       "    </tr>\n",
       "  </tbody>\n",
       "</table>\n",
       "</div>"
      ],
      "text/plain": [
       "   year  property_loss_no_imputation  property_loss_impute_zero  \\\n",
       "0  2013           $11,107,744,594.51          $6,100,252,912.00   \n",
       "1  2014           $12,836,098,348.78          $7,073,011,307.00   \n",
       "2  2015           $14,209,249,129.14          $7,757,919,406.00   \n",
       "3  2016           $17,430,723,448.98         $10,031,807,333.00   \n",
       "4  2017           $15,428,082,051.38          $9,054,475,107.00   \n",
       "5  2018           $16,596,251,424.50         $10,260,643,777.00   \n",
       "6  2019           $14,459,406,243.80          $9,270,533,265.00   \n",
       "7  2020           $14,640,862,321.28          $9,771,304,548.00   \n",
       "\n",
       "   contents_loss_no_imputation  contents_loss_impute_zero  \n",
       "0            $4,574,669,116.84          $2,482,542,055.00  \n",
       "1            $5,000,377,606.91          $2,724,793,410.00  \n",
       "2            $6,691,443,744.50          $3,621,441,180.00  \n",
       "3           $10,142,315,833.06          $5,803,008,506.00  \n",
       "4            $7,279,604,959.78          $4,253,582,680.00  \n",
       "5            $9,484,419,649.02          $5,837,203,521.00  \n",
       "6            $6,751,338,994.80          $4,303,154,078.00  \n",
       "7            $4,755,840,349.90          $3,156,023,758.00  "
      ]
     },
     "metadata": {},
     "output_type": "display_data"
    }
   ],
   "source": [
    "# 1.5 minutes to run\n",
    "pd.options.display.float_format = '${:,.2f}'.format\n",
    "loss = pd.read_sql(\"\"\"\n",
    "    SELECT\n",
    "        CAST(SUBSTR(INC_DATE, LENGTH(INC_DATE) - 3, 4) AS INTEGER) AS year,\n",
    "        AVG(PROP_LOSS) * COUNT(*) AS property_loss_no_imputation,\n",
    "        SUM(IFNULL(PROP_LOSS, 0)) AS property_loss_impute_zero,\n",
    "        AVG(CONT_LOSS) * COUNT(*) AS contents_loss_no_imputation,\n",
    "        SUM(IFNULL(CONT_LOSS, 0)) AS contents_loss_impute_zero\n",
    "    FROM basic_incident\n",
    "    GROUP BY CAST(SUBSTR(INC_DATE, LENGTH(INC_DATE) - 3, 4) AS INTEGER)\n",
    ";\"\"\", conn)\n",
    "\n",
    "display(loss)\n",
    "pd.reset_option('display.float_format')"
   ]
  },
  {
   "attachments": {},
   "cell_type": "markdown",
   "metadata": {},
   "source": [
    "This validation is less clear-cut, with the property loss being about twice as high without imputation."
   ]
  },
  {
   "attachments": {},
   "cell_type": "markdown",
   "metadata": {},
   "source": [
    "Later on, we will impute these as 0 to avoid inflating the average values. "
   ]
  },
  {
   "attachments": {},
   "cell_type": "markdown",
   "metadata": {},
   "source": [
    "# Calculate average death, injury, property loss, and fire spread by city"
   ]
  },
  {
   "attachments": {},
   "cell_type": "markdown",
   "metadata": {},
   "source": [
    "Because we want to use data from 2020 and later as a validation set, we'll exclude 2020 from the statistics that we calculate."
   ]
  },
  {
   "attachments": {},
   "cell_type": "markdown",
   "metadata": {},
   "source": [
    "We'll impute 0 when death/injury, property/contents loss, or alarms is null."
   ]
  },
  {
   "cell_type": "code",
   "execution_count": 34,
   "metadata": {},
   "outputs": [],
   "source": [
    "# 7 minutes to run\n",
    "non_null_averages = pd.read_sql(\"\"\"\n",
    "SELECT \n",
    "    ia.CITY || ',' || ia.STATE AS CITYSTATE, \n",
    "    AVG(bi.EXP_NO) AS AVG_SPREAD,\n",
    "    AVG(COALESCE(bi.PROP_LOSS, 0) + COALESCE(bi.CONT_LOSS, 0)) AS AVG_MONEY_LOST,\n",
    "    AVG(COALESCE(bi.OTH_DEATH, 0) + COALESCE(bi.FF_DEATH, 0)) AS AVG_FATALITIES,\n",
    "    AVG(COALESCE(bi.OTH_INJ, 0) + COALESCE(bi.FF_INJ, 0)) AS AVG_INJURIES,\n",
    "    AVG(COALESCE(bi.ALARMS, 0)) AS AVG_ALARMS,\n",
    "    COUNT(bi.ID) AS SUPPORT\n",
    "FROM incident_address ia\n",
    "LEFT JOIN basic_incident bi\n",
    "    ON ia.INCIDENT_KEY = bi.INCIDENT_KEY\n",
    "WHERE CAST(SUBSTR(ia.INC_DATE, LENGTH(ia.INC_DATE) - 3, 4) AS INTEGER) < 2019\n",
    "GROUP BY ia.CITY, ia.STATE\n",
    "\"\"\", conn)"
   ]
  },
  {
   "cell_type": "code",
   "execution_count": 35,
   "metadata": {},
   "outputs": [
    {
     "data": {
      "text/html": [
       "<div>\n",
       "<style scoped>\n",
       "    .dataframe tbody tr th:only-of-type {\n",
       "        vertical-align: middle;\n",
       "    }\n",
       "\n",
       "    .dataframe tbody tr th {\n",
       "        vertical-align: top;\n",
       "    }\n",
       "\n",
       "    .dataframe thead th {\n",
       "        text-align: right;\n",
       "    }\n",
       "</style>\n",
       "<table border=\"1\" class=\"dataframe\">\n",
       "  <thead>\n",
       "    <tr style=\"text-align: right;\">\n",
       "      <th></th>\n",
       "      <th>CITYSTATE</th>\n",
       "      <th>AVG_SPREAD</th>\n",
       "      <th>AVG_MONEY_LOST</th>\n",
       "      <th>AVG_FATALITIES</th>\n",
       "      <th>AVG_INJURIES</th>\n",
       "      <th>AVG_ALARMS</th>\n",
       "      <th>SUPPORT</th>\n",
       "    </tr>\n",
       "  </thead>\n",
       "  <tbody>\n",
       "    <tr>\n",
       "      <th>8112</th>\n",
       "      <td>WOOSTER,OH</td>\n",
       "      <td>0.001868</td>\n",
       "      <td>2022.552304</td>\n",
       "      <td>0.0</td>\n",
       "      <td>0.004981</td>\n",
       "      <td>0.003113</td>\n",
       "      <td>1606</td>\n",
       "    </tr>\n",
       "    <tr>\n",
       "      <th>6621</th>\n",
       "      <td>SEAT PLEASANT,MD</td>\n",
       "      <td>0.000000</td>\n",
       "      <td>3989.201183</td>\n",
       "      <td>0.0</td>\n",
       "      <td>0.047337</td>\n",
       "      <td>0.005917</td>\n",
       "      <td>169</td>\n",
       "    </tr>\n",
       "    <tr>\n",
       "      <th>8135</th>\n",
       "      <td>WYOMING,PA</td>\n",
       "      <td>0.000000</td>\n",
       "      <td>606.481481</td>\n",
       "      <td>0.0</td>\n",
       "      <td>0.000000</td>\n",
       "      <td>0.143519</td>\n",
       "      <td>216</td>\n",
       "    </tr>\n",
       "    <tr>\n",
       "      <th>4172</th>\n",
       "      <td>LINDSTROM,MN</td>\n",
       "      <td>0.000000</td>\n",
       "      <td>2172.222222</td>\n",
       "      <td>0.0</td>\n",
       "      <td>0.000000</td>\n",
       "      <td>0.005556</td>\n",
       "      <td>180</td>\n",
       "    </tr>\n",
       "    <tr>\n",
       "      <th>4596</th>\n",
       "      <td>MCCORDSVILLE,IN</td>\n",
       "      <td>0.009346</td>\n",
       "      <td>3057.981308</td>\n",
       "      <td>0.0</td>\n",
       "      <td>0.000000</td>\n",
       "      <td>0.168224</td>\n",
       "      <td>107</td>\n",
       "    </tr>\n",
       "  </tbody>\n",
       "</table>\n",
       "</div>"
      ],
      "text/plain": [
       "             CITYSTATE  AVG_SPREAD  AVG_MONEY_LOST  AVG_FATALITIES  \\\n",
       "8112        WOOSTER,OH    0.001868     2022.552304             0.0   \n",
       "6621  SEAT PLEASANT,MD    0.000000     3989.201183             0.0   \n",
       "8135        WYOMING,PA    0.000000      606.481481             0.0   \n",
       "4172      LINDSTROM,MN    0.000000     2172.222222             0.0   \n",
       "4596   MCCORDSVILLE,IN    0.009346     3057.981308             0.0   \n",
       "\n",
       "      AVG_INJURIES  AVG_ALARMS  SUPPORT  \n",
       "8112      0.004981    0.003113     1606  \n",
       "6621      0.047337    0.005917      169  \n",
       "8135      0.000000    0.143519      216  \n",
       "4172      0.000000    0.005556      180  \n",
       "4596      0.000000    0.168224      107  "
      ]
     },
     "execution_count": 35,
     "metadata": {},
     "output_type": "execute_result"
    }
   ],
   "source": [
    "non_null_averages.sample(n=5, random_state=5)"
   ]
  },
  {
   "attachments": {},
   "cell_type": "markdown",
   "metadata": {},
   "source": [
    "We'll export the results for further analysis."
   ]
  },
  {
   "cell_type": "code",
   "execution_count": 37,
   "metadata": {},
   "outputs": [],
   "source": [
    "non_null_averages.to_csv(\n",
    "    WORKING_DIRECTORY + 'other_nfirs_stats.csv',\n",
    "    sep=',',\n",
    "    index=False\n",
    ")"
   ]
  }
 ],
 "metadata": {
  "kernelspec": {
   "display_name": "base",
   "language": "python",
   "name": "python3"
  },
  "language_info": {
   "codemirror_mode": {
    "name": "ipython",
    "version": 3
   },
   "file_extension": ".py",
   "mimetype": "text/x-python",
   "name": "python",
   "nbconvert_exporter": "python",
   "pygments_lexer": "ipython3",
   "version": "3.10.9"
  },
  "orig_nbformat": 4
 },
 "nbformat": 4,
 "nbformat_minor": 2
}
