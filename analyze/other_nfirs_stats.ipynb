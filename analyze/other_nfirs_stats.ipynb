{
 "cells": [
  {
   "cell_type": "code",
   "execution_count": 38,
   "metadata": {},
   "outputs": [],
   "source": [
    "import pandas as pd\n",
    "import numpy as np\n",
    "import seaborn as sns\n",
    "import matplotlib.pyplot as plt\n",
    "import sqlite3\n",
    "import re\n",
    "\n",
    "pd.set_option('display.max_columns', None)"
   ]
  },
  {
   "cell_type": "code",
   "execution_count": 39,
   "metadata": {},
   "outputs": [],
   "source": [
    "WORKING_DIRECTORY = '../data/processed/'"
   ]
  },
  {
   "attachments": {},
   "cell_type": "markdown",
   "metadata": {},
   "source": [
    "# Get basic stats on fire incidents from NFIRS by city"
   ]
  },
  {
   "attachments": {},
   "cell_type": "markdown",
   "metadata": {},
   "source": [
    "In this notebook, we'll get basic summary stats for our cities based on the NFIRS data."
   ]
  },
  {
   "cell_type": "code",
   "execution_count": 40,
   "metadata": {},
   "outputs": [],
   "source": [
    "conn = sqlite3.Connection(WORKING_DIRECTORY + 'fire_data.db')"
   ]
  },
  {
   "attachments": {},
   "cell_type": "markdown",
   "metadata": {},
   "source": [
    "## Basic cleaning and validation"
   ]
  },
  {
   "attachments": {},
   "cell_type": "markdown",
   "metadata": {},
   "source": [
    "Columns of interest:\n",
    "* EXP_NO (exposure number): the number of other structures/vehicles to which the fire spreads. By calculating the average exposure number by city, we can see which cities are most likely to see fires spread.\n",
    "* ALARMS: the number of alarms triggered by the fire.\n",
    "* PROP_LOSS and CONT_LOSS: the dollar values of lost property and lost contents (anything inside a burning structure/vehicle) respectively. There is also PROP_VAL and CONT_VAL, but these measure the pre-fire value and so we'll ignore them.\n",
    "* OTH_DEATH, OTH_INJ, FF_DEATH, OTH_INJ: measures deaths and injuries for non-firefighters and firefighters respectively."
   ]
  },
  {
   "attachments": {},
   "cell_type": "markdown",
   "metadata": {},
   "source": [
    "Before we query values from the table, let's look at percentage of null values per column."
   ]
  },
  {
   "cell_type": "code",
   "execution_count": 41,
   "metadata": {},
   "outputs": [
    {
     "data": {
      "text/html": [
       "<div>\n",
       "<style scoped>\n",
       "    .dataframe tbody tr th:only-of-type {\n",
       "        vertical-align: middle;\n",
       "    }\n",
       "\n",
       "    .dataframe tbody tr th {\n",
       "        vertical-align: top;\n",
       "    }\n",
       "\n",
       "    .dataframe thead th {\n",
       "        text-align: right;\n",
       "    }\n",
       "</style>\n",
       "<table border=\"1\" class=\"dataframe\">\n",
       "  <thead>\n",
       "    <tr style=\"text-align: right;\">\n",
       "      <th></th>\n",
       "      <th>INCIDENT_KEY_NULL</th>\n",
       "      <th>INC_DATE_NULL</th>\n",
       "      <th>EXP_NO_NULL</th>\n",
       "      <th>ALARMS_NULL</th>\n",
       "      <th>PROP_LOSS_NULL</th>\n",
       "      <th>CONT_LOSS_NULL</th>\n",
       "      <th>OTH_DEATH_NULL</th>\n",
       "      <th>FF_DEATH_NULL</th>\n",
       "      <th>OTH_INJ_NULL</th>\n",
       "      <th>FF_INJ_NULL</th>\n",
       "    </tr>\n",
       "  </thead>\n",
       "  <tbody>\n",
       "    <tr>\n",
       "      <th>0</th>\n",
       "      <td>0.0000</td>\n",
       "      <td>0.0000</td>\n",
       "      <td>0.0000</td>\n",
       "      <td>0.4287</td>\n",
       "      <td>0.4073</td>\n",
       "      <td>0.4115</td>\n",
       "      <td>0.9961</td>\n",
       "      <td>0.0104</td>\n",
       "      <td>0.9961</td>\n",
       "      <td>0.0104</td>\n",
       "    </tr>\n",
       "  </tbody>\n",
       "</table>\n",
       "</div>"
      ],
      "text/plain": [
       "   INCIDENT_KEY_NULL  INC_DATE_NULL  EXP_NO_NULL  ALARMS_NULL  PROP_LOSS_NULL  \\\n",
       "0             0.0000         0.0000       0.0000       0.4287          0.4073   \n",
       "\n",
       "   CONT_LOSS_NULL  OTH_DEATH_NULL  FF_DEATH_NULL  OTH_INJ_NULL  FF_INJ_NULL  \n",
       "0          0.4115          0.9961         0.0104        0.9961       0.0104  "
      ]
     },
     "execution_count": 41,
     "metadata": {},
     "output_type": "execute_result"
    }
   ],
   "source": [
    "# 15 seconds to run\n",
    "pd.read_sql(\"\"\"\n",
    "    SELECT\n",
    "        (CAST(COUNT(*) AS FLOAT) - COUNT(INCIDENT_KEY)) / COUNT(*) AS INCIDENT_KEY_NULL,\n",
    "        (CAST(COUNT(*) AS FLOAT) - COUNT(INC_DATE)) / COUNT(*) AS INC_DATE_NULL,\n",
    "        (CAST(COUNT(*) AS FLOAT) - COUNT(EXP_NO)) / COUNT(*) AS EXP_NO_NULL,\n",
    "        (CAST(COUNT(*) AS FLOAT) - COUNT(ALARMS)) / COUNT(*) AS ALARMS_NULL,\n",
    "        (CAST(COUNT(*) AS FLOAT) - COUNT(PROP_LOSS)) / COUNT(*) AS PROP_LOSS_NULL,\n",
    "        (CAST(COUNT(*) AS FLOAT) - COUNT(CONT_LOSS)) / COUNT(*) AS CONT_LOSS_NULL,\n",
    "        (CAST(COUNT(*) AS FLOAT) - COUNT(OTH_DEATH)) / COUNT(*) AS OTH_DEATH_NULL,\n",
    "        (CAST(COUNT(*) AS FLOAT) - COUNT(FF_DEATH)) / COUNT(*) AS FF_DEATH_NULL,\n",
    "        (CAST(COUNT(*) AS FLOAT) - COUNT(OTH_INJ)) / COUNT(*) AS OTH_INJ_NULL,\n",
    "        (CAST(COUNT(*) AS FLOAT) - COUNT(FF_INJ)) / COUNT(*) AS FF_INJ_NULL\n",
    "    FROM basic_incident;\n",
    "\"\"\", conn)"
   ]
  },
  {
   "attachments": {},
   "cell_type": "markdown",
   "metadata": {},
   "source": [
    "We have significant numbers of null values for:\n",
    "* ALARMS\n",
    "* PROPERTY LOSS AND CONTENTS LOSS\n",
    "* INJURY AND DEATH (FIREFIGHTER AND NON-FIREFIGHTER)"
   ]
  },
  {
   "attachments": {},
   "cell_type": "markdown",
   "metadata": {},
   "source": [
    "Do a basic sanity check: find the total number of deaths there would be, assuming that the average can be calculated by disregarding the null values. (In reality, about 3,000 Americans die in fires every year.)"
   ]
  },
  {
   "cell_type": "code",
   "execution_count": 42,
   "metadata": {},
   "outputs": [
    {
     "data": {
      "text/html": [
       "<div>\n",
       "<style scoped>\n",
       "    .dataframe tbody tr th:only-of-type {\n",
       "        vertical-align: middle;\n",
       "    }\n",
       "\n",
       "    .dataframe tbody tr th {\n",
       "        vertical-align: top;\n",
       "    }\n",
       "\n",
       "    .dataframe thead th {\n",
       "        text-align: right;\n",
       "    }\n",
       "</style>\n",
       "<table border=\"1\" class=\"dataframe\">\n",
       "  <thead>\n",
       "    <tr style=\"text-align: right;\">\n",
       "      <th></th>\n",
       "      <th>year</th>\n",
       "      <th>firefighter_no_imputation</th>\n",
       "      <th>firefighter_impute_zero</th>\n",
       "      <th>other_no_imputation</th>\n",
       "      <th>other_impute_zero</th>\n",
       "    </tr>\n",
       "  </thead>\n",
       "  <tbody>\n",
       "    <tr>\n",
       "      <th>0</th>\n",
       "      <td>2013</td>\n",
       "      <td>23.26</td>\n",
       "      <td>23.00</td>\n",
       "      <td>457712.98</td>\n",
       "      <td>1944.00</td>\n",
       "    </tr>\n",
       "    <tr>\n",
       "      <th>1</th>\n",
       "      <td>2014</td>\n",
       "      <td>21.27</td>\n",
       "      <td>21.00</td>\n",
       "      <td>520773.26</td>\n",
       "      <td>2151.00</td>\n",
       "    </tr>\n",
       "    <tr>\n",
       "      <th>2</th>\n",
       "      <td>2015</td>\n",
       "      <td>18.21</td>\n",
       "      <td>18.00</td>\n",
       "      <td>537176.92</td>\n",
       "      <td>2174.00</td>\n",
       "    </tr>\n",
       "    <tr>\n",
       "      <th>3</th>\n",
       "      <td>2016</td>\n",
       "      <td>11.13</td>\n",
       "      <td>11.00</td>\n",
       "      <td>613173.39</td>\n",
       "      <td>2390.00</td>\n",
       "    </tr>\n",
       "    <tr>\n",
       "      <th>4</th>\n",
       "      <td>2017</td>\n",
       "      <td>23.24</td>\n",
       "      <td>23.00</td>\n",
       "      <td>600813.06</td>\n",
       "      <td>2228.00</td>\n",
       "    </tr>\n",
       "    <tr>\n",
       "      <th>5</th>\n",
       "      <td>2018</td>\n",
       "      <td>25.26</td>\n",
       "      <td>25.00</td>\n",
       "      <td>612064.96</td>\n",
       "      <td>2355.00</td>\n",
       "    </tr>\n",
       "    <tr>\n",
       "      <th>6</th>\n",
       "      <td>2019</td>\n",
       "      <td>9.08</td>\n",
       "      <td>9.00</td>\n",
       "      <td>621286.01</td>\n",
       "      <td>2453.00</td>\n",
       "    </tr>\n",
       "    <tr>\n",
       "      <th>7</th>\n",
       "      <td>2020</td>\n",
       "      <td>25.17</td>\n",
       "      <td>25.00</td>\n",
       "      <td>663308.26</td>\n",
       "      <td>2146.00</td>\n",
       "    </tr>\n",
       "  </tbody>\n",
       "</table>\n",
       "</div>"
      ],
      "text/plain": [
       "   year  firefighter_no_imputation  firefighter_impute_zero  \\\n",
       "0  2013                      23.26                    23.00   \n",
       "1  2014                      21.27                    21.00   \n",
       "2  2015                      18.21                    18.00   \n",
       "3  2016                      11.13                    11.00   \n",
       "4  2017                      23.24                    23.00   \n",
       "5  2018                      25.26                    25.00   \n",
       "6  2019                       9.08                     9.00   \n",
       "7  2020                      25.17                    25.00   \n",
       "\n",
       "   other_no_imputation  other_impute_zero  \n",
       "0            457712.98            1944.00  \n",
       "1            520773.26            2151.00  \n",
       "2            537176.92            2174.00  \n",
       "3            613173.39            2390.00  \n",
       "4            600813.06            2228.00  \n",
       "5            612064.96            2355.00  \n",
       "6            621286.01            2453.00  \n",
       "7            663308.26            2146.00  "
      ]
     },
     "execution_count": 42,
     "metadata": {},
     "output_type": "execute_result"
    }
   ],
   "source": [
    "# 45 seconds to run\n",
    "pd.options.display.float_format = '{:.2f}'.format\n",
    "pd.read_sql(\"\"\"\n",
    "    SELECT\n",
    "        CAST(SUBSTR(INC_DATE, LENGTH(INC_DATE) - 3, 4) AS INTEGER) AS year,\n",
    "        AVG(FF_DEATH) * COUNT(*) AS firefighter_no_imputation,\n",
    "        SUM(IFNULL(FF_DEATH, 0)) AS firefighter_impute_zero,\n",
    "        AVG(OTH_DEATH) * COUNT(*) AS other_no_imputation,\n",
    "        SUM(IFNULL(OTH_DEATH, 0)) AS other_impute_zero\n",
    "    FROM basic_incident\n",
    "    GROUP BY CAST(SUBSTR(INC_DATE, LENGTH(INC_DATE) - 3, 4) AS INTEGER)\n",
    ";\"\"\", conn)"
   ]
  },
  {
   "attachments": {},
   "cell_type": "markdown",
   "metadata": {},
   "source": [
    "~500K/year is much too high for fire deaths! So imputation is likely the correct approach for fatalities. There is less effect on firefighter deaths, as these values are mostly not null.\n",
    "\n",
    "We'll do a similar validation with property (and contents of buildings) lost to fire, expressed in dollars."
   ]
  },
  {
   "cell_type": "code",
   "execution_count": 46,
   "metadata": {},
   "outputs": [
    {
     "data": {
      "text/html": [
       "<div>\n",
       "<style scoped>\n",
       "    .dataframe tbody tr th:only-of-type {\n",
       "        vertical-align: middle;\n",
       "    }\n",
       "\n",
       "    .dataframe tbody tr th {\n",
       "        vertical-align: top;\n",
       "    }\n",
       "\n",
       "    .dataframe thead th {\n",
       "        text-align: right;\n",
       "    }\n",
       "</style>\n",
       "<table border=\"1\" class=\"dataframe\">\n",
       "  <thead>\n",
       "    <tr style=\"text-align: right;\">\n",
       "      <th></th>\n",
       "      <th>year</th>\n",
       "      <th>property_loss_no_imputation</th>\n",
       "      <th>property_loss_impute_zero</th>\n",
       "      <th>contents_loss_no_imputation</th>\n",
       "      <th>contents_loss_impute_zero</th>\n",
       "    </tr>\n",
       "  </thead>\n",
       "  <tbody>\n",
       "    <tr>\n",
       "      <th>0</th>\n",
       "      <td>2013</td>\n",
       "      <td>$11,107,744,594.51</td>\n",
       "      <td>$6,100,252,912.00</td>\n",
       "      <td>$4,574,669,116.84</td>\n",
       "      <td>$2,482,542,055.00</td>\n",
       "    </tr>\n",
       "    <tr>\n",
       "      <th>1</th>\n",
       "      <td>2014</td>\n",
       "      <td>$12,836,098,348.78</td>\n",
       "      <td>$7,073,011,307.00</td>\n",
       "      <td>$5,000,377,606.91</td>\n",
       "      <td>$2,724,793,410.00</td>\n",
       "    </tr>\n",
       "    <tr>\n",
       "      <th>2</th>\n",
       "      <td>2015</td>\n",
       "      <td>$14,209,249,129.14</td>\n",
       "      <td>$7,757,919,406.00</td>\n",
       "      <td>$6,691,443,744.50</td>\n",
       "      <td>$3,621,441,180.00</td>\n",
       "    </tr>\n",
       "    <tr>\n",
       "      <th>3</th>\n",
       "      <td>2016</td>\n",
       "      <td>$17,430,723,448.98</td>\n",
       "      <td>$10,031,807,333.00</td>\n",
       "      <td>$10,142,315,833.06</td>\n",
       "      <td>$5,803,008,506.00</td>\n",
       "    </tr>\n",
       "    <tr>\n",
       "      <th>4</th>\n",
       "      <td>2017</td>\n",
       "      <td>$15,428,082,051.38</td>\n",
       "      <td>$9,054,475,107.00</td>\n",
       "      <td>$7,279,604,959.78</td>\n",
       "      <td>$4,253,582,680.00</td>\n",
       "    </tr>\n",
       "    <tr>\n",
       "      <th>5</th>\n",
       "      <td>2018</td>\n",
       "      <td>$16,596,251,424.50</td>\n",
       "      <td>$10,260,643,777.00</td>\n",
       "      <td>$9,484,419,649.02</td>\n",
       "      <td>$5,837,203,521.00</td>\n",
       "    </tr>\n",
       "    <tr>\n",
       "      <th>6</th>\n",
       "      <td>2019</td>\n",
       "      <td>$14,459,406,243.80</td>\n",
       "      <td>$9,270,533,265.00</td>\n",
       "      <td>$6,751,338,994.80</td>\n",
       "      <td>$4,303,154,078.00</td>\n",
       "    </tr>\n",
       "    <tr>\n",
       "      <th>7</th>\n",
       "      <td>2020</td>\n",
       "      <td>$14,640,862,321.28</td>\n",
       "      <td>$9,771,304,548.00</td>\n",
       "      <td>$4,755,840,349.90</td>\n",
       "      <td>$3,156,023,758.00</td>\n",
       "    </tr>\n",
       "  </tbody>\n",
       "</table>\n",
       "</div>"
      ],
      "text/plain": [
       "   year  property_loss_no_imputation  property_loss_impute_zero  \\\n",
       "0  2013           $11,107,744,594.51          $6,100,252,912.00   \n",
       "1  2014           $12,836,098,348.78          $7,073,011,307.00   \n",
       "2  2015           $14,209,249,129.14          $7,757,919,406.00   \n",
       "3  2016           $17,430,723,448.98         $10,031,807,333.00   \n",
       "4  2017           $15,428,082,051.38          $9,054,475,107.00   \n",
       "5  2018           $16,596,251,424.50         $10,260,643,777.00   \n",
       "6  2019           $14,459,406,243.80          $9,270,533,265.00   \n",
       "7  2020           $14,640,862,321.28          $9,771,304,548.00   \n",
       "\n",
       "   contents_loss_no_imputation  contents_loss_impute_zero  \n",
       "0            $4,574,669,116.84          $2,482,542,055.00  \n",
       "1            $5,000,377,606.91          $2,724,793,410.00  \n",
       "2            $6,691,443,744.50          $3,621,441,180.00  \n",
       "3           $10,142,315,833.06          $5,803,008,506.00  \n",
       "4            $7,279,604,959.78          $4,253,582,680.00  \n",
       "5            $9,484,419,649.02          $5,837,203,521.00  \n",
       "6            $6,751,338,994.80          $4,303,154,078.00  \n",
       "7            $4,755,840,349.90          $3,156,023,758.00  "
      ]
     },
     "execution_count": 46,
     "metadata": {},
     "output_type": "execute_result"
    }
   ],
   "source": [
    "# 1.5 minutes to run\n",
    "pd.options.display.float_format = '${:,.2f}'.format\n",
    "loss = pd.read_sql(\"\"\"\n",
    "    SELECT\n",
    "        CAST(SUBSTR(INC_DATE, LENGTH(INC_DATE) - 3, 4) AS INTEGER) AS year,\n",
    "        AVG(PROP_LOSS) * COUNT(*) AS property_loss_no_imputation,\n",
    "        SUM(IFNULL(PROP_LOSS, 0)) AS property_loss_impute_zero,\n",
    "        AVG(CONT_LOSS) * COUNT(*) AS contents_loss_no_imputation,\n",
    "        SUM(IFNULL(CONT_LOSS, 0)) AS contents_loss_impute_zero\n",
    "    FROM basic_incident\n",
    "    GROUP BY CAST(SUBSTR(INC_DATE, LENGTH(INC_DATE) - 3, 4) AS INTEGER)\n",
    ";\"\"\", conn)\n",
    "loss\n",
    "pd.reset_option('display.float_format')"
   ]
  },
  {
   "attachments": {},
   "cell_type": "markdown",
   "metadata": {},
   "source": [
    "This validation is less clear-cut, with the property loss being about twice as high without imputation."
   ]
  },
  {
   "attachments": {},
   "cell_type": "markdown",
   "metadata": {},
   "source": [
    "Later on, we will impute these as 0 to avoid inflating the average values. "
   ]
  },
  {
   "attachments": {},
   "cell_type": "markdown",
   "metadata": {},
   "source": [
    "## Calculate summary statistics by city"
   ]
  },
  {
   "attachments": {},
   "cell_type": "markdown",
   "metadata": {},
   "source": [
    "Because we want to use data from 2020 and later as a validation set, we'll exclude 2020 from the statistics that we calculate."
   ]
  },
  {
   "attachments": {},
   "cell_type": "markdown",
   "metadata": {},
   "source": [
    "We'll impute 0 when death/injury, property/contents loss, or alarms is null."
   ]
  },
  {
   "cell_type": "code",
   "execution_count": 18,
   "metadata": {},
   "outputs": [],
   "source": [
    "# 4 minutes to run\n",
    "non_null_averages = pd.read_sql(\"\"\"\n",
    "SELECT \n",
    "    ia.CITY || ',' || ia.STATE AS CITYSTATE, \n",
    "    AVG(bi.EXP_NO) AS AVG_SPREAD,\n",
    "    AVG(COALESCE(bi.ALARMS, 0)) AS AVG_ALARMS,\n",
    "    AVG(COALESCE(bi.PROP_LOSS, 0) + COALESCE(bi.CONT_LOSS, 0)) AS AVG_MONEY_LOST,\n",
    "    AVG(COALESCE(bi.OTH_DEATH, 0) + COALESCE(bi.FF_DEATH, 0)) AS AVG_FATALITIES,\n",
    "    AVG(COALESCE(bi.OTH_INJ, 0) + COALESCE(bi.FF_INJ, 0)) AS AVG_INJURIES,\n",
    "    COUNT(bi.ID) AS SUPPORT\n",
    "FROM incident_address ia\n",
    "LEFT JOIN basic_incident bi\n",
    "    ON ia.INCIDENT_KEY = bi.INCIDENT_KEY\n",
    "WHERE CAST(SUBSTR(ia.INC_DATE, LENGTH(ia.INC_DATE) - 3, 4) AS INTEGER) < 2019\n",
    "GROUP BY ia.CITY, ia.STATE\n",
    "\"\"\", conn)"
   ]
  },
  {
   "attachments": {},
   "cell_type": "markdown",
   "metadata": {},
   "source": [
    "We'll analyze this separately.\n",
    "* DET_ALERT (detector alert): indicates whether a fire detector alerted the occupants or not. Options are 1 (yes alerted), 2 (not alerted), U (unknown), and NULL (not reported)"
   ]
  }
 ],
 "metadata": {
  "kernelspec": {
   "display_name": "base",
   "language": "python",
   "name": "python3"
  },
  "language_info": {
   "codemirror_mode": {
    "name": "ipython",
    "version": 3
   },
   "file_extension": ".py",
   "mimetype": "text/x-python",
   "name": "python",
   "nbconvert_exporter": "python",
   "pygments_lexer": "ipython3",
   "version": "3.10.9"
  },
  "orig_nbformat": 4
 },
 "nbformat": 4,
 "nbformat_minor": 2
}
