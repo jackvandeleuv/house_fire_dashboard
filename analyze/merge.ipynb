{
 "cells": [
  {
   "cell_type": "code",
   "execution_count": 285,
   "metadata": {},
   "outputs": [],
   "source": [
    "import pandas as pd\n",
    "import numpy as np\n",
    "import seaborn as sns\n",
    "import matplotlib.pyplot as plt\n",
    "import sqlite3\n",
    "import re"
   ]
  },
  {
   "cell_type": "code",
   "execution_count": 286,
   "metadata": {},
   "outputs": [],
   "source": [
    "pd.set_option('display.max_columns', None)"
   ]
  },
  {
   "cell_type": "code",
   "execution_count": 287,
   "metadata": {},
   "outputs": [],
   "source": [
    "seed = 538"
   ]
  },
  {
   "cell_type": "code",
   "execution_count": 288,
   "metadata": {},
   "outputs": [],
   "source": [
    "WORKING_DIRECTORY = 'D:/Fire Project/data/'\n",
    "\n",
    "PATHS_TO_MERGE = [\n",
    "    'public_pre2019.csv',\n",
    "    'multi_pre2019.csv',\n",
    "    'inc_type_pop111_pre2019.csv',\n",
    "    'inc_type_pop113_pre2019.csv',\n",
    "    'total_inc_pop_pre2019.csv',\n",
    "    'nfirs_stats_pre2019.csv'\n",
    "]"
   ]
  },
  {
   "attachments": {},
   "cell_type": "markdown",
   "metadata": {},
   "source": [
    "## Aggregate REAC data"
   ]
  },
  {
   "cell_type": "code",
   "execution_count": 289,
   "metadata": {},
   "outputs": [],
   "source": [
    "public = pd.read_csv(WORKING_DIRECTORY + 'public_pre2019.csv')\n",
    "multi = pd.read_csv(WORKING_DIRECTORY + 'multi_pre2019.csv')"
   ]
  },
  {
   "cell_type": "code",
   "execution_count": 290,
   "metadata": {},
   "outputs": [],
   "source": [
    "public['CITYSTATE'] = public.CITY.str.upper() + ',' + public.STATE.str.upper()\n",
    "multi['CITYSTATE'] = multi.CITY.str.upper() + ',' + multi.STATE.str.upper()"
   ]
  },
  {
   "cell_type": "code",
   "execution_count": 291,
   "metadata": {},
   "outputs": [],
   "source": [
    "public_agg = public.loc[:, ['LATITUDE', 'LONGITUDE', 'INSPECTION_SCORE', 'CITYSTATE']] \\\n",
    "                    .groupby(by='CITYSTATE').mean()\n",
    "public_agg = public_agg.rename(columns={'INSPECTION_SCORE': 'PUBLIC_INSPECTION_SCORE'})\n",
    "\n",
    "multi_agg = multi.loc[:, ['LATITUDE', 'LONGITUDE', 'INSPECTION_SCORE', 'CITYSTATE']] \\\n",
    "                    .groupby(by='CITYSTATE').mean()\n",
    "multi_agg = multi_agg.rename(columns={'INSPECTION_SCORE': 'MULTI_INSPECTION_SCORE'})"
   ]
  },
  {
   "attachments": {},
   "cell_type": "markdown",
   "metadata": {},
   "source": [
    "## Drop unnecessary columns from incident count DataFrames"
   ]
  },
  {
   "cell_type": "code",
   "execution_count": 292,
   "metadata": {},
   "outputs": [],
   "source": [
    "inc_type111 = pd.read_csv(WORKING_DIRECTORY + 'inc_type_pop111_pre2019.csv')\n",
    "inc_type111 = inc_type111.rename(columns={'INC_COUNT': '111_COUNT'})\n",
    "inc_type111 = inc_type111.loc[:, ['CITYSTATE', '111_COUNT']]"
   ]
  },
  {
   "cell_type": "code",
   "execution_count": 293,
   "metadata": {},
   "outputs": [],
   "source": [
    "inc_type113 = pd.read_csv(WORKING_DIRECTORY + 'inc_type_pop113_pre2019.csv')\n",
    "inc_type113 = inc_type113.rename(columns={'INC_COUNT': '113_COUNT'})\n",
    "inc_type113 = inc_type113.loc[:, ['CITYSTATE', '113_COUNT']]"
   ]
  },
  {
   "cell_type": "code",
   "execution_count": 294,
   "metadata": {},
   "outputs": [],
   "source": [
    "total_inc_pop = pd.read_csv(WORKING_DIRECTORY + 'total_inc_pop_pre2019.csv')\n",
    "total_inc_pop = total_inc_pop.rename(columns={'ESTIMATESBASE2020': 'POPULATION', 'INC_COUNT': 'TOTAL_INC_COUNT'})"
   ]
  },
  {
   "cell_type": "code",
   "execution_count": 296,
   "metadata": {},
   "outputs": [],
   "source": [
    "total_inc_pop = total_inc_pop.loc[:, ['CITYSTATE', 'TOTAL_INC_COUNT', 'POPULATION']]"
   ]
  },
  {
   "attachments": {},
   "cell_type": "markdown",
   "metadata": {},
   "source": [
    "We'll merge the incident counts of 111 (building fire) and 113 (cooking fire) with the overall incident count DataFrame."
   ]
  },
  {
   "cell_type": "code",
   "execution_count": 297,
   "metadata": {},
   "outputs": [],
   "source": [
    "total_inc_pop = total_inc_pop.merge(right=inc_type111, how='left', on='CITYSTATE')\n",
    "total_inc_pop = total_inc_pop.merge(right=inc_type113, how='left', on='CITYSTATE')"
   ]
  },
  {
   "cell_type": "code",
   "execution_count": 298,
   "metadata": {},
   "outputs": [],
   "source": [
    "total_inc_pop = total_inc_pop.groupby(by='CITYSTATE').mean()"
   ]
  },
  {
   "cell_type": "code",
   "execution_count": 299,
   "metadata": {},
   "outputs": [],
   "source": [
    "nfirs = pd.read_csv(WORKING_DIRECTORY + 'nfirs_stats_pre2019.csv')\n",
    "nfirs = nfirs.drop('Unnamed: 0', axis=1)"
   ]
  },
  {
   "attachments": {},
   "cell_type": "markdown",
   "metadata": {},
   "source": [
    "## Merge DataFrames into one."
   ]
  },
  {
   "cell_type": "code",
   "execution_count": 300,
   "metadata": {},
   "outputs": [],
   "source": [
    "nfirs = nfirs.merge(right=total_inc_pop, how='left', on='CITYSTATE')"
   ]
  },
  {
   "cell_type": "code",
   "execution_count": 301,
   "metadata": {},
   "outputs": [],
   "source": [
    "nfirs = nfirs.merge(right=multi_agg, how='left', on='CITYSTATE')\n",
    "nfirs = nfirs.merge(right=public_agg, how='left', on='CITYSTATE')"
   ]
  },
  {
   "cell_type": "code",
   "execution_count": 302,
   "metadata": {},
   "outputs": [
    {
     "data": {
      "text/html": [
       "<div>\n",
       "<style scoped>\n",
       "    .dataframe tbody tr th:only-of-type {\n",
       "        vertical-align: middle;\n",
       "    }\n",
       "\n",
       "    .dataframe tbody tr th {\n",
       "        vertical-align: top;\n",
       "    }\n",
       "\n",
       "    .dataframe thead th {\n",
       "        text-align: right;\n",
       "    }\n",
       "</style>\n",
       "<table border=\"1\" class=\"dataframe\">\n",
       "  <thead>\n",
       "    <tr style=\"text-align: right;\">\n",
       "      <th></th>\n",
       "      <th>CITY</th>\n",
       "      <th>STATE</th>\n",
       "      <th>CITYSTATE</th>\n",
       "      <th>AVG_SPREAD_ADJ</th>\n",
       "      <th>AVG_ALARMS</th>\n",
       "      <th>AVG_MONEY_LOST</th>\n",
       "      <th>AVG_FATALITIES</th>\n",
       "      <th>AVG_INJURED</th>\n",
       "      <th>SUPPORT</th>\n",
       "      <th>TOTAL_INC_COUNT</th>\n",
       "      <th>POPULATION</th>\n",
       "      <th>111_COUNT</th>\n",
       "      <th>113_COUNT</th>\n",
       "      <th>LATITUDE_x</th>\n",
       "      <th>LONGITUDE_x</th>\n",
       "      <th>MULTI_INSPECTION_SCORE</th>\n",
       "      <th>LATITUDE_y</th>\n",
       "      <th>LONGITUDE_y</th>\n",
       "      <th>PUBLIC_INSPECTION_SCORE</th>\n",
       "    </tr>\n",
       "  </thead>\n",
       "  <tbody>\n",
       "    <tr>\n",
       "      <th>3717</th>\n",
       "      <td>KANSAS CITY</td>\n",
       "      <td>KS</td>\n",
       "      <td>KANSAS CITY,KS</td>\n",
       "      <td>0.008179</td>\n",
       "      <td>0.962406</td>\n",
       "      <td>13415.562205</td>\n",
       "      <td>0.234043</td>\n",
       "      <td>1.148936</td>\n",
       "      <td>9904</td>\n",
       "      <td>NaN</td>\n",
       "      <td>NaN</td>\n",
       "      <td>NaN</td>\n",
       "      <td>NaN</td>\n",
       "      <td>39.106343</td>\n",
       "      <td>-94.681624</td>\n",
       "      <td>75.697674</td>\n",
       "      <td>39.11481</td>\n",
       "      <td>-94.67389</td>\n",
       "      <td>91.75</td>\n",
       "    </tr>\n",
       "  </tbody>\n",
       "</table>\n",
       "</div>"
      ],
      "text/plain": [
       "             CITY STATE       CITYSTATE  AVG_SPREAD_ADJ  AVG_ALARMS  \\\n",
       "3717  KANSAS CITY    KS  KANSAS CITY,KS        0.008179    0.962406   \n",
       "\n",
       "      AVG_MONEY_LOST  AVG_FATALITIES  AVG_INJURED  SUPPORT  TOTAL_INC_COUNT  \\\n",
       "3717    13415.562205        0.234043     1.148936     9904              NaN   \n",
       "\n",
       "      POPULATION  111_COUNT  113_COUNT  LATITUDE_x  LONGITUDE_x  \\\n",
       "3717         NaN        NaN        NaN   39.106343   -94.681624   \n",
       "\n",
       "      MULTI_INSPECTION_SCORE  LATITUDE_y  LONGITUDE_y  PUBLIC_INSPECTION_SCORE  \n",
       "3717               75.697674    39.11481    -94.67389                    91.75  "
      ]
     },
     "execution_count": 302,
     "metadata": {},
     "output_type": "execute_result"
    }
   ],
   "source": [
    "nfirs[nfirs.CITYSTATE == 'KANSAS CITY,KS']"
   ]
  },
  {
   "cell_type": "code",
   "execution_count": 303,
   "metadata": {},
   "outputs": [],
   "source": [
    "nfirs.to_csv(WORKING_DIRECTORY + 'citystate_merged.csv', sep=',', index=False)"
   ]
  }
 ],
 "metadata": {
  "kernelspec": {
   "display_name": "base",
   "language": "python",
   "name": "python3"
  },
  "language_info": {
   "codemirror_mode": {
    "name": "ipython",
    "version": 3
   },
   "file_extension": ".py",
   "mimetype": "text/x-python",
   "name": "python",
   "nbconvert_exporter": "python",
   "pygments_lexer": "ipython3",
   "version": "3.10.9"
  },
  "orig_nbformat": 4
 },
 "nbformat": 4,
 "nbformat_minor": 2
}
