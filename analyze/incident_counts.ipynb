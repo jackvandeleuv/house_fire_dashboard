{
 "cells": [
  {
   "cell_type": "code",
   "execution_count": 1,
   "metadata": {},
   "outputs": [],
   "source": [
    "import pandas as pd\n",
    "import numpy as np\n",
    "import seaborn as sns\n",
    "import matplotlib.pyplot as plt\n",
    "import sqlite3\n",
    "import re\n",
    "\n",
    "pd.set_option('display.max_columns', None)"
   ]
  },
  {
   "cell_type": "code",
   "execution_count": 2,
   "metadata": {},
   "outputs": [],
   "source": [
    "WORKING_DIRECTORY = '../data/'"
   ]
  },
  {
   "attachments": {},
   "cell_type": "markdown",
   "metadata": {},
   "source": [
    "## Basic data validation"
   ]
  },
  {
   "cell_type": "code",
   "execution_count": 3,
   "metadata": {},
   "outputs": [],
   "source": [
    "conn = sqlite3.Connection(WORKING_DIRECTORY + '/processed/fire_data.db')"
   ]
  },
  {
   "attachments": {},
   "cell_type": "markdown",
   "metadata": {},
   "source": [
    "Here we want to use CITY, STATE, INCIDENT KEY, INC_DATE, and INC_TYPE. We'll check the number of null values in these columns for incident_address and basic_incident."
   ]
  },
  {
   "cell_type": "code",
   "execution_count": 4,
   "metadata": {},
   "outputs": [
    {
     "data": {
      "text/html": [
       "<div>\n",
       "<style scoped>\n",
       "    .dataframe tbody tr th:only-of-type {\n",
       "        vertical-align: middle;\n",
       "    }\n",
       "\n",
       "    .dataframe tbody tr th {\n",
       "        vertical-align: top;\n",
       "    }\n",
       "\n",
       "    .dataframe thead th {\n",
       "        text-align: right;\n",
       "    }\n",
       "</style>\n",
       "<table border=\"1\" class=\"dataframe\">\n",
       "  <thead>\n",
       "    <tr style=\"text-align: right;\">\n",
       "      <th></th>\n",
       "      <th>CITY_NULL</th>\n",
       "      <th>STATE_NULL</th>\n",
       "      <th>INCIDENT_KEY_NULL</th>\n",
       "      <th>INC_DATE_NULL</th>\n",
       "    </tr>\n",
       "  </thead>\n",
       "  <tbody>\n",
       "    <tr>\n",
       "      <th>0</th>\n",
       "      <td>0</td>\n",
       "      <td>0</td>\n",
       "      <td>0</td>\n",
       "      <td>0</td>\n",
       "    </tr>\n",
       "  </tbody>\n",
       "</table>\n",
       "</div>"
      ],
      "text/plain": [
       "   CITY_NULL  STATE_NULL  INCIDENT_KEY_NULL  INC_DATE_NULL\n",
       "0          0           0                  0              0"
      ]
     },
     "metadata": {},
     "output_type": "display_data"
    },
    {
     "data": {
      "text/html": [
       "<div>\n",
       "<style scoped>\n",
       "    .dataframe tbody tr th:only-of-type {\n",
       "        vertical-align: middle;\n",
       "    }\n",
       "\n",
       "    .dataframe tbody tr th {\n",
       "        vertical-align: top;\n",
       "    }\n",
       "\n",
       "    .dataframe thead th {\n",
       "        text-align: right;\n",
       "    }\n",
       "</style>\n",
       "<table border=\"1\" class=\"dataframe\">\n",
       "  <thead>\n",
       "    <tr style=\"text-align: right;\">\n",
       "      <th></th>\n",
       "      <th>INCIDENT_KEY_NULL</th>\n",
       "      <th>INC_DATE_NULL</th>\n",
       "      <th>INC_TYPE_NULL</th>\n",
       "    </tr>\n",
       "  </thead>\n",
       "  <tbody>\n",
       "    <tr>\n",
       "      <th>0</th>\n",
       "      <td>0</td>\n",
       "      <td>0</td>\n",
       "      <td>0</td>\n",
       "    </tr>\n",
       "  </tbody>\n",
       "</table>\n",
       "</div>"
      ],
      "text/plain": [
       "   INCIDENT_KEY_NULL  INC_DATE_NULL  INC_TYPE_NULL\n",
       "0                  0              0              0"
      ]
     },
     "metadata": {},
     "output_type": "display_data"
    }
   ],
   "source": [
    "display(pd.read_sql(\"\"\"\n",
    "    SELECT \n",
    "        COUNT(*) - COUNT(CITY) AS CITY_NULL,\n",
    "        COUNT(*) - COUNT(STATE) AS STATE_NULL,\n",
    "        COUNT(*) - COUNT(INCIDENT_KEY) AS INCIDENT_KEY_NULL,\n",
    "        COUNT(*) - COUNT(INC_DATE) AS INC_DATE_NULL\n",
    "    FROM incident_address;\n",
    "\"\"\", conn))\n",
    "\n",
    "display(pd.read_sql(\"\"\"\n",
    "    SELECT \n",
    "        COUNT(*) - COUNT(INCIDENT_KEY) AS INCIDENT_KEY_NULL,\n",
    "        COUNT(*) - COUNT(INC_DATE) AS INC_DATE_NULL,\n",
    "        COUNT(*) - COUNT(INC_TYPE) AS INC_TYPE_NULL\n",
    "    FROM basic_incident;\n",
    "\"\"\", conn))"
   ]
  },
  {
   "attachments": {},
   "cell_type": "markdown",
   "metadata": {},
   "source": [
    "Check the types of incident codes in the dataset."
   ]
  },
  {
   "cell_type": "code",
   "execution_count": 5,
   "metadata": {},
   "outputs": [
    {
     "data": {
      "text/html": [
       "<div>\n",
       "<style scoped>\n",
       "    .dataframe tbody tr th:only-of-type {\n",
       "        vertical-align: middle;\n",
       "    }\n",
       "\n",
       "    .dataframe tbody tr th {\n",
       "        vertical-align: top;\n",
       "    }\n",
       "\n",
       "    .dataframe thead th {\n",
       "        text-align: right;\n",
       "    }\n",
       "</style>\n",
       "<table border=\"1\" class=\"dataframe\">\n",
       "  <thead>\n",
       "    <tr style=\"text-align: right;\">\n",
       "      <th></th>\n",
       "      <th>INC_TYPE_RANGE</th>\n",
       "      <th>COUNT</th>\n",
       "    </tr>\n",
       "  </thead>\n",
       "  <tbody>\n",
       "    <tr>\n",
       "      <th>0</th>\n",
       "      <td>100-199</td>\n",
       "      <td>8776719</td>\n",
       "    </tr>\n",
       "    <tr>\n",
       "      <th>1</th>\n",
       "      <td>400-499</td>\n",
       "      <td>7346206</td>\n",
       "    </tr>\n",
       "    <tr>\n",
       "      <th>2</th>\n",
       "      <td>500-599</td>\n",
       "      <td>822846</td>\n",
       "    </tr>\n",
       "    <tr>\n",
       "      <th>3</th>\n",
       "      <td>600-699</td>\n",
       "      <td>472987</td>\n",
       "    </tr>\n",
       "  </tbody>\n",
       "</table>\n",
       "</div>"
      ],
      "text/plain": [
       "  INC_TYPE_RANGE    COUNT\n",
       "0        100-199  8776719\n",
       "1        400-499  7346206\n",
       "2        500-599   822846\n",
       "3        600-699   472987"
      ]
     },
     "execution_count": 5,
     "metadata": {},
     "output_type": "execute_result"
    }
   ],
   "source": [
    "query = \"\"\"\n",
    "    SELECT\n",
    "        CASE\n",
    "            WHEN INC_TYPE BETWEEN 100 AND 199 THEN '100-199'\n",
    "            WHEN INC_TYPE BETWEEN 200 AND 299 THEN '200-299'\n",
    "            WHEN INC_TYPE BETWEEN 300 AND 399 THEN '300-399'\n",
    "            WHEN INC_TYPE BETWEEN 400 AND 499 THEN '400-499'\n",
    "            WHEN INC_TYPE BETWEEN 500 AND 599 THEN '500-599'\n",
    "            WHEN INC_TYPE BETWEEN 600 AND 699 THEN '600-699'\n",
    "            WHEN INC_TYPE BETWEEN 700 AND 799 THEN '700-799'\n",
    "            WHEN INC_TYPE BETWEEN 800 AND 899 THEN '800-899'\n",
    "            ELSE 'Other'\n",
    "        END AS INC_TYPE_RANGE,\n",
    "        COUNT(*) AS COUNT\n",
    "    FROM\n",
    "        basic_incident\n",
    "    GROUP BY\n",
    "        INC_TYPE_RANGE;\n",
    "\"\"\"\n",
    "\n",
    "pd.read_sql(query, conn)"
   ]
  },
  {
   "attachments": {},
   "cell_type": "markdown",
   "metadata": {},
   "source": [
    "# Total incident counts by city"
   ]
  },
  {
   "attachments": {},
   "cell_type": "markdown",
   "metadata": {},
   "source": [
    "We'll only count rows with INC_TYPE under 200, which indicates a fire. We'll also limit ourselves to data before 2019, because we'll use 2020 later for validation."
   ]
  },
  {
   "cell_type": "code",
   "execution_count": 6,
   "metadata": {},
   "outputs": [],
   "source": [
    "# 4 minutes to run\n",
    "total_incidents = pd.read_sql(\"\"\"\n",
    "    SELECT \n",
    "        ia.CITY || ',' || ia.STATE AS CITYSTATE, \n",
    "        COUNT(bi.ID) AS INC_COUNT\n",
    "    FROM basic_incident bi \n",
    "        JOIN incident_address ia\n",
    "        USING (INCIDENT_KEY)\n",
    "    WHERE bi.INC_TYPE < 200\n",
    "        AND CAST(SUBSTR(ia.INC_DATE, LENGTH(ia.INC_DATE) - 3, 4) AS INTEGER) < 2019\n",
    "    GROUP BY ia.CITY, ia.STATE\n",
    "\"\"\", conn)"
   ]
  },
  {
   "attachments": {},
   "cell_type": "markdown",
   "metadata": {},
   "source": [
    "Most cities have few incidents reported to NFIRS. A few large cities have a large number of incidents."
   ]
  },
  {
   "cell_type": "code",
   "execution_count": 7,
   "metadata": {},
   "outputs": [
    {
     "data": {
      "text/plain": [
       "INC_COUNT\n",
       "Below 5K Incidents    8081\n",
       "Above 5K Incidents      93\n",
       "Name: INC_COUNT, dtype: int64"
      ]
     },
     "metadata": {},
     "output_type": "display_data"
    },
    {
     "data": {
      "text/plain": [
       "INC_COUNT\n",
       "Below 5K Incidents    3367941\n",
       "Above 5K Incidents    1280894\n",
       "Name: INC_COUNT, dtype: int64"
      ]
     },
     "metadata": {},
     "output_type": "display_data"
    }
   ],
   "source": [
    "bins = pd.cut(\n",
    "    total_incidents['INC_COUNT'], \n",
    "    bins=[-float('inf'), 5000, float('inf')], \n",
    "    labels=['Below 5K Incidents', 'Above 5K Incidents']\n",
    ")\n",
    "\n",
    "display(\n",
    "    total_incidents.groupby(bins)['INC_COUNT'].size(),\n",
    "    total_incidents.groupby(bins)['INC_COUNT'].sum(),\n",
    ")"
   ]
  },
  {
   "attachments": {},
   "cell_type": "markdown",
   "metadata": {},
   "source": [
    "We'll export for future analysis."
   ]
  },
  {
   "cell_type": "code",
   "execution_count": 8,
   "metadata": {},
   "outputs": [],
   "source": [
    "total_incidents = total_incidents \\\n",
    "    .rename(columns={'INC_COUNT': 'TOTAL_INCIDENT_COUNT'})"
   ]
  },
  {
   "cell_type": "code",
   "execution_count": 9,
   "metadata": {},
   "outputs": [],
   "source": [
    "total_incidents.to_csv(WORKING_DIRECTORY + 'processed/total_incident_count.csv',\n",
    "                       sep=',',\n",
    "                       index=False)"
   ]
  },
  {
   "attachments": {},
   "cell_type": "markdown",
   "metadata": {},
   "source": [
    "# City incident counts by incident type"
   ]
  },
  {
   "attachments": {},
   "cell_type": "markdown",
   "metadata": {},
   "source": [
    "Let's also look at the counts of different incident type codes."
   ]
  },
  {
   "cell_type": "code",
   "execution_count": 10,
   "metadata": {},
   "outputs": [],
   "source": [
    "# 4 minutes to run\n",
    "by_incident_type = pd.read_sql(\"\"\"\n",
    "    SELECT \n",
    "        ia.CITY || ',' || ia.STATE AS CITYSTATE, \n",
    "        bi.INC_TYPE AS INC_TYPE,\n",
    "        COUNT(bi.ID) AS INC_COUNT\n",
    "    FROM basic_incident bi \n",
    "        JOIN incident_address ia\n",
    "        USING (INCIDENT_KEY)\n",
    "    WHERE bi.INC_TYPE < 200 \n",
    "        AND CAST(SUBSTR(ia.INC_DATE, LENGTH(ia.INC_DATE) - 3, 4) AS INTEGER) < 2019\n",
    "    GROUP BY ia.CITY, ia.STATE, bi.INC_TYPE\n",
    "\"\"\", conn)"
   ]
  },
  {
   "attachments": {},
   "cell_type": "markdown",
   "metadata": {},
   "source": [
    "Let's look at the most common incident types."
   ]
  },
  {
   "cell_type": "code",
   "execution_count": 11,
   "metadata": {},
   "outputs": [
    {
     "data": {
      "image/png": "[encoded data removed]",
      "text/plain": [
       "<Figure size 1000x600 with 1 Axes>"
      ]
     },
     "metadata": {},
     "output_type": "display_data"
    }
   ],
   "source": [
    "grouped_data = by_incident_type \\\n",
    "    .groupby('INC_TYPE')['INC_COUNT'] \\\n",
    "    .sum() \\\n",
    "    .reset_index()\n",
    "sorted_data = grouped_data.sort_values('INC_COUNT', ascending=False)\n",
    "\n",
    "# Avoid copy warning\n",
    "top_10 = sorted_data.head(10).copy()\n",
    "\n",
    "descriptions = {\n",
    "    111: 'Building fire',\n",
    "    113: 'Cooking fire, confined to vessel',\n",
    "    131: 'Passenger vehicle fire',\n",
    "    151: 'Outside rubbish, trash, or waste fire',\n",
    "    142: 'Brush or brush-and-grass mixture fire',\n",
    "    143: 'Grass fire',\n",
    "    150: 'Outside rubbish fire, other',\n",
    "    100: 'Fire, other',\n",
    "    118: 'Trash or rubbish fire in a structure',\n",
    "    154: 'Dumpster or other outside trash fire',\n",
    "}\n",
    "\n",
    "top_10.loc[:, 'INC_TYPE_DESC'] = top_10['INC_TYPE'].map(descriptions)\n",
    "top_10.loc[:, 'INC_TYPE_WITH_DESC'] = top_10['INC_TYPE'].astype(str) + ': ' + top_10['INC_TYPE_DESC']\n",
    "\n",
    "top_10 = top_10.sort_values('INC_COUNT', ascending=True)\n",
    "\n",
    "plt.figure(figsize=(10, 6))\n",
    "plt.barh(top_10['INC_TYPE_WITH_DESC'], top_10['INC_COUNT'])\n",
    "plt.xlabel('INC_COUNT')\n",
    "plt.ylabel('INC_TYPE')\n",
    "plt.title('Top 10 Fire Incidents by Type')\n",
    "plt.show()"
   ]
  },
  {
   "attachments": {},
   "cell_type": "markdown",
   "metadata": {},
   "source": [
    "Let's get total incident counts for each city for each of the top five types of incidents."
   ]
  },
  {
   "cell_type": "code",
   "execution_count": 12,
   "metadata": {},
   "outputs": [
    {
     "data": {
      "text/html": [
       "<div>\n",
       "<style scoped>\n",
       "    .dataframe tbody tr th:only-of-type {\n",
       "        vertical-align: middle;\n",
       "    }\n",
       "\n",
       "    .dataframe tbody tr th {\n",
       "        vertical-align: top;\n",
       "    }\n",
       "\n",
       "    .dataframe thead th {\n",
       "        text-align: right;\n",
       "    }\n",
       "</style>\n",
       "<table border=\"1\" class=\"dataframe\">\n",
       "  <thead>\n",
       "    <tr style=\"text-align: right;\">\n",
       "      <th></th>\n",
       "      <th>CITYSTATE</th>\n",
       "      <th>COUNT_111</th>\n",
       "      <th>COUNT_113</th>\n",
       "      <th>COUNT_131</th>\n",
       "      <th>COUNT_151</th>\n",
       "      <th>COUNT_142</th>\n",
       "    </tr>\n",
       "  </thead>\n",
       "  <tbody>\n",
       "    <tr>\n",
       "      <th>4703</th>\n",
       "      <td>MILL VALLEY,CA</td>\n",
       "      <td>172</td>\n",
       "      <td>54</td>\n",
       "      <td>29</td>\n",
       "      <td>19</td>\n",
       "      <td>5</td>\n",
       "    </tr>\n",
       "    <tr>\n",
       "      <th>7184</th>\n",
       "      <td>THIEF RIVER FALLS,MN</td>\n",
       "      <td>59</td>\n",
       "      <td>9</td>\n",
       "      <td>45</td>\n",
       "      <td>19</td>\n",
       "      <td>15</td>\n",
       "    </tr>\n",
       "    <tr>\n",
       "      <th>6222</th>\n",
       "      <td>ROCK HALL,MD</td>\n",
       "      <td>73</td>\n",
       "      <td>11</td>\n",
       "      <td>4</td>\n",
       "      <td>16</td>\n",
       "      <td>6</td>\n",
       "    </tr>\n",
       "  </tbody>\n",
       "</table>\n",
       "</div>"
      ],
      "text/plain": [
       "                 CITYSTATE  COUNT_111  COUNT_113  COUNT_131  COUNT_151  \\\n",
       "4703        MILL VALLEY,CA        172         54         29         19   \n",
       "7184  THIEF RIVER FALLS,MN         59          9         45         19   \n",
       "6222          ROCK HALL,MD         73         11          4         16   \n",
       "\n",
       "      COUNT_142  \n",
       "4703          5  \n",
       "7184         15  \n",
       "6222          6  "
      ]
     },
     "execution_count": 12,
     "metadata": {},
     "output_type": "execute_result"
    }
   ],
   "source": [
    "incident_types = [111, 113, 131, 151, 142]\n",
    "\n",
    "top_5 = by_incident_type[by_incident_type['INC_TYPE'].isin(incident_types)].pivot_table(\n",
    "    index=['CITYSTATE'], columns='INC_TYPE', values='INC_COUNT', fill_value=0\n",
    ")\n",
    "\n",
    "top_5.reset_index(inplace=True)\n",
    "top_5.columns = top_5.columns.to_flat_index()\n",
    "\n",
    "top_5.columns = [\n",
    "    'CITYSTATE', \n",
    "    'COUNT_111', \n",
    "    'COUNT_113', \n",
    "    'COUNT_131', \n",
    "    'COUNT_151', \n",
    "    'COUNT_142'\n",
    "]\n",
    "top_5.sample(n=3, random_state=1)"
   ]
  },
  {
   "attachments": {},
   "cell_type": "markdown",
   "metadata": {},
   "source": [
    "Now let's export for future analysis."
   ]
  },
  {
   "cell_type": "code",
   "execution_count": 13,
   "metadata": {},
   "outputs": [],
   "source": [
    "top_5.to_csv(\n",
    "    WORKING_DIRECTORY + 'processed/top_5_incident_count.csv',\n",
    "    sep=',',\n",
    "    index=False\n",
    ")"
   ]
  }
 ],
 "metadata": {
  "kernelspec": {
   "display_name": "base",
   "language": "python",
   "name": "python3"
  },
  "language_info": {
   "codemirror_mode": {
    "name": "ipython",
    "version": 3
   },
   "file_extension": ".py",
   "mimetype": "text/x-python",
   "name": "python",
   "nbconvert_exporter": "python",
   "pygments_lexer": "ipython3",
   "version": "3.10.9"
  },
  "orig_nbformat": 4
 },
 "nbformat": 4,
 "nbformat_minor": 2
}
