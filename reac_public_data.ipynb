{
 "cells": [
  {
   "cell_type": "code",
   "execution_count": 2,
   "metadata": {},
   "outputs": [],
   "source": [
    "import pandas as pd\n",
    "import numpy as np\n",
    "import seaborn as sns\n",
    "import matplotlib.pyplot as plt"
   ]
  },
  {
   "attachments": {},
   "cell_type": "markdown",
   "metadata": {},
   "source": [
    "# Explore public HUD REAC data"
   ]
  },
  {
   "attachments": {},
   "cell_type": "markdown",
   "metadata": {},
   "source": [
    "Author: Jack Vandeleuv\n",
    "\n",
    "Data files:\n",
    "* [Public Housing Physical Inspection Scores (2016-2021)](https://www.huduser.gov/portal/datasets/pis.html#2021_data-collapse)\n",
    "* [Multifamily Physical Inspection Scores (2016-2021)](https://www.huduser.gov/portal/datasets/pis.html#2021_data-collapse)"
   ]
  },
  {
   "attachments": {},
   "cell_type": "markdown",
   "metadata": {},
   "source": [
    "This notebook will explore the publicly released scores from the U.S. Department of Housing and Urban Development's Real Estate Assessment Center (HUD REAC). These scores are derived from physical inspections on HUD properties."
   ]
  },
  {
   "attachments": {},
   "cell_type": "markdown",
   "metadata": {},
   "source": [
    "The goal of this notebook is to aggregate REAC data on a city-by-city basis, so we'll focus on data relevant to that analysis."
   ]
  },
  {
   "attachments": {},
   "cell_type": "markdown",
   "metadata": {},
   "source": [
    "# Loading and cleaning"
   ]
  },
  {
   "cell_type": "code",
   "execution_count": 3,
   "metadata": {},
   "outputs": [],
   "source": [
    "seed = 538"
   ]
  },
  {
   "attachments": {},
   "cell_type": "markdown",
   "metadata": {},
   "source": [
    "Place the data files in the data directory and load into pandas."
   ]
  },
  {
   "cell_type": "code",
   "execution_count": 4,
   "metadata": {},
   "outputs": [],
   "source": [
    "WORKING_DIR = '../data/'\n",
    "MULTIFAMILY_FILES = [\n",
    "    'multifamily_physical_inspection_scores_0321.xlsx',\n",
    "    'multifamily_physical_inspection_scores_0620.xlsx',\n",
    "    'multifamily-physical-inspection-scores-2016.xlsx',\n",
    "    'multifamily-physical-inspection-scores-2018.xlsx',\n",
    "    'multifamily-physical-inspection-scores-2019.xlsx'\n",
    "]\n",
    "\n",
    "PUBLIC_HOUSING_FILES = [\n",
    "    'public_housing_physical_inspection_scores_0321.xlsx',\n",
    "    'public_housing_physical_inspection_scores_0620.xlsx',\n",
    "    'public-housing-physical-inspection-scores-2016.xlsx',\n",
    "    'public-housing-physical-inspection-scores-2018.xlsx',\n",
    "    'public-housing-physical-inspection-scores-2019.xlsx'\n",
    "]"
   ]
  },
  {
   "attachments": {},
   "cell_type": "markdown",
   "metadata": {},
   "source": [
    "The zipcode columns is alternately named ZIP and ZIPCODE. We'll rename all columns labeled ZIPCODE as ZIP for consistency sake."
   ]
  },
  {
   "cell_type": "code",
   "execution_count": 5,
   "metadata": {},
   "outputs": [],
   "source": [
    "multi_dfs = []\n",
    "public_dfs = []\n",
    "\n",
    "for i, public_file in enumerate(PUBLIC_HOUSING_FILES):\n",
    "    public_df = pd.read_excel(WORKING_DIR + public_file)\n",
    "    multi_df = pd.read_excel(WORKING_DIR + MULTIFAMILY_FILES[i])\n",
    "\n",
    "    public_df = public_df.rename(columns={'ZIPCODE': 'ZIP'}, )\n",
    "    multi_df = multi_df.rename(columns={'ZIPCODE': 'ZIP'})\n",
    "\n",
    "    public_dfs.append(public_df)\n",
    "    multi_dfs.append(multi_df)\n",
    "\n",
    "multi = pd.concat(multi_dfs, axis=0)\n",
    "public = pd.concat(public_dfs, axis=0)"
   ]
  },
  {
   "attachments": {},
   "cell_type": "markdown",
   "metadata": {},
   "source": [
    "Because the REAC dataset shows the latest inspection for each property, and we're merging data from multiple years, there will be a significant number of duplicates. We'll drop these. We'll define a duplicate as two inspections with the same INSPECTION_ID."
   ]
  },
  {
   "cell_type": "code",
   "execution_count": 6,
   "metadata": {},
   "outputs": [],
   "source": [
    "multi = multi[~multi.INSPECTION_ID.duplicated()]\n",
    "public = public[~public.INSPECTION_ID.duplicated()]"
   ]
  },
  {
   "cell_type": "code",
   "execution_count": 7,
   "metadata": {},
   "outputs": [
    {
     "name": "stdout",
     "output_type": "stream",
     "text": [
      "<class 'pandas.core.frame.DataFrame'>\n",
      "Int64Index: 63807 entries, 0 to 27876\n",
      "Data columns (total 18 columns):\n",
      " #   Column            Non-Null Count  Dtype  \n",
      "---  ------            --------------  -----  \n",
      " 0   INSPECTION_ID     63807 non-null  int64  \n",
      " 1   PROPERTY_ID       63807 non-null  int64  \n",
      " 2   PROPERTY_NAME     63807 non-null  object \n",
      " 3   ADDRESS           62624 non-null  object \n",
      " 4   CITY              63807 non-null  object \n",
      " 5   CBSA_NAME         58603 non-null  object \n",
      " 6   CBSA_CODE         63777 non-null  float64\n",
      " 7   COUNTY_NAME       63780 non-null  object \n",
      " 8   COUNTY_CODE       63781 non-null  float64\n",
      " 9   STATE_NAME        52362 non-null  object \n",
      " 10  STATE_CODE        63807 non-null  object \n",
      " 11  ZIP               63787 non-null  float64\n",
      " 12  LATITUDE          63781 non-null  float64\n",
      " 13  LONGITUDE         63781 non-null  float64\n",
      " 14  LOCATION_QUALITY  63781 non-null  object \n",
      " 15  INSPECTION_SCORE  63807 non-null  int64  \n",
      " 16  INSPECTION_DATE   63807 non-null  object \n",
      " 17  FIPS_STATE_CODE   11445 non-null  float64\n",
      "dtypes: float64(6), int64(3), object(9)\n",
      "memory usage: 9.2+ MB\n"
     ]
    }
   ],
   "source": [
    "multi.info()"
   ]
  },
  {
   "cell_type": "code",
   "execution_count": 8,
   "metadata": {},
   "outputs": [
    {
     "name": "stdout",
     "output_type": "stream",
     "text": [
      "<class 'pandas.core.frame.DataFrame'>\n",
      "Int64Index: 16962 entries, 0 to 6778\n",
      "Data columns (total 21 columns):\n",
      " #   Column            Non-Null Count  Dtype  \n",
      "---  ------            --------------  -----  \n",
      " 0   INSPECTION_ID     16962 non-null  int64  \n",
      " 1   DEVELOPMENT_ID    16962 non-null  object \n",
      " 2   DEVELOPMENT_NAME  16962 non-null  object \n",
      " 3   ADDRESS           6639 non-null   object \n",
      " 4   CITY              16962 non-null  object \n",
      " 5   CBSA_NAME         14634 non-null  object \n",
      " 6   CBSA_CODE         16956 non-null  float64\n",
      " 7   COUNTY_NAME       16956 non-null  object \n",
      " 8   COUNTY_CODE       16956 non-null  float64\n",
      " 9   STATE_NAME        13420 non-null  object \n",
      " 10  STATE_CODE        16958 non-null  object \n",
      " 11  ZIP               16960 non-null  float64\n",
      " 12  LATITUDE          16956 non-null  float64\n",
      " 13  LONGITUDE         16956 non-null  float64\n",
      " 14  LOCATION_QUALITY  16960 non-null  object \n",
      " 15  PHA_CODE          16962 non-null  object \n",
      " 16  PHA_NAME          16962 non-null  object \n",
      " 17  INSPECTION_SCORE  16962 non-null  int64  \n",
      " 18  INSPECTION_DATE   16962 non-null  object \n",
      " 19  ADDRESS           9954 non-null   object \n",
      " 20  FIPS_STATE_CODE   3542 non-null   float64\n",
      "dtypes: float64(6), int64(2), object(13)\n",
      "memory usage: 2.8+ MB\n"
     ]
    }
   ],
   "source": [
    "public.info()"
   ]
  },
  {
   "attachments": {},
   "cell_type": "markdown",
   "metadata": {},
   "source": [
    "Let's also look at STATE_NAME and STATE_CODE, which has a lot of null values."
   ]
  },
  {
   "cell_type": "code",
   "execution_count": 9,
   "metadata": {},
   "outputs": [
    {
     "data": {
      "text/html": [
       "<div>\n",
       "<style scoped>\n",
       "    .dataframe tbody tr th:only-of-type {\n",
       "        vertical-align: middle;\n",
       "    }\n",
       "\n",
       "    .dataframe tbody tr th {\n",
       "        vertical-align: top;\n",
       "    }\n",
       "\n",
       "    .dataframe thead th {\n",
       "        text-align: right;\n",
       "    }\n",
       "</style>\n",
       "<table border=\"1\" class=\"dataframe\">\n",
       "  <thead>\n",
       "    <tr style=\"text-align: right;\">\n",
       "      <th></th>\n",
       "      <th>STATE_NAME</th>\n",
       "      <th>STATE_CODE</th>\n",
       "    </tr>\n",
       "  </thead>\n",
       "  <tbody>\n",
       "    <tr>\n",
       "      <th>7548</th>\n",
       "      <td>WV</td>\n",
       "      <td>54</td>\n",
       "    </tr>\n",
       "    <tr>\n",
       "      <th>16258</th>\n",
       "      <td>GA</td>\n",
       "      <td>13</td>\n",
       "    </tr>\n",
       "    <tr>\n",
       "      <th>3573</th>\n",
       "      <td>VA</td>\n",
       "      <td>51</td>\n",
       "    </tr>\n",
       "    <tr>\n",
       "      <th>22460</th>\n",
       "      <td>NaN</td>\n",
       "      <td>MA</td>\n",
       "    </tr>\n",
       "    <tr>\n",
       "      <th>4033</th>\n",
       "      <td>AL</td>\n",
       "      <td>1</td>\n",
       "    </tr>\n",
       "  </tbody>\n",
       "</table>\n",
       "</div>"
      ],
      "text/plain": [
       "      STATE_NAME STATE_CODE\n",
       "7548          WV         54\n",
       "16258         GA         13\n",
       "3573          VA         51\n",
       "22460        NaN         MA\n",
       "4033          AL          1"
      ]
     },
     "execution_count": 9,
     "metadata": {},
     "output_type": "execute_result"
    }
   ],
   "source": [
    "multi.sample(n=5, random_state=seed).loc[:, ['STATE_NAME', 'STATE_CODE']]"
   ]
  },
  {
   "cell_type": "code",
   "execution_count": 10,
   "metadata": {},
   "outputs": [
    {
     "data": {
      "text/html": [
       "<div>\n",
       "<style scoped>\n",
       "    .dataframe tbody tr th:only-of-type {\n",
       "        vertical-align: middle;\n",
       "    }\n",
       "\n",
       "    .dataframe tbody tr th {\n",
       "        vertical-align: top;\n",
       "    }\n",
       "\n",
       "    .dataframe thead th {\n",
       "        text-align: right;\n",
       "    }\n",
       "</style>\n",
       "<table border=\"1\" class=\"dataframe\">\n",
       "  <thead>\n",
       "    <tr style=\"text-align: right;\">\n",
       "      <th></th>\n",
       "      <th>STATE_NAME</th>\n",
       "      <th>STATE_CODE</th>\n",
       "    </tr>\n",
       "  </thead>\n",
       "  <tbody>\n",
       "    <tr>\n",
       "      <th>4103</th>\n",
       "      <td>MD</td>\n",
       "      <td>24</td>\n",
       "    </tr>\n",
       "    <tr>\n",
       "      <th>3385</th>\n",
       "      <td>NaN</td>\n",
       "      <td>IN</td>\n",
       "    </tr>\n",
       "    <tr>\n",
       "      <th>615</th>\n",
       "      <td>AL</td>\n",
       "      <td>1</td>\n",
       "    </tr>\n",
       "    <tr>\n",
       "      <th>3059</th>\n",
       "      <td>VA</td>\n",
       "      <td>51.0</td>\n",
       "    </tr>\n",
       "    <tr>\n",
       "      <th>6652</th>\n",
       "      <td>NaN</td>\n",
       "      <td>VA</td>\n",
       "    </tr>\n",
       "  </tbody>\n",
       "</table>\n",
       "</div>"
      ],
      "text/plain": [
       "     STATE_NAME STATE_CODE\n",
       "4103         MD         24\n",
       "3385        NaN         IN\n",
       "615          AL          1\n",
       "3059         VA       51.0\n",
       "6652        NaN         VA"
      ]
     },
     "execution_count": 10,
     "metadata": {},
     "output_type": "execute_result"
    }
   ],
   "source": [
    "public.sample(n=5, random_state=seed).loc[:, ['STATE_NAME', 'STATE_CODE']]"
   ]
  },
  {
   "attachments": {},
   "cell_type": "markdown",
   "metadata": {},
   "source": [
    "We also have two different state code formats. We'll combine these into a single column with only the two-letter state codes."
   ]
  },
  {
   "cell_type": "code",
   "execution_count": 11,
   "metadata": {},
   "outputs": [],
   "source": [
    "def combine_columns(row):\n",
    "    if pd.isnull(row['STATE_NAME']):\n",
    "        return row['STATE_CODE']\n",
    "    else:\n",
    "        return row['STATE_NAME']\n",
    "\n",
    "public['STATE'] = public.apply(combine_columns, axis=1)\n",
    "multi['STATE'] = multi.apply(combine_columns, axis=1)\n",
    "\n",
    "public = public.drop(columns=['STATE_NAME', 'STATE_CODE'])\n",
    "multi = multi.drop(columns=['STATE_NAME', 'STATE_CODE'])"
   ]
  },
  {
   "attachments": {},
   "cell_type": "markdown",
   "metadata": {},
   "source": [
    "Let's look again to see what nulls are left."
   ]
  },
  {
   "cell_type": "code",
   "execution_count": 12,
   "metadata": {},
   "outputs": [
    {
     "name": "stdout",
     "output_type": "stream",
     "text": [
      "<class 'pandas.core.frame.DataFrame'>\n",
      "Int64Index: 16962 entries, 0 to 6778\n",
      "Data columns (total 20 columns):\n",
      " #   Column            Non-Null Count  Dtype  \n",
      "---  ------            --------------  -----  \n",
      " 0   INSPECTION_ID     16962 non-null  int64  \n",
      " 1   DEVELOPMENT_ID    16962 non-null  object \n",
      " 2   DEVELOPMENT_NAME  16962 non-null  object \n",
      " 3   ADDRESS           6639 non-null   object \n",
      " 4   CITY              16962 non-null  object \n",
      " 5   CBSA_NAME         14634 non-null  object \n",
      " 6   CBSA_CODE         16956 non-null  float64\n",
      " 7   COUNTY_NAME       16956 non-null  object \n",
      " 8   COUNTY_CODE       16956 non-null  float64\n",
      " 9   ZIP               16960 non-null  float64\n",
      " 10  LATITUDE          16956 non-null  float64\n",
      " 11  LONGITUDE         16956 non-null  float64\n",
      " 12  LOCATION_QUALITY  16960 non-null  object \n",
      " 13  PHA_CODE          16962 non-null  object \n",
      " 14  PHA_NAME          16962 non-null  object \n",
      " 15  INSPECTION_SCORE  16962 non-null  int64  \n",
      " 16  INSPECTION_DATE   16962 non-null  object \n",
      " 17  ADDRESS           9954 non-null   object \n",
      " 18  FIPS_STATE_CODE   3542 non-null   float64\n",
      " 19  STATE             16962 non-null  object \n",
      "dtypes: float64(6), int64(2), object(12)\n",
      "memory usage: 2.7+ MB\n"
     ]
    }
   ],
   "source": [
    "public.info()"
   ]
  },
  {
   "cell_type": "code",
   "execution_count": 13,
   "metadata": {},
   "outputs": [
    {
     "name": "stdout",
     "output_type": "stream",
     "text": [
      "<class 'pandas.core.frame.DataFrame'>\n",
      "Int64Index: 63807 entries, 0 to 27876\n",
      "Data columns (total 17 columns):\n",
      " #   Column            Non-Null Count  Dtype  \n",
      "---  ------            --------------  -----  \n",
      " 0   INSPECTION_ID     63807 non-null  int64  \n",
      " 1   PROPERTY_ID       63807 non-null  int64  \n",
      " 2   PROPERTY_NAME     63807 non-null  object \n",
      " 3   ADDRESS           62624 non-null  object \n",
      " 4   CITY              63807 non-null  object \n",
      " 5   CBSA_NAME         58603 non-null  object \n",
      " 6   CBSA_CODE         63777 non-null  float64\n",
      " 7   COUNTY_NAME       63780 non-null  object \n",
      " 8   COUNTY_CODE       63781 non-null  float64\n",
      " 9   ZIP               63787 non-null  float64\n",
      " 10  LATITUDE          63781 non-null  float64\n",
      " 11  LONGITUDE         63781 non-null  float64\n",
      " 12  LOCATION_QUALITY  63781 non-null  object \n",
      " 13  INSPECTION_SCORE  63807 non-null  int64  \n",
      " 14  INSPECTION_DATE   63807 non-null  object \n",
      " 15  FIPS_STATE_CODE   11445 non-null  float64\n",
      " 16  STATE             63807 non-null  object \n",
      "dtypes: float64(6), int64(3), object(8)\n",
      "memory usage: 8.8+ MB\n"
     ]
    }
   ],
   "source": [
    "multi.info()"
   ]
  },
  {
   "attachments": {},
   "cell_type": "markdown",
   "metadata": {},
   "source": [
    "We have no nulls in CITY and STATE. Let's look at the remaining nulls in ZIP."
   ]
  },
  {
   "cell_type": "code",
   "execution_count": 14,
   "metadata": {},
   "outputs": [
    {
     "name": "stdout",
     "output_type": "stream",
     "text": [
      "2\n",
      "Unique states represented among null zipcodes: ['PR']\n"
     ]
    }
   ],
   "source": [
    "print(len(public[public.ZIP.isna()]))\n",
    "print('Unique states represented among null zipcodes:', public[public.ZIP.isna()].STATE.unique())"
   ]
  },
  {
   "cell_type": "code",
   "execution_count": 15,
   "metadata": {},
   "outputs": [
    {
     "name": "stdout",
     "output_type": "stream",
     "text": [
      "20\n",
      "Unique states represented among null zipcodes: ['MA' 'PR' 'NJ' 'VA' 'GA' 'WY' 'TN' 'OH' 'CA' 'DC' 'UT']\n"
     ]
    }
   ],
   "source": [
    "print(len(multi[multi.ZIP.isna()]))\n",
    "print('Unique states represented among null zipcodes:', multi[multi.ZIP.isna()].STATE.unique())"
   ]
  },
  {
   "attachments": {},
   "cell_type": "markdown",
   "metadata": {},
   "source": [
    "Standardize the city names to be upper-case."
   ]
  },
  {
   "cell_type": "code",
   "execution_count": 16,
   "metadata": {},
   "outputs": [],
   "source": [
    "multi.CITY = multi.CITY.str.upper()\n",
    "public.CITY = public.CITY.str.upper()"
   ]
  },
  {
   "attachments": {},
   "cell_type": "markdown",
   "metadata": {},
   "source": [
    "We have a small number of inspection without zipcode data. We'll leave these for now, and see if we can perform the spatial join without the zipcode data."
   ]
  },
  {
   "attachments": {},
   "cell_type": "markdown",
   "metadata": {},
   "source": [
    "We'll convert the datetimes to a standard format."
   ]
  },
  {
   "cell_type": "code",
   "execution_count": 17,
   "metadata": {},
   "outputs": [],
   "source": [
    "public['INSPECTION_DATE'] = pd.to_datetime(public['INSPECTION_DATE'], infer_datetime_format=True)\n",
    "multi['INSPECTION_DATE'] = pd.to_datetime(multi['INSPECTION_DATE'], infer_datetime_format=True)"
   ]
  },
  {
   "attachments": {},
   "cell_type": "markdown",
   "metadata": {},
   "source": [
    "Let's check to see if we have any cities in the same state with the same name. We'll check this using latitude and longitude."
   ]
  },
  {
   "cell_type": "code",
   "execution_count": 18,
   "metadata": {},
   "outputs": [],
   "source": [
    "multi_citystate = multi.loc[:, ['CITY', 'STATE']]\n",
    "multi_unique_locs = multi_citystate[~multi_citystate.duplicated()].values.tolist()"
   ]
  },
  {
   "attachments": {},
   "cell_type": "markdown",
   "metadata": {},
   "source": [
    "Let's look at this distribution of scores by date range."
   ]
  },
  {
   "cell_type": "code",
   "execution_count": 23,
   "metadata": {},
   "outputs": [
    {
     "data": {
      "text/plain": [
       "INSPECTION_DATE\n",
       "2013     2949\n",
       "2014     8542\n",
       "2015    10762\n",
       "2016     9104\n",
       "2017     7471\n",
       "2018    11856\n",
       "2019    11286\n",
       "2020     1835\n",
       "2021        2\n",
       "dtype: int64"
      ]
     },
     "execution_count": 23,
     "metadata": {},
     "output_type": "execute_result"
    }
   ],
   "source": [
    "multi.groupby(by=multi.INSPECTION_DATE.dt.year).size()"
   ]
  },
  {
   "cell_type": "code",
   "execution_count": 26,
   "metadata": {},
   "outputs": [
    {
     "data": {
      "text/plain": [
       "INSPECTION_DATE\n",
       "2005       1\n",
       "2012       5\n",
       "2013     336\n",
       "2014    1739\n",
       "2015    3272\n",
       "2016    2424\n",
       "2017    3302\n",
       "2018    2438\n",
       "2019    2566\n",
       "2020     879\n",
       "dtype: int64"
      ]
     },
     "execution_count": 26,
     "metadata": {},
     "output_type": "execute_result"
    }
   ],
   "source": [
    "public.groupby(by=public.INSPECTION_DATE.dt.year).size()"
   ]
  },
  {
   "attachments": {},
   "cell_type": "markdown",
   "metadata": {},
   "source": [
    "The bulk of inspections in the dataset occurred between 2013 and 2020, with a drop-off when the 2019 pandemic started. "
   ]
  },
  {
   "attachments": {},
   "cell_type": "markdown",
   "metadata": {},
   "source": [
    "### Note: there are a few values that have mismatch between coordinates and the listed address, or that are an outlier in terms of min/max latitude/longitude. We can remove these, although there are likely not too many values.\n",
    "\n",
    "In general, a spread-out city like KCMO might vary by about 1 latitude point from top to bottom."
   ]
  },
  {
   "cell_type": "code",
   "execution_count": 195,
   "metadata": {},
   "outputs": [],
   "source": [
    "max_lats = []\n",
    "max_longs = []\n",
    "\n",
    "for city, state in multi_unique_locs:\n",
    "    city_mask = multi.CITY == city\n",
    "    state_mask = multi.STATE == state\n",
    "    multi_sub = multi[city_mask & state_mask]\n",
    "    max_lats.append((city, state, multi_sub.LATITUDE.max() - multi_sub.LATITUDE.min()))\n",
    "    max_longs.append((city, state, multi_sub.LONGITUDE.max() - multi_sub.LONGITUDE.min()))"
   ]
  },
  {
   "cell_type": "code",
   "execution_count": 199,
   "metadata": {},
   "outputs": [
    {
     "data": {
      "text/plain": [
       "[('WINCHESTER', 'VA', 1.9351839999999996),\n",
       " ('HAMILTON TOWNSHIP', 'NJ', 0.8900429999999986),\n",
       " ('REDLANDS', 'CA', 0.8825670000000017),\n",
       " ('SAINT THOMAS', 'VI', 0.6152999999999977),\n",
       " ('NASHVILLE', 'TN', 0.45262400000000014),\n",
       " ('HOUSTON', 'TX', 0.4393570000000011),\n",
       " ('FAITH', 'SD', 0.43188200000000165),\n",
       " ('SAN DIEGO', 'CA', 0.40525399999999934),\n",
       " ('KANSAS CITY', 'MO', 0.40067200000000014),\n",
       " ('MIAMI', 'FL', 0.40031199999999956)]"
      ]
     },
     "execution_count": 199,
     "metadata": {},
     "output_type": "execute_result"
    }
   ],
   "source": [
    "sorted(max_lats, key=lambda x: x[2], reverse=True)[:10]"
   ]
  },
  {
   "attachments": {},
   "cell_type": "markdown",
   "metadata": {},
   "source": [
    "The top value has an incorrect latitude and longitude, but the address is valid."
   ]
  },
  {
   "cell_type": "code",
   "execution_count": 191,
   "metadata": {},
   "outputs": [
    {
     "data": {
      "text/html": [
       "<div>\n",
       "<style scoped>\n",
       "    .dataframe tbody tr th:only-of-type {\n",
       "        vertical-align: middle;\n",
       "    }\n",
       "\n",
       "    .dataframe tbody tr th {\n",
       "        vertical-align: top;\n",
       "    }\n",
       "\n",
       "    .dataframe thead th {\n",
       "        text-align: right;\n",
       "    }\n",
       "</style>\n",
       "<table border=\"1\" class=\"dataframe\">\n",
       "  <thead>\n",
       "    <tr style=\"text-align: right;\">\n",
       "      <th></th>\n",
       "      <th>INSPECTION_ID</th>\n",
       "      <th>PROPERTY_ID</th>\n",
       "      <th>PROPERTY_NAME</th>\n",
       "      <th>ADDRESS</th>\n",
       "      <th>CITY</th>\n",
       "      <th>CBSA_NAME</th>\n",
       "      <th>CBSA_CODE</th>\n",
       "      <th>COUNTY_NAME</th>\n",
       "      <th>COUNTY_CODE</th>\n",
       "      <th>ZIP</th>\n",
       "      <th>LATITUDE</th>\n",
       "      <th>LONGITUDE</th>\n",
       "      <th>LOCATION_QUALITY</th>\n",
       "      <th>INSPECTION_SCORE</th>\n",
       "      <th>INSPECTION_DATE</th>\n",
       "      <th>FIPS_STATE_CODE</th>\n",
       "      <th>STATE</th>\n",
       "    </tr>\n",
       "  </thead>\n",
       "  <tbody>\n",
       "    <tr>\n",
       "      <th>7934</th>\n",
       "      <td>597035</td>\n",
       "      <td>800225812</td>\n",
       "      <td>Spring Arbor5-Winchester</td>\n",
       "      <td>Echo Lane and Northwestern Pike</td>\n",
       "      <td>WINCHESTER</td>\n",
       "      <td>Blacksburg-Christiansburg, VA Metropolitan Sta...</td>\n",
       "      <td>13980.0</td>\n",
       "      <td>Montgomery</td>\n",
       "      <td>121.0</td>\n",
       "      <td>24060.0</td>\n",
       "      <td>37.248300</td>\n",
       "      <td>-80.462400</td>\n",
       "      <td>T</td>\n",
       "      <td>84</td>\n",
       "      <td>2018-10-09</td>\n",
       "      <td>NaN</td>\n",
       "      <td>VA</td>\n",
       "    </tr>\n",
       "    <tr>\n",
       "      <th>8153</th>\n",
       "      <td>598681</td>\n",
       "      <td>800061972</td>\n",
       "      <td>THE WILLOWS AT MEADOW BRANCH</td>\n",
       "      <td>1881 Harvest Dr</td>\n",
       "      <td>WINCHESTER</td>\n",
       "      <td>Winchester, VA-WV Metropolitan Statistical Area</td>\n",
       "      <td>49020.0</td>\n",
       "      <td>Winchester</td>\n",
       "      <td>840.0</td>\n",
       "      <td>22601.0</td>\n",
       "      <td>39.169797</td>\n",
       "      <td>-78.185480</td>\n",
       "      <td>R</td>\n",
       "      <td>84</td>\n",
       "      <td>2019-03-08</td>\n",
       "      <td>NaN</td>\n",
       "      <td>VA</td>\n",
       "    </tr>\n",
       "    <tr>\n",
       "      <th>14617</th>\n",
       "      <td>542708</td>\n",
       "      <td>800061972</td>\n",
       "      <td>THE WILLOWS AT MEADOW BRANCH</td>\n",
       "      <td>1881 Harvest Dr</td>\n",
       "      <td>WINCHESTER</td>\n",
       "      <td>Winchester, VA-WV Metropolitan Statistical Area</td>\n",
       "      <td>49020.0</td>\n",
       "      <td>Winchester</td>\n",
       "      <td>840.0</td>\n",
       "      <td>22601.0</td>\n",
       "      <td>39.169813</td>\n",
       "      <td>-78.185438</td>\n",
       "      <td>R</td>\n",
       "      <td>83</td>\n",
       "      <td>2015-04-09</td>\n",
       "      <td>NaN</td>\n",
       "      <td>VA</td>\n",
       "    </tr>\n",
       "    <tr>\n",
       "      <th>23302</th>\n",
       "      <td>594561</td>\n",
       "      <td>800061972</td>\n",
       "      <td>THE WILLOWS AT MEADOW BRANCH</td>\n",
       "      <td>1881 Harvest Dr</td>\n",
       "      <td>WINCHESTER</td>\n",
       "      <td>Winchester, VA-WV Metropolitan Statistical Area</td>\n",
       "      <td>49020.0</td>\n",
       "      <td>Winchester</td>\n",
       "      <td>840.0</td>\n",
       "      <td>22601.0</td>\n",
       "      <td>39.169813</td>\n",
       "      <td>-78.185438</td>\n",
       "      <td>R</td>\n",
       "      <td>81</td>\n",
       "      <td>2017-03-16</td>\n",
       "      <td>51.0</td>\n",
       "      <td>VA</td>\n",
       "    </tr>\n",
       "    <tr>\n",
       "      <th>10538</th>\n",
       "      <td>612725</td>\n",
       "      <td>800022156</td>\n",
       "      <td>WINCHESTER HOUSE</td>\n",
       "      <td>27 S Cameron St</td>\n",
       "      <td>WINCHESTER</td>\n",
       "      <td>Winchester, VA-WV Metropolitan Statistical Area</td>\n",
       "      <td>49020.0</td>\n",
       "      <td>Winchester</td>\n",
       "      <td>840.0</td>\n",
       "      <td>22601.0</td>\n",
       "      <td>39.183454</td>\n",
       "      <td>-78.164480</td>\n",
       "      <td>R</td>\n",
       "      <td>87</td>\n",
       "      <td>2018-02-14</td>\n",
       "      <td>NaN</td>\n",
       "      <td>VA</td>\n",
       "    </tr>\n",
       "    <tr>\n",
       "      <th>21961</th>\n",
       "      <td>558503</td>\n",
       "      <td>800022156</td>\n",
       "      <td>WINCHESTER HOUSE</td>\n",
       "      <td>27 S Cameron St</td>\n",
       "      <td>WINCHESTER</td>\n",
       "      <td>Winchester, VA-WV Metropolitan Statistical Area</td>\n",
       "      <td>49020.0</td>\n",
       "      <td>Winchester</td>\n",
       "      <td>840.0</td>\n",
       "      <td>22601.0</td>\n",
       "      <td>39.183484</td>\n",
       "      <td>-78.164469</td>\n",
       "      <td>R</td>\n",
       "      <td>88</td>\n",
       "      <td>2015-10-19</td>\n",
       "      <td>NaN</td>\n",
       "      <td>VA</td>\n",
       "    </tr>\n",
       "  </tbody>\n",
       "</table>\n",
       "</div>"
      ],
      "text/plain": [
       "       INSPECTION_ID  PROPERTY_ID                 PROPERTY_NAME  \\\n",
       "7934          597035    800225812      Spring Arbor5-Winchester   \n",
       "8153          598681    800061972  THE WILLOWS AT MEADOW BRANCH   \n",
       "14617         542708    800061972  THE WILLOWS AT MEADOW BRANCH   \n",
       "23302         594561    800061972  THE WILLOWS AT MEADOW BRANCH   \n",
       "10538         612725    800022156              WINCHESTER HOUSE   \n",
       "21961         558503    800022156              WINCHESTER HOUSE   \n",
       "\n",
       "                               ADDRESS        CITY  \\\n",
       "7934   Echo Lane and Northwestern Pike  WINCHESTER   \n",
       "8153                   1881 Harvest Dr  WINCHESTER   \n",
       "14617                  1881 Harvest Dr  WINCHESTER   \n",
       "23302                  1881 Harvest Dr  WINCHESTER   \n",
       "10538                  27 S Cameron St  WINCHESTER   \n",
       "21961                  27 S Cameron St  WINCHESTER   \n",
       "\n",
       "                                               CBSA_NAME  CBSA_CODE  \\\n",
       "7934   Blacksburg-Christiansburg, VA Metropolitan Sta...    13980.0   \n",
       "8153     Winchester, VA-WV Metropolitan Statistical Area    49020.0   \n",
       "14617    Winchester, VA-WV Metropolitan Statistical Area    49020.0   \n",
       "23302    Winchester, VA-WV Metropolitan Statistical Area    49020.0   \n",
       "10538    Winchester, VA-WV Metropolitan Statistical Area    49020.0   \n",
       "21961    Winchester, VA-WV Metropolitan Statistical Area    49020.0   \n",
       "\n",
       "      COUNTY_NAME  COUNTY_CODE      ZIP   LATITUDE  LONGITUDE  \\\n",
       "7934   Montgomery        121.0  24060.0  37.248300 -80.462400   \n",
       "8153   Winchester        840.0  22601.0  39.169797 -78.185480   \n",
       "14617  Winchester        840.0  22601.0  39.169813 -78.185438   \n",
       "23302  Winchester        840.0  22601.0  39.169813 -78.185438   \n",
       "10538  Winchester        840.0  22601.0  39.183454 -78.164480   \n",
       "21961  Winchester        840.0  22601.0  39.183484 -78.164469   \n",
       "\n",
       "      LOCATION_QUALITY  INSPECTION_SCORE INSPECTION_DATE  FIPS_STATE_CODE  \\\n",
       "7934                 T                84      2018-10-09              NaN   \n",
       "8153                 R                84      2019-03-08              NaN   \n",
       "14617                R                83      2015-04-09              NaN   \n",
       "23302                R                81      2017-03-16             51.0   \n",
       "10538                R                87      2018-02-14              NaN   \n",
       "21961                R                88      2015-10-19              NaN   \n",
       "\n",
       "      STATE  \n",
       "7934     VA  \n",
       "8153     VA  \n",
       "14617    VA  \n",
       "23302    VA  \n",
       "10538    VA  \n",
       "21961    VA  "
      ]
     },
     "execution_count": 191,
     "metadata": {},
     "output_type": "execute_result"
    }
   ],
   "source": [
    "city_mask = multi.CITY == 'WINCHESTER'\n",
    "state_mask = multi.STATE == 'VA'\n",
    "\n",
    "multi[city_mask & state_mask].sort_values(by='LATITUDE')"
   ]
  },
  {
   "attachments": {},
   "cell_type": "markdown",
   "metadata": {},
   "source": [
    "The top value is miscoded as being in Hamilton Township when it's not, which results in a high latitude rating"
   ]
  },
  {
   "cell_type": "code",
   "execution_count": 192,
   "metadata": {},
   "outputs": [
    {
     "data": {
      "text/html": [
       "<div>\n",
       "<style scoped>\n",
       "    .dataframe tbody tr th:only-of-type {\n",
       "        vertical-align: middle;\n",
       "    }\n",
       "\n",
       "    .dataframe tbody tr th {\n",
       "        vertical-align: top;\n",
       "    }\n",
       "\n",
       "    .dataframe thead th {\n",
       "        text-align: right;\n",
       "    }\n",
       "</style>\n",
       "<table border=\"1\" class=\"dataframe\">\n",
       "  <thead>\n",
       "    <tr style=\"text-align: right;\">\n",
       "      <th></th>\n",
       "      <th>INSPECTION_ID</th>\n",
       "      <th>PROPERTY_ID</th>\n",
       "      <th>PROPERTY_NAME</th>\n",
       "      <th>ADDRESS</th>\n",
       "      <th>CITY</th>\n",
       "      <th>CBSA_NAME</th>\n",
       "      <th>CBSA_CODE</th>\n",
       "      <th>COUNTY_NAME</th>\n",
       "      <th>COUNTY_CODE</th>\n",
       "      <th>ZIP</th>\n",
       "      <th>LATITUDE</th>\n",
       "      <th>LONGITUDE</th>\n",
       "      <th>LOCATION_QUALITY</th>\n",
       "      <th>INSPECTION_SCORE</th>\n",
       "      <th>INSPECTION_DATE</th>\n",
       "      <th>FIPS_STATE_CODE</th>\n",
       "      <th>STATE</th>\n",
       "    </tr>\n",
       "  </thead>\n",
       "  <tbody>\n",
       "    <tr>\n",
       "      <th>4433</th>\n",
       "      <td>585235</td>\n",
       "      <td>800059453</td>\n",
       "      <td>HARDINGS RUN SUPERVISED APTS.</td>\n",
       "      <td>4433 Yorktown Place</td>\n",
       "      <td>HAMILTON TOWNSHIP</td>\n",
       "      <td>Atlantic City-Hammonton, NJ Metropolitan Stati...</td>\n",
       "      <td>12100.0</td>\n",
       "      <td>Atlantic</td>\n",
       "      <td>1.0</td>\n",
       "      <td>8244.0</td>\n",
       "      <td>39.322400</td>\n",
       "      <td>-74.589300</td>\n",
       "      <td>T</td>\n",
       "      <td>96</td>\n",
       "      <td>2016-12-13</td>\n",
       "      <td>NaN</td>\n",
       "      <td>NJ</td>\n",
       "    </tr>\n",
       "    <tr>\n",
       "      <th>3678</th>\n",
       "      <td>514237</td>\n",
       "      <td>800014163</td>\n",
       "      <td>Hamilton Supervised Apartments</td>\n",
       "      <td>196 Route 156</td>\n",
       "      <td>HAMILTON TOWNSHIP</td>\n",
       "      <td>Trenton, NJ Metropolitan Statistical Area</td>\n",
       "      <td>45940.0</td>\n",
       "      <td>Mercer</td>\n",
       "      <td>21.0</td>\n",
       "      <td>8620.0</td>\n",
       "      <td>40.180286</td>\n",
       "      <td>-74.667300</td>\n",
       "      <td>R</td>\n",
       "      <td>94</td>\n",
       "      <td>2013-12-19</td>\n",
       "      <td>NaN</td>\n",
       "      <td>NJ</td>\n",
       "    </tr>\n",
       "    <tr>\n",
       "      <th>17169</th>\n",
       "      <td>633139</td>\n",
       "      <td>800014163</td>\n",
       "      <td>Hamilton Supervised Apartments</td>\n",
       "      <td>196 Route 156</td>\n",
       "      <td>HAMILTON TOWNSHIP</td>\n",
       "      <td>Trenton-Princeton, NJ Metropolitan Statistical...</td>\n",
       "      <td>45940.0</td>\n",
       "      <td>Mercer</td>\n",
       "      <td>21.0</td>\n",
       "      <td>8620.0</td>\n",
       "      <td>40.180292</td>\n",
       "      <td>-74.667289</td>\n",
       "      <td>R</td>\n",
       "      <td>82</td>\n",
       "      <td>2018-12-06</td>\n",
       "      <td>NaN</td>\n",
       "      <td>NJ</td>\n",
       "    </tr>\n",
       "    <tr>\n",
       "      <th>19126</th>\n",
       "      <td>584612</td>\n",
       "      <td>800014163</td>\n",
       "      <td>Hamilton Supervised Apartments</td>\n",
       "      <td>196 Route 156</td>\n",
       "      <td>HAMILTON TOWNSHIP</td>\n",
       "      <td>Trenton, NJ Metropolitan Statistical Area</td>\n",
       "      <td>45940.0</td>\n",
       "      <td>Mercer</td>\n",
       "      <td>21.0</td>\n",
       "      <td>8620.0</td>\n",
       "      <td>40.180292</td>\n",
       "      <td>-74.667289</td>\n",
       "      <td>R</td>\n",
       "      <td>85</td>\n",
       "      <td>2016-12-16</td>\n",
       "      <td>34.0</td>\n",
       "      <td>NJ</td>\n",
       "    </tr>\n",
       "    <tr>\n",
       "      <th>17163</th>\n",
       "      <td>633129</td>\n",
       "      <td>800014161</td>\n",
       "      <td>HAMILTON GROUP HOME</td>\n",
       "      <td>1330 Cedar Ln</td>\n",
       "      <td>HAMILTON TOWNSHIP</td>\n",
       "      <td>Trenton-Princeton, NJ Metropolitan Statistical...</td>\n",
       "      <td>45940.0</td>\n",
       "      <td>Mercer</td>\n",
       "      <td>21.0</td>\n",
       "      <td>8610.0</td>\n",
       "      <td>40.212431</td>\n",
       "      <td>-74.724466</td>\n",
       "      <td>R</td>\n",
       "      <td>59</td>\n",
       "      <td>2018-12-10</td>\n",
       "      <td>NaN</td>\n",
       "      <td>NJ</td>\n",
       "    </tr>\n",
       "    <tr>\n",
       "      <th>3671</th>\n",
       "      <td>514211</td>\n",
       "      <td>800014161</td>\n",
       "      <td>HAMILTON GROUP HOME</td>\n",
       "      <td>1330 Cedar Ln</td>\n",
       "      <td>HAMILTON TOWNSHIP</td>\n",
       "      <td>Trenton, NJ Metropolitan Statistical Area</td>\n",
       "      <td>45940.0</td>\n",
       "      <td>Mercer</td>\n",
       "      <td>21.0</td>\n",
       "      <td>8610.0</td>\n",
       "      <td>40.212443</td>\n",
       "      <td>-74.724456</td>\n",
       "      <td>R</td>\n",
       "      <td>99</td>\n",
       "      <td>2013-12-19</td>\n",
       "      <td>NaN</td>\n",
       "      <td>NJ</td>\n",
       "    </tr>\n",
       "    <tr>\n",
       "      <th>19152</th>\n",
       "      <td>584647</td>\n",
       "      <td>800014161</td>\n",
       "      <td>HAMILTON GROUP HOME</td>\n",
       "      <td>1330 Cedar Ln</td>\n",
       "      <td>HAMILTON TOWNSHIP</td>\n",
       "      <td>Trenton, NJ Metropolitan Statistical Area</td>\n",
       "      <td>45940.0</td>\n",
       "      <td>Mercer</td>\n",
       "      <td>21.0</td>\n",
       "      <td>8610.0</td>\n",
       "      <td>40.212443</td>\n",
       "      <td>-74.724456</td>\n",
       "      <td>R</td>\n",
       "      <td>85</td>\n",
       "      <td>2016-12-15</td>\n",
       "      <td>34.0</td>\n",
       "      <td>NJ</td>\n",
       "    </tr>\n",
       "  </tbody>\n",
       "</table>\n",
       "</div>"
      ],
      "text/plain": [
       "       INSPECTION_ID  PROPERTY_ID                   PROPERTY_NAME  \\\n",
       "4433          585235    800059453   HARDINGS RUN SUPERVISED APTS.   \n",
       "3678          514237    800014163  Hamilton Supervised Apartments   \n",
       "17169         633139    800014163  Hamilton Supervised Apartments   \n",
       "19126         584612    800014163  Hamilton Supervised Apartments   \n",
       "17163         633129    800014161             HAMILTON GROUP HOME   \n",
       "3671          514211    800014161             HAMILTON GROUP HOME   \n",
       "19152         584647    800014161             HAMILTON GROUP HOME   \n",
       "\n",
       "                   ADDRESS               CITY  \\\n",
       "4433   4433 Yorktown Place  HAMILTON TOWNSHIP   \n",
       "3678         196 Route 156  HAMILTON TOWNSHIP   \n",
       "17169        196 Route 156  HAMILTON TOWNSHIP   \n",
       "19126        196 Route 156  HAMILTON TOWNSHIP   \n",
       "17163        1330 Cedar Ln  HAMILTON TOWNSHIP   \n",
       "3671         1330 Cedar Ln  HAMILTON TOWNSHIP   \n",
       "19152        1330 Cedar Ln  HAMILTON TOWNSHIP   \n",
       "\n",
       "                                               CBSA_NAME  CBSA_CODE  \\\n",
       "4433   Atlantic City-Hammonton, NJ Metropolitan Stati...    12100.0   \n",
       "3678           Trenton, NJ Metropolitan Statistical Area    45940.0   \n",
       "17169  Trenton-Princeton, NJ Metropolitan Statistical...    45940.0   \n",
       "19126          Trenton, NJ Metropolitan Statistical Area    45940.0   \n",
       "17163  Trenton-Princeton, NJ Metropolitan Statistical...    45940.0   \n",
       "3671           Trenton, NJ Metropolitan Statistical Area    45940.0   \n",
       "19152          Trenton, NJ Metropolitan Statistical Area    45940.0   \n",
       "\n",
       "      COUNTY_NAME  COUNTY_CODE     ZIP   LATITUDE  LONGITUDE LOCATION_QUALITY  \\\n",
       "4433     Atlantic          1.0  8244.0  39.322400 -74.589300                T   \n",
       "3678       Mercer         21.0  8620.0  40.180286 -74.667300                R   \n",
       "17169      Mercer         21.0  8620.0  40.180292 -74.667289                R   \n",
       "19126      Mercer         21.0  8620.0  40.180292 -74.667289                R   \n",
       "17163      Mercer         21.0  8610.0  40.212431 -74.724466                R   \n",
       "3671       Mercer         21.0  8610.0  40.212443 -74.724456                R   \n",
       "19152      Mercer         21.0  8610.0  40.212443 -74.724456                R   \n",
       "\n",
       "       INSPECTION_SCORE INSPECTION_DATE  FIPS_STATE_CODE STATE  \n",
       "4433                 96      2016-12-13              NaN    NJ  \n",
       "3678                 94      2013-12-19              NaN    NJ  \n",
       "17169                82      2018-12-06              NaN    NJ  \n",
       "19126                85      2016-12-16             34.0    NJ  \n",
       "17163                59      2018-12-10              NaN    NJ  \n",
       "3671                 99      2013-12-19              NaN    NJ  \n",
       "19152                85      2016-12-15             34.0    NJ  "
      ]
     },
     "execution_count": 192,
     "metadata": {},
     "output_type": "execute_result"
    }
   ],
   "source": [
    "city_mask = multi.CITY == 'HAMILTON TOWNSHIP'\n",
    "state_mask = multi.STATE == 'NJ'\n",
    "\n",
    "multi[city_mask & state_mask].sort_values(by='LATITUDE')"
   ]
  },
  {
   "cell_type": "code",
   "execution_count": 197,
   "metadata": {},
   "outputs": [
    {
     "data": {
      "text/plain": [
       "[('TAMUNING', 'GU', 289.606548),\n",
       " ('WINCHESTER', 'VA', 2.2979310000000055),\n",
       " ('FAITH', 'SD', 0.6390240000000063),\n",
       " ('BARRANQUITAS', 'PR', 0.6384999999999934),\n",
       " ('HOUSTON', 'TX', 0.5910080000000022)]"
      ]
     },
     "execution_count": 197,
     "metadata": {},
     "output_type": "execute_result"
    }
   ],
   "source": [
    "sorted(max_longs, key=lambda x: x[2], reverse=True)[:5]"
   ]
  }
 ],
 "metadata": {
  "kernelspec": {
   "display_name": "base",
   "language": "python",
   "name": "python3"
  },
  "language_info": {
   "codemirror_mode": {
    "name": "ipython",
    "version": 3
   },
   "file_extension": ".py",
   "mimetype": "text/x-python",
   "name": "python",
   "nbconvert_exporter": "python",
   "pygments_lexer": "ipython3",
   "version": "3.9.13"
  },
  "orig_nbformat": 4
 },
 "nbformat": 4,
 "nbformat_minor": 2
}
